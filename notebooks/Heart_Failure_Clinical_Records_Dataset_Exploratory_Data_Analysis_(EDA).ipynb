{
  "cells": [
    {
      "cell_type": "markdown",
      "metadata": {
        "id": "ZWP_Qg6FELOc"
      },
      "source": [
        "#  **Heart Failure Clinical Records Dataset Exploratory Data Analysis (EDA)**\n",
        "\n",
        "**Objective**  \n",
        "Gain deep insight into the UCI Heart Failure Clinical Records dataset before modeling."
      ]
    },
    {
      "cell_type": "code",
      "execution_count": 1,
      "metadata": {
        "colab": {
          "base_uri": "https://localhost:8080/"
        },
        "id": "qrJ6JTzsF3ex",
        "outputId": "b31dbadc-4ea3-4fb4-eedb-41038adf4eab"
      },
      "outputs": [
        {
          "name": "stdout",
          "output_type": "stream",
          "text": [
            "Requirement already satisfied: jupyter_dash in /home/kali/anaconda3/lib/python3.12/site-packages (0.4.2)\n",
            "Requirement already satisfied: ucimlrepo in /home/kali/anaconda3/lib/python3.12/site-packages (0.0.7)\n",
            "Requirement already satisfied: dash in /home/kali/anaconda3/lib/python3.12/site-packages (from jupyter_dash) (3.0.2)\n",
            "Requirement already satisfied: requests in /home/kali/anaconda3/lib/python3.12/site-packages (from jupyter_dash) (2.32.3)\n",
            "Requirement already satisfied: flask in /home/kali/anaconda3/lib/python3.12/site-packages (from jupyter_dash) (3.0.3)\n",
            "Requirement already satisfied: retrying in /home/kali/anaconda3/lib/python3.12/site-packages (from jupyter_dash) (1.3.4)\n",
            "Requirement already satisfied: ipython in /home/kali/anaconda3/lib/python3.12/site-packages (from jupyter_dash) (8.27.0)\n",
            "Requirement already satisfied: ipykernel in /home/kali/anaconda3/lib/python3.12/site-packages (from jupyter_dash) (6.28.0)\n",
            "Requirement already satisfied: ansi2html in /home/kali/anaconda3/lib/python3.12/site-packages (from jupyter_dash) (1.9.2)\n",
            "Requirement already satisfied: nest-asyncio in /home/kali/anaconda3/lib/python3.12/site-packages (from jupyter_dash) (1.6.0)\n",
            "Requirement already satisfied: pandas>=1.0.0 in /home/kali/anaconda3/lib/python3.12/site-packages (from ucimlrepo) (2.2.2)\n",
            "Requirement already satisfied: certifi>=2020.12.5 in /home/kali/anaconda3/lib/python3.12/site-packages (from ucimlrepo) (2024.8.30)\n",
            "Requirement already satisfied: numpy>=1.26.0 in /home/kali/anaconda3/lib/python3.12/site-packages (from pandas>=1.0.0->ucimlrepo) (1.26.4)\n",
            "Requirement already satisfied: python-dateutil>=2.8.2 in /home/kali/anaconda3/lib/python3.12/site-packages (from pandas>=1.0.0->ucimlrepo) (2.9.0.post0)\n",
            "Requirement already satisfied: pytz>=2020.1 in /home/kali/anaconda3/lib/python3.12/site-packages (from pandas>=1.0.0->ucimlrepo) (2024.1)\n",
            "Requirement already satisfied: tzdata>=2022.7 in /home/kali/anaconda3/lib/python3.12/site-packages (from pandas>=1.0.0->ucimlrepo) (2023.3)\n",
            "Requirement already satisfied: Werkzeug<3.1 in /home/kali/anaconda3/lib/python3.12/site-packages (from dash->jupyter_dash) (3.0.3)\n",
            "Requirement already satisfied: plotly>=5.0.0 in /home/kali/anaconda3/lib/python3.12/site-packages (from dash->jupyter_dash) (5.24.1)\n",
            "Requirement already satisfied: importlib-metadata in /home/kali/anaconda3/lib/python3.12/site-packages (from dash->jupyter_dash) (7.0.1)\n",
            "Requirement already satisfied: typing-extensions>=4.1.1 in /home/kali/anaconda3/lib/python3.12/site-packages (from dash->jupyter_dash) (4.13.2)\n",
            "Requirement already satisfied: setuptools in /home/kali/anaconda3/lib/python3.12/site-packages (from dash->jupyter_dash) (75.1.0)\n",
            "Requirement already satisfied: Jinja2>=3.1.2 in /home/kali/anaconda3/lib/python3.12/site-packages (from flask->jupyter_dash) (3.1.4)\n",
            "Requirement already satisfied: itsdangerous>=2.1.2 in /home/kali/anaconda3/lib/python3.12/site-packages (from flask->jupyter_dash) (2.2.0)\n",
            "Requirement already satisfied: click>=8.1.3 in /home/kali/anaconda3/lib/python3.12/site-packages (from flask->jupyter_dash) (8.1.7)\n",
            "Requirement already satisfied: blinker>=1.6.2 in /home/kali/anaconda3/lib/python3.12/site-packages (from flask->jupyter_dash) (1.6.2)\n",
            "Requirement already satisfied: comm>=0.1.1 in /home/kali/anaconda3/lib/python3.12/site-packages (from ipykernel->jupyter_dash) (0.2.1)\n",
            "Requirement already satisfied: debugpy>=1.6.5 in /home/kali/anaconda3/lib/python3.12/site-packages (from ipykernel->jupyter_dash) (1.6.7)\n",
            "Requirement already satisfied: jupyter-client>=6.1.12 in /home/kali/anaconda3/lib/python3.12/site-packages (from ipykernel->jupyter_dash) (8.6.0)\n",
            "Requirement already satisfied: jupyter-core!=5.0.*,>=4.12 in /home/kali/anaconda3/lib/python3.12/site-packages (from ipykernel->jupyter_dash) (5.7.2)\n",
            "Requirement already satisfied: matplotlib-inline>=0.1 in /home/kali/anaconda3/lib/python3.12/site-packages (from ipykernel->jupyter_dash) (0.1.6)\n",
            "Requirement already satisfied: packaging in /home/kali/anaconda3/lib/python3.12/site-packages (from ipykernel->jupyter_dash) (24.2)\n",
            "Requirement already satisfied: psutil in /home/kali/anaconda3/lib/python3.12/site-packages (from ipykernel->jupyter_dash) (5.9.0)\n",
            "Requirement already satisfied: pyzmq>=24 in /home/kali/anaconda3/lib/python3.12/site-packages (from ipykernel->jupyter_dash) (25.1.2)\n",
            "Requirement already satisfied: tornado>=6.1 in /home/kali/anaconda3/lib/python3.12/site-packages (from ipykernel->jupyter_dash) (6.4.1)\n",
            "Requirement already satisfied: traitlets>=5.4.0 in /home/kali/anaconda3/lib/python3.12/site-packages (from ipykernel->jupyter_dash) (5.14.3)\n",
            "Requirement already satisfied: decorator in /home/kali/anaconda3/lib/python3.12/site-packages (from ipython->jupyter_dash) (5.1.1)\n",
            "Requirement already satisfied: jedi>=0.16 in /home/kali/anaconda3/lib/python3.12/site-packages (from ipython->jupyter_dash) (0.19.1)\n",
            "Requirement already satisfied: prompt-toolkit<3.1.0,>=3.0.41 in /home/kali/anaconda3/lib/python3.12/site-packages (from ipython->jupyter_dash) (3.0.43)\n",
            "Requirement already satisfied: pygments>=2.4.0 in /home/kali/anaconda3/lib/python3.12/site-packages (from ipython->jupyter_dash) (2.15.1)\n",
            "Requirement already satisfied: stack-data in /home/kali/anaconda3/lib/python3.12/site-packages (from ipython->jupyter_dash) (0.2.0)\n",
            "Requirement already satisfied: pexpect>4.3 in /home/kali/anaconda3/lib/python3.12/site-packages (from ipython->jupyter_dash) (4.8.0)\n",
            "Requirement already satisfied: charset-normalizer<4,>=2 in /home/kali/anaconda3/lib/python3.12/site-packages (from requests->jupyter_dash) (3.3.2)\n",
            "Requirement already satisfied: idna<4,>=2.5 in /home/kali/anaconda3/lib/python3.12/site-packages (from requests->jupyter_dash) (3.7)\n",
            "Requirement already satisfied: urllib3<3,>=1.21.1 in /home/kali/anaconda3/lib/python3.12/site-packages (from requests->jupyter_dash) (2.2.3)\n",
            "Requirement already satisfied: six>=1.7.0 in /home/kali/anaconda3/lib/python3.12/site-packages (from retrying->jupyter_dash) (1.16.0)\n",
            "Requirement already satisfied: parso<0.9.0,>=0.8.3 in /home/kali/anaconda3/lib/python3.12/site-packages (from jedi>=0.16->ipython->jupyter_dash) (0.8.3)\n",
            "Requirement already satisfied: MarkupSafe>=2.0 in /home/kali/anaconda3/lib/python3.12/site-packages (from Jinja2>=3.1.2->flask->jupyter_dash) (2.1.3)\n",
            "Requirement already satisfied: platformdirs>=2.5 in /home/kali/anaconda3/lib/python3.12/site-packages (from jupyter-core!=5.0.*,>=4.12->ipykernel->jupyter_dash) (3.10.0)\n",
            "Requirement already satisfied: ptyprocess>=0.5 in /home/kali/anaconda3/lib/python3.12/site-packages (from pexpect>4.3->ipython->jupyter_dash) (0.7.0)\n",
            "Requirement already satisfied: tenacity>=6.2.0 in /home/kali/anaconda3/lib/python3.12/site-packages (from plotly>=5.0.0->dash->jupyter_dash) (8.2.3)\n",
            "Requirement already satisfied: wcwidth in /home/kali/anaconda3/lib/python3.12/site-packages (from prompt-toolkit<3.1.0,>=3.0.41->ipython->jupyter_dash) (0.2.5)\n",
            "Requirement already satisfied: zipp>=0.5 in /home/kali/anaconda3/lib/python3.12/site-packages (from importlib-metadata->dash->jupyter_dash) (3.17.0)\n",
            "Requirement already satisfied: executing in /home/kali/anaconda3/lib/python3.12/site-packages (from stack-data->ipython->jupyter_dash) (0.8.3)\n",
            "Requirement already satisfied: asttokens in /home/kali/anaconda3/lib/python3.12/site-packages (from stack-data->ipython->jupyter_dash) (2.0.5)\n",
            "Requirement already satisfied: pure-eval in /home/kali/anaconda3/lib/python3.12/site-packages (from stack-data->ipython->jupyter_dash) (0.2.2)\n"
          ]
        }
      ],
      "source": [
        "!pip install jupyter_dash ucimlrepo"
      ]
    },
    {
      "cell_type": "code",
      "execution_count": 2,
      "metadata": {
        "id": "OfO4XsyMCVrI"
      },
      "outputs": [],
      "source": [
        "import matplotlib.pyplot as plt\n",
        "import numpy as np\n",
        "import pandas as pd\n",
        "import plotly.express as px\n",
        "import plotly.graph_objects as go\n",
        "import seaborn as sns\n",
        "\n",
        "\n",
        "from dash import html, dcc, Input, Output\n",
        "from jupyter_dash import JupyterDash\n",
        "from plotly.subplots import make_subplots\n",
        "from ucimlrepo import fetch_ucirepo\n",
        "\n",
        "sns.set_context(\"talk\")\n",
        "plt.rcParams[\"figure.figsize\"] = (10,6)\n",
        "RANDOM_STATE = 42"
      ]
    },
    {
      "cell_type": "markdown",
      "metadata": {
        "id": "75j5DbCtEOGK"
      },
      "source": [
        "##  **Data Acquisition**\n",
        "\n",
        "Dataset fetched directly via `ucimlrepo` (ID 519) to ensure always‑up‑to‑date retrieval from UCI ML Repository.\n"
      ]
    },
    {
      "cell_type": "code",
      "execution_count": 3,
      "metadata": {
        "colab": {
          "base_uri": "https://localhost:8080/"
        },
        "id": "AsvAbd7XET0k",
        "outputId": "bc1c7610-d498-463f-fe83-98baee2db014"
      },
      "outputs": [
        {
          "name": "stdout",
          "output_type": "stream",
          "text": [
            "Dataset shape: (299, 13)\n"
          ]
        }
      ],
      "source": [
        "repo = fetch_ucirepo(id=519)\n",
        "X = repo.data.features\n",
        "y = repo.data.targets\n",
        "df = pd.concat([X, y], axis=1)\n",
        "\n",
        "print(f\"Dataset shape: {df.shape}\")\n"
      ]
    },
    {
      "cell_type": "markdown",
      "metadata": {
        "id": "DT4aEqmAEdsk"
      },
      "source": [
        "##  **Metadata and Variable Information**\n",
        "\n",
        "Presentation of repository‑level metadata and detailed variable descriptions to inform subsequent feature engineering.\n"
      ]
    },
    {
      "cell_type": "code",
      "execution_count": 4,
      "metadata": {
        "colab": {
          "base_uri": "https://localhost:8080/",
          "height": 1000
        },
        "id": "sXlWrhSxEezE",
        "outputId": "a0a468ef-7bbf-4e34-c261-fb992fccf356"
      },
      "outputs": [
        {
          "name": "stdout",
          "output_type": "stream",
          "text": [
            "Repository Metadata\n"
          ]
        },
        {
          "data": {
            "text/plain": [
              "{'uci_id': 519,\n",
              " 'name': 'Heart Failure Clinical Records',\n",
              " 'repository_url': 'https://archive.ics.uci.edu/dataset/519/heart+failure+clinical+records',\n",
              " 'data_url': 'https://archive.ics.uci.edu/static/public/519/data.csv',\n",
              " 'abstract': 'This dataset contains the medical records of 299 patients who had heart failure, collected during their follow-up period, where each patient profile has 13 clinical features.',\n",
              " 'area': 'Health and Medicine',\n",
              " 'tasks': ['Classification', 'Regression', 'Clustering'],\n",
              " 'characteristics': ['Multivariate'],\n",
              " 'num_instances': 299,\n",
              " 'num_features': 12,\n",
              " 'feature_types': ['Integer', 'Real'],\n",
              " 'demographics': ['Age', 'Sex'],\n",
              " 'target_col': ['death_event'],\n",
              " 'index_col': None,\n",
              " 'has_missing_values': 'no',\n",
              " 'missing_values_symbol': None,\n",
              " 'year_of_dataset_creation': 2020,\n",
              " 'last_updated': 'Mon Feb 26 2024',\n",
              " 'dataset_doi': '10.24432/C5Z89R',\n",
              " 'creators': [],\n",
              " 'intro_paper': {'ID': 286,\n",
              "  'type': 'NATIVE',\n",
              "  'title': 'Machine learning can predict survival of patients with heart failure from serum creatinine and ejection fraction alone',\n",
              "  'authors': 'D. Chicco, Giuseppe Jurman',\n",
              "  'venue': 'BMC Medical Informatics and Decision Making',\n",
              "  'year': 2020,\n",
              "  'journal': None,\n",
              "  'DOI': None,\n",
              "  'URL': 'https://www.semanticscholar.org/paper/e64579d8593140396b518682bb3a47ba246684eb',\n",
              "  'sha': None,\n",
              "  'corpus': None,\n",
              "  'arxiv': None,\n",
              "  'mag': None,\n",
              "  'acl': None,\n",
              "  'pmid': '32013925',\n",
              "  'pmcid': None},\n",
              " 'additional_info': {'summary': 'A detailed description of the dataset can be found in the Dataset section of the following paper: \\r\\n\\r\\nDavide Chicco, Giuseppe Jurman: \"Machine learning can predict survival of patients with heart failure from serum creatinine and ejection fraction alone\". BMC Medical Informatics and Decision Making 20, 16 (2020). https://doi.org/10.1186/s12911-020-1023-5 \\r\\n',\n",
              "  'purpose': None,\n",
              "  'funded_by': None,\n",
              "  'instances_represent': None,\n",
              "  'recommended_data_splits': None,\n",
              "  'sensitive_data': None,\n",
              "  'preprocessing_description': None,\n",
              "  'variable_info': 'Thirteen (13) clinical features:\\n\\n- age: age of the patient (years)\\n- anaemia: decrease of red blood cells or hemoglobin (boolean)\\n- creatinine phosphokinase  (CPK): level of the CPK enzyme in the blood (mcg/L)\\n- diabetes: if the patient has diabetes (boolean)\\n- ejection fraction: percentage of blood leaving the heart at each contraction  (percentage)\\n- high blood pressure: if the patient has hypertension (boolean)\\n- platelets: platelets in the blood (kiloplatelets/mL)\\n- sex: woman or man (binary)\\n- serum creatinine: level of serum creatinine in the blood (mg/dL)\\n- serum sodium: level of serum sodium in the blood (mEq/L)\\n- smoking: if the patient smokes or not (boolean)\\n- time: follow-up period (days)\\n- [target] death event: if the patient died during the follow-up period (boolean)\\n\\nFor more information, please check Table 1, Table 2, and Table 3 of the following paper: \\n\\nDavide Chicco, Giuseppe Jurman: \"Machine learning can predict survival of patients with heart failure from serum creatinine and ejection fraction alone\". BMC Medical Informatics and Decision Making 20, 16 (2020). https://doi.org/10.1186/s12911-020-1023-5 \\n',\n",
              "  'citation': None}}"
            ]
          },
          "metadata": {},
          "output_type": "display_data"
        }
      ],
      "source": [
        "print(\"Repository Metadata\")\n",
        "display(repo.metadata)"
      ]
    },
    {
      "cell_type": "code",
      "execution_count": 5,
      "metadata": {
        "colab": {
          "base_uri": "https://localhost:8080/",
          "height": 475
        },
        "id": "_65WwlQiG1lV",
        "outputId": "3d3b88af-fa3e-4ec1-9343-0b7c5a4abfd5"
      },
      "outputs": [
        {
          "name": "stdout",
          "output_type": "stream",
          "text": [
            "Variable Descriptions\n"
          ]
        },
        {
          "data": {
            "text/html": [
              "<div>\n",
              "<style scoped>\n",
              "    .dataframe tbody tr th:only-of-type {\n",
              "        vertical-align: middle;\n",
              "    }\n",
              "\n",
              "    .dataframe tbody tr th {\n",
              "        vertical-align: top;\n",
              "    }\n",
              "\n",
              "    .dataframe thead th {\n",
              "        text-align: right;\n",
              "    }\n",
              "</style>\n",
              "<table border=\"1\" class=\"dataframe\">\n",
              "  <thead>\n",
              "    <tr style=\"text-align: right;\">\n",
              "      <th></th>\n",
              "      <th>name</th>\n",
              "      <th>role</th>\n",
              "      <th>type</th>\n",
              "      <th>demographic</th>\n",
              "      <th>description</th>\n",
              "      <th>units</th>\n",
              "      <th>missing_values</th>\n",
              "    </tr>\n",
              "  </thead>\n",
              "  <tbody>\n",
              "    <tr>\n",
              "      <th>0</th>\n",
              "      <td>age</td>\n",
              "      <td>Feature</td>\n",
              "      <td>Integer</td>\n",
              "      <td>Age</td>\n",
              "      <td>age of the patient</td>\n",
              "      <td>years</td>\n",
              "      <td>no</td>\n",
              "    </tr>\n",
              "    <tr>\n",
              "      <th>1</th>\n",
              "      <td>anaemia</td>\n",
              "      <td>Feature</td>\n",
              "      <td>Binary</td>\n",
              "      <td>None</td>\n",
              "      <td>decrease of red blood cells or hemoglobin</td>\n",
              "      <td>None</td>\n",
              "      <td>no</td>\n",
              "    </tr>\n",
              "    <tr>\n",
              "      <th>2</th>\n",
              "      <td>creatinine_phosphokinase</td>\n",
              "      <td>Feature</td>\n",
              "      <td>Integer</td>\n",
              "      <td>None</td>\n",
              "      <td>level of the CPK enzyme in the blood</td>\n",
              "      <td>mcg/L</td>\n",
              "      <td>no</td>\n",
              "    </tr>\n",
              "    <tr>\n",
              "      <th>3</th>\n",
              "      <td>diabetes</td>\n",
              "      <td>Feature</td>\n",
              "      <td>Binary</td>\n",
              "      <td>None</td>\n",
              "      <td>if the patient has diabetes</td>\n",
              "      <td>None</td>\n",
              "      <td>no</td>\n",
              "    </tr>\n",
              "    <tr>\n",
              "      <th>4</th>\n",
              "      <td>ejection_fraction</td>\n",
              "      <td>Feature</td>\n",
              "      <td>Integer</td>\n",
              "      <td>None</td>\n",
              "      <td>percentage of blood leaving the heart at each ...</td>\n",
              "      <td>%</td>\n",
              "      <td>no</td>\n",
              "    </tr>\n",
              "    <tr>\n",
              "      <th>5</th>\n",
              "      <td>high_blood_pressure</td>\n",
              "      <td>Feature</td>\n",
              "      <td>Binary</td>\n",
              "      <td>None</td>\n",
              "      <td>if the patient has hypertension</td>\n",
              "      <td>None</td>\n",
              "      <td>no</td>\n",
              "    </tr>\n",
              "    <tr>\n",
              "      <th>6</th>\n",
              "      <td>platelets</td>\n",
              "      <td>Feature</td>\n",
              "      <td>Continuous</td>\n",
              "      <td>None</td>\n",
              "      <td>platelets in the blood</td>\n",
              "      <td>kiloplatelets/mL</td>\n",
              "      <td>no</td>\n",
              "    </tr>\n",
              "    <tr>\n",
              "      <th>7</th>\n",
              "      <td>serum_creatinine</td>\n",
              "      <td>Feature</td>\n",
              "      <td>Continuous</td>\n",
              "      <td>None</td>\n",
              "      <td>level of serum creatinine in the blood</td>\n",
              "      <td>mg/dL</td>\n",
              "      <td>no</td>\n",
              "    </tr>\n",
              "    <tr>\n",
              "      <th>8</th>\n",
              "      <td>serum_sodium</td>\n",
              "      <td>Feature</td>\n",
              "      <td>Integer</td>\n",
              "      <td>None</td>\n",
              "      <td>level of serum sodium in the blood</td>\n",
              "      <td>mEq/L</td>\n",
              "      <td>no</td>\n",
              "    </tr>\n",
              "    <tr>\n",
              "      <th>9</th>\n",
              "      <td>sex</td>\n",
              "      <td>Feature</td>\n",
              "      <td>Binary</td>\n",
              "      <td>Sex</td>\n",
              "      <td>woman or man</td>\n",
              "      <td>None</td>\n",
              "      <td>no</td>\n",
              "    </tr>\n",
              "    <tr>\n",
              "      <th>10</th>\n",
              "      <td>smoking</td>\n",
              "      <td>Feature</td>\n",
              "      <td>Binary</td>\n",
              "      <td>None</td>\n",
              "      <td>if the patient smokes or not</td>\n",
              "      <td>None</td>\n",
              "      <td>no</td>\n",
              "    </tr>\n",
              "    <tr>\n",
              "      <th>11</th>\n",
              "      <td>time</td>\n",
              "      <td>Feature</td>\n",
              "      <td>Integer</td>\n",
              "      <td>None</td>\n",
              "      <td>follow-up period</td>\n",
              "      <td>days</td>\n",
              "      <td>no</td>\n",
              "    </tr>\n",
              "    <tr>\n",
              "      <th>12</th>\n",
              "      <td>death_event</td>\n",
              "      <td>Target</td>\n",
              "      <td>Binary</td>\n",
              "      <td>None</td>\n",
              "      <td>if the patient died during the follow-up period</td>\n",
              "      <td>None</td>\n",
              "      <td>no</td>\n",
              "    </tr>\n",
              "  </tbody>\n",
              "</table>\n",
              "</div>"
            ],
            "text/plain": [
              "                        name     role        type demographic  \\\n",
              "0                        age  Feature     Integer         Age   \n",
              "1                    anaemia  Feature      Binary        None   \n",
              "2   creatinine_phosphokinase  Feature     Integer        None   \n",
              "3                   diabetes  Feature      Binary        None   \n",
              "4          ejection_fraction  Feature     Integer        None   \n",
              "5        high_blood_pressure  Feature      Binary        None   \n",
              "6                  platelets  Feature  Continuous        None   \n",
              "7           serum_creatinine  Feature  Continuous        None   \n",
              "8               serum_sodium  Feature     Integer        None   \n",
              "9                        sex  Feature      Binary         Sex   \n",
              "10                   smoking  Feature      Binary        None   \n",
              "11                      time  Feature     Integer        None   \n",
              "12               death_event   Target      Binary        None   \n",
              "\n",
              "                                          description             units  \\\n",
              "0                                  age of the patient             years   \n",
              "1           decrease of red blood cells or hemoglobin              None   \n",
              "2                level of the CPK enzyme in the blood             mcg/L   \n",
              "3                         if the patient has diabetes              None   \n",
              "4   percentage of blood leaving the heart at each ...                 %   \n",
              "5                     if the patient has hypertension              None   \n",
              "6                              platelets in the blood  kiloplatelets/mL   \n",
              "7              level of serum creatinine in the blood             mg/dL   \n",
              "8                  level of serum sodium in the blood             mEq/L   \n",
              "9                                        woman or man              None   \n",
              "10                       if the patient smokes or not              None   \n",
              "11                                   follow-up period              days   \n",
              "12    if the patient died during the follow-up period              None   \n",
              "\n",
              "   missing_values  \n",
              "0              no  \n",
              "1              no  \n",
              "2              no  \n",
              "3              no  \n",
              "4              no  \n",
              "5              no  \n",
              "6              no  \n",
              "7              no  \n",
              "8              no  \n",
              "9              no  \n",
              "10             no  \n",
              "11             no  \n",
              "12             no  "
            ]
          },
          "metadata": {},
          "output_type": "display_data"
        }
      ],
      "source": [
        "print(\"Variable Descriptions\")\n",
        "display(pd.DataFrame(repo.variables))\n"
      ]
    },
    {
      "cell_type": "markdown",
      "metadata": {
        "id": "y9aZEcEPEgaE"
      },
      "source": [
        "## **Data Quality Checks**\n",
        "\n",
        "Verification of missingness, data types, and basic integrity before any transformation.\n"
      ]
    },
    {
      "cell_type": "code",
      "execution_count": 6,
      "metadata": {
        "colab": {
          "base_uri": "https://localhost:8080/",
          "height": 510
        },
        "id": "NHQs683nG8tb",
        "outputId": "030bee6c-fca9-48cb-9bcf-19713fb1c0bf"
      },
      "outputs": [
        {
          "name": "stdout",
          "output_type": "stream",
          "text": [
            "Missing values per column\n"
          ]
        },
        {
          "data": {
            "text/plain": [
              "age                         0\n",
              "anaemia                     0\n",
              "creatinine_phosphokinase    0\n",
              "diabetes                    0\n",
              "ejection_fraction           0\n",
              "high_blood_pressure         0\n",
              "platelets                   0\n",
              "serum_creatinine            0\n",
              "serum_sodium                0\n",
              "sex                         0\n",
              "smoking                     0\n",
              "time                        0\n",
              "death_event                 0\n",
              "dtype: int64"
            ]
          },
          "metadata": {},
          "output_type": "display_data"
        }
      ],
      "source": [
        "print(\"Missing values per column\")\n",
        "display(df.isna().sum())"
      ]
    },
    {
      "cell_type": "code",
      "execution_count": 7,
      "metadata": {
        "colab": {
          "base_uri": "https://localhost:8080/",
          "height": 510
        },
        "id": "_OCNEC96G-jm",
        "outputId": "c5b70c17-0d0b-4c74-dc45-337e546e072d"
      },
      "outputs": [
        {
          "name": "stdout",
          "output_type": "stream",
          "text": [
            "Data type:\n"
          ]
        },
        {
          "data": {
            "text/plain": [
              "age                         float64\n",
              "anaemia                       int64\n",
              "creatinine_phosphokinase      int64\n",
              "diabetes                      int64\n",
              "ejection_fraction             int64\n",
              "high_blood_pressure           int64\n",
              "platelets                   float64\n",
              "serum_creatinine            float64\n",
              "serum_sodium                  int64\n",
              "sex                           int64\n",
              "smoking                       int64\n",
              "time                          int64\n",
              "death_event                   int64\n",
              "dtype: object"
            ]
          },
          "metadata": {},
          "output_type": "display_data"
        }
      ],
      "source": [
        "print(\"Data type:\")\n",
        "display(df.dtypes)"
      ]
    },
    {
      "cell_type": "markdown",
      "metadata": {
        "id": "Hl58fCrgHINM"
      },
      "source": [
        "##  **Univariate Analysis**\n",
        "\n",
        "###  **Continuous Features**\n",
        "\n",
        "Statistical summaries and distribution visualizations for all numeric variables.\n"
      ]
    },
    {
      "cell_type": "code",
      "execution_count": 8,
      "metadata": {
        "colab": {
          "base_uri": "https://localhost:8080/",
          "height": 269
        },
        "id": "V37H53iTG_fm",
        "outputId": "102b86cc-acf3-4662-c01a-9a58a0348b30"
      },
      "outputs": [
        {
          "data": {
            "text/html": [
              "<div>\n",
              "<style scoped>\n",
              "    .dataframe tbody tr th:only-of-type {\n",
              "        vertical-align: middle;\n",
              "    }\n",
              "\n",
              "    .dataframe tbody tr th {\n",
              "        vertical-align: top;\n",
              "    }\n",
              "\n",
              "    .dataframe thead th {\n",
              "        text-align: right;\n",
              "    }\n",
              "</style>\n",
              "<table border=\"1\" class=\"dataframe\">\n",
              "  <thead>\n",
              "    <tr style=\"text-align: right;\">\n",
              "      <th></th>\n",
              "      <th>count</th>\n",
              "      <th>mean</th>\n",
              "      <th>std</th>\n",
              "      <th>min</th>\n",
              "      <th>25%</th>\n",
              "      <th>50%</th>\n",
              "      <th>75%</th>\n",
              "      <th>max</th>\n",
              "    </tr>\n",
              "  </thead>\n",
              "  <tbody>\n",
              "    <tr>\n",
              "      <th>age</th>\n",
              "      <td>299.0</td>\n",
              "      <td>60.833893</td>\n",
              "      <td>11.894809</td>\n",
              "      <td>40.0</td>\n",
              "      <td>51.0</td>\n",
              "      <td>60.0</td>\n",
              "      <td>70.0</td>\n",
              "      <td>95.0</td>\n",
              "    </tr>\n",
              "    <tr>\n",
              "      <th>creatinine_phosphokinase</th>\n",
              "      <td>299.0</td>\n",
              "      <td>581.839465</td>\n",
              "      <td>970.287881</td>\n",
              "      <td>23.0</td>\n",
              "      <td>116.5</td>\n",
              "      <td>250.0</td>\n",
              "      <td>582.0</td>\n",
              "      <td>7861.0</td>\n",
              "    </tr>\n",
              "    <tr>\n",
              "      <th>ejection_fraction</th>\n",
              "      <td>299.0</td>\n",
              "      <td>38.083612</td>\n",
              "      <td>11.834841</td>\n",
              "      <td>14.0</td>\n",
              "      <td>30.0</td>\n",
              "      <td>38.0</td>\n",
              "      <td>45.0</td>\n",
              "      <td>80.0</td>\n",
              "    </tr>\n",
              "    <tr>\n",
              "      <th>platelets</th>\n",
              "      <td>299.0</td>\n",
              "      <td>263358.029264</td>\n",
              "      <td>97804.236869</td>\n",
              "      <td>25100.0</td>\n",
              "      <td>212500.0</td>\n",
              "      <td>262000.0</td>\n",
              "      <td>303500.0</td>\n",
              "      <td>850000.0</td>\n",
              "    </tr>\n",
              "    <tr>\n",
              "      <th>serum_creatinine</th>\n",
              "      <td>299.0</td>\n",
              "      <td>1.393880</td>\n",
              "      <td>1.034510</td>\n",
              "      <td>0.5</td>\n",
              "      <td>0.9</td>\n",
              "      <td>1.1</td>\n",
              "      <td>1.4</td>\n",
              "      <td>9.4</td>\n",
              "    </tr>\n",
              "    <tr>\n",
              "      <th>serum_sodium</th>\n",
              "      <td>299.0</td>\n",
              "      <td>136.625418</td>\n",
              "      <td>4.412477</td>\n",
              "      <td>113.0</td>\n",
              "      <td>134.0</td>\n",
              "      <td>137.0</td>\n",
              "      <td>140.0</td>\n",
              "      <td>148.0</td>\n",
              "    </tr>\n",
              "    <tr>\n",
              "      <th>time</th>\n",
              "      <td>299.0</td>\n",
              "      <td>130.260870</td>\n",
              "      <td>77.614208</td>\n",
              "      <td>4.0</td>\n",
              "      <td>73.0</td>\n",
              "      <td>115.0</td>\n",
              "      <td>203.0</td>\n",
              "      <td>285.0</td>\n",
              "    </tr>\n",
              "  </tbody>\n",
              "</table>\n",
              "</div>"
            ],
            "text/plain": [
              "                          count           mean           std      min  \\\n",
              "age                       299.0      60.833893     11.894809     40.0   \n",
              "creatinine_phosphokinase  299.0     581.839465    970.287881     23.0   \n",
              "ejection_fraction         299.0      38.083612     11.834841     14.0   \n",
              "platelets                 299.0  263358.029264  97804.236869  25100.0   \n",
              "serum_creatinine          299.0       1.393880      1.034510      0.5   \n",
              "serum_sodium              299.0     136.625418      4.412477    113.0   \n",
              "time                      299.0     130.260870     77.614208      4.0   \n",
              "\n",
              "                               25%       50%       75%       max  \n",
              "age                           51.0      60.0      70.0      95.0  \n",
              "creatinine_phosphokinase     116.5     250.0     582.0    7861.0  \n",
              "ejection_fraction             30.0      38.0      45.0      80.0  \n",
              "platelets                 212500.0  262000.0  303500.0  850000.0  \n",
              "serum_creatinine               0.9       1.1       1.4       9.4  \n",
              "serum_sodium                 134.0     137.0     140.0     148.0  \n",
              "time                          73.0     115.0     203.0     285.0  "
            ]
          },
          "metadata": {},
          "output_type": "display_data"
        }
      ],
      "source": [
        "continuous_cols = [\n",
        "    \"age\",\"creatinine_phosphokinase\",\"ejection_fraction\",\n",
        "    \"platelets\",\"serum_creatinine\",\"serum_sodium\",\"time\"\n",
        "]\n",
        "display(df[continuous_cols].describe().T)\n",
        "\n"
      ]
    },
    {
      "cell_type": "code",
      "execution_count": 9,
      "metadata": {
        "colab": {
          "base_uri": "https://localhost:8080/",
          "height": 767
        },
        "id": "Mj8BtNInHPdv",
        "outputId": "2dfe25dc-6c99-438f-90c5-6746b1c5b719"
      },
      "outputs": [
        {
          "data": {
            "application/vnd.plotly.v1+json": {
              "config": {
                "plotlyServerURL": "https://plot.ly"
              },
              "data": [
                {
                  "alignmentgroup": "True",
                  "bingroup": "x",
                  "hovertemplate": "Feature=age<br>Value=%{x}<br>count=%{y}<extra></extra>",
                  "legendgroup": "",
                  "marker": {
                    "color": "#636efa",
                    "pattern": {
                      "shape": ""
                    }
                  },
                  "name": "",
                  "nbinsx": 15,
                  "offsetgroup": "",
                  "orientation": "v",
                  "showlegend": false,
                  "type": "histogram",
                  "x": [
                    75,
                    55,
                    65,
                    50,
                    65,
                    90,
                    75,
                    60,
                    65,
                    80,
                    75,
                    62,
                    45,
                    50,
                    49,
                    82,
                    87,
                    45,
                    70,
                    48,
                    65,
                    65,
                    68,
                    53,
                    75,
                    80,
                    95,
                    70,
                    58,
                    82,
                    94,
                    85,
                    50,
                    50,
                    65,
                    69,
                    90,
                    82,
                    60,
                    60,
                    70,
                    50,
                    70,
                    72,
                    60,
                    50,
                    51,
                    60,
                    80,
                    57,
                    68,
                    53,
                    60,
                    70,
                    60,
                    95,
                    70,
                    60,
                    49,
                    72,
                    45,
                    50,
                    55,
                    45,
                    45,
                    60,
                    42,
                    72,
                    70,
                    65,
                    41,
                    58,
                    85,
                    65,
                    69,
                    60,
                    70,
                    42,
                    75,
                    55,
                    70,
                    67,
                    60,
                    79,
                    59,
                    51,
                    55,
                    65,
                    44,
                    57,
                    70,
                    60,
                    42,
                    60,
                    58,
                    58,
                    63,
                    70,
                    60,
                    63,
                    65,
                    75,
                    80,
                    42,
                    60,
                    72,
                    55,
                    45,
                    63,
                    45,
                    85,
                    55,
                    50,
                    70,
                    60,
                    58,
                    60,
                    85,
                    65,
                    86,
                    60,
                    66,
                    60,
                    60,
                    60,
                    43,
                    46,
                    58,
                    61,
                    53,
                    53,
                    60,
                    46,
                    63,
                    81,
                    75,
                    65,
                    68,
                    62,
                    50,
                    80,
                    46,
                    50,
                    61,
                    72,
                    50,
                    52,
                    64,
                    75,
                    60,
                    72,
                    62,
                    50,
                    50,
                    65,
                    60,
                    52,
                    50,
                    85,
                    59,
                    66,
                    45,
                    63,
                    50,
                    45,
                    80,
                    53,
                    59,
                    65,
                    70,
                    51,
                    52,
                    70,
                    50,
                    65,
                    60,
                    69,
                    49,
                    63,
                    55,
                    40,
                    59,
                    65,
                    75,
                    58,
                    60.667,
                    50,
                    60,
                    60.667,
                    40,
                    80,
                    64,
                    50,
                    73,
                    45,
                    77,
                    45,
                    65,
                    50,
                    60,
                    63,
                    45,
                    70,
                    60,
                    78,
                    50,
                    40,
                    85,
                    60,
                    49,
                    70,
                    50,
                    78,
                    48,
                    65,
                    73,
                    70,
                    54,
                    68,
                    55,
                    73,
                    65,
                    42,
                    47,
                    58,
                    75,
                    58,
                    55,
                    65,
                    72,
                    60,
                    70,
                    40,
                    53,
                    53,
                    77,
                    75,
                    70,
                    65,
                    55,
                    70,
                    65,
                    40,
                    73,
                    54,
                    61,
                    55,
                    64,
                    40,
                    53,
                    50,
                    55,
                    50,
                    70,
                    53,
                    52,
                    65,
                    58,
                    45,
                    53,
                    55,
                    62,
                    65,
                    68,
                    61,
                    50,
                    55,
                    56,
                    45,
                    40,
                    44,
                    51,
                    67,
                    42,
                    60,
                    45,
                    70,
                    70,
                    50,
                    55,
                    70,
                    70,
                    42,
                    65,
                    50,
                    55,
                    60,
                    45,
                    65,
                    90,
                    45,
                    60,
                    52,
                    63,
                    62,
                    55,
                    45,
                    45,
                    50
                  ],
                  "xaxis": "x7",
                  "yaxis": "y7"
                },
                {
                  "alignmentgroup": "True",
                  "bingroup": "x",
                  "hovertemplate": "Feature=creatinine_phosphokinase<br>Value=%{x}<br>count=%{y}<extra></extra>",
                  "legendgroup": "",
                  "marker": {
                    "color": "#636efa",
                    "pattern": {
                      "shape": ""
                    }
                  },
                  "name": "",
                  "nbinsx": 15,
                  "offsetgroup": "",
                  "orientation": "v",
                  "showlegend": false,
                  "type": "histogram",
                  "x": [
                    582,
                    7861,
                    146,
                    111,
                    160,
                    47,
                    246,
                    315,
                    157,
                    123,
                    81,
                    231,
                    981,
                    168,
                    80,
                    379,
                    149,
                    582,
                    125,
                    582,
                    52,
                    128,
                    220,
                    63,
                    582,
                    148,
                    112,
                    122,
                    60,
                    70,
                    582,
                    23,
                    249,
                    159,
                    94,
                    582,
                    60,
                    855,
                    2656,
                    235,
                    582,
                    124,
                    571,
                    127,
                    588,
                    582,
                    1380,
                    582,
                    553,
                    129,
                    577,
                    91,
                    3964,
                    69,
                    260,
                    371,
                    75,
                    607,
                    789,
                    364,
                    7702,
                    318,
                    109,
                    582,
                    582,
                    68,
                    250,
                    110,
                    161,
                    113,
                    148,
                    582,
                    5882,
                    224,
                    582,
                    47,
                    92,
                    102,
                    203,
                    336,
                    69,
                    582,
                    76,
                    55,
                    280,
                    78,
                    47,
                    68,
                    84,
                    115,
                    66,
                    897,
                    582,
                    154,
                    144,
                    133,
                    514,
                    59,
                    156,
                    61,
                    305,
                    582,
                    898,
                    5209,
                    53,
                    328,
                    748,
                    1876,
                    936,
                    292,
                    129,
                    60,
                    369,
                    143,
                    754,
                    400,
                    96,
                    102,
                    113,
                    582,
                    737,
                    68,
                    96,
                    582,
                    582,
                    358,
                    168,
                    200,
                    248,
                    270,
                    1808,
                    1082,
                    719,
                    193,
                    4540,
                    582,
                    59,
                    646,
                    281,
                    1548,
                    805,
                    291,
                    482,
                    84,
                    943,
                    185,
                    132,
                    1610,
                    582,
                    2261,
                    233,
                    30,
                    115,
                    1846,
                    335,
                    231,
                    58,
                    250,
                    910,
                    129,
                    72,
                    130,
                    582,
                    2334,
                    2442,
                    776,
                    196,
                    66,
                    582,
                    835,
                    582,
                    3966,
                    171,
                    115,
                    198,
                    95,
                    1419,
                    69,
                    122,
                    835,
                    478,
                    176,
                    395,
                    99,
                    145,
                    104,
                    582,
                    1896,
                    151,
                    244,
                    582,
                    62,
                    121,
                    231,
                    582,
                    418,
                    582,
                    167,
                    582,
                    1211,
                    1767,
                    308,
                    97,
                    59,
                    64,
                    167,
                    101,
                    212,
                    2281,
                    972,
                    212,
                    582,
                    224,
                    131,
                    135,
                    582,
                    1202,
                    427,
                    1021,
                    582,
                    582,
                    118,
                    86,
                    582,
                    582,
                    675,
                    57,
                    2794,
                    56,
                    211,
                    166,
                    93,
                    129,
                    707,
                    582,
                    109,
                    119,
                    232,
                    720,
                    180,
                    81,
                    582,
                    90,
                    1185,
                    582,
                    80,
                    2017,
                    143,
                    624,
                    207,
                    2522,
                    572,
                    245,
                    88,
                    446,
                    191,
                    326,
                    132,
                    66,
                    56,
                    66,
                    655,
                    258,
                    157,
                    582,
                    298,
                    1199,
                    135,
                    582,
                    582,
                    582,
                    582,
                    213,
                    64,
                    257,
                    582,
                    618,
                    582,
                    1051,
                    84,
                    2695,
                    582,
                    64,
                    1688,
                    54,
                    170,
                    253,
                    582,
                    892,
                    337,
                    615,
                    320,
                    190,
                    103,
                    61,
                    1820,
                    2060,
                    2413,
                    196
                  ],
                  "xaxis": "x8",
                  "yaxis": "y8"
                },
                {
                  "alignmentgroup": "True",
                  "bingroup": "x",
                  "hovertemplate": "Feature=ejection_fraction<br>Value=%{x}<br>count=%{y}<extra></extra>",
                  "legendgroup": "",
                  "marker": {
                    "color": "#636efa",
                    "pattern": {
                      "shape": ""
                    }
                  },
                  "name": "",
                  "nbinsx": 15,
                  "offsetgroup": "",
                  "orientation": "v",
                  "showlegend": false,
                  "type": "histogram",
                  "x": [
                    20,
                    38,
                    20,
                    20,
                    20,
                    40,
                    15,
                    60,
                    65,
                    35,
                    38,
                    25,
                    30,
                    38,
                    30,
                    50,
                    38,
                    14,
                    25,
                    55,
                    25,
                    30,
                    35,
                    60,
                    30,
                    38,
                    40,
                    45,
                    38,
                    30,
                    38,
                    45,
                    35,
                    30,
                    50,
                    35,
                    50,
                    50,
                    30,
                    38,
                    20,
                    30,
                    45,
                    50,
                    60,
                    38,
                    25,
                    38,
                    20,
                    30,
                    25,
                    20,
                    62,
                    50,
                    38,
                    30,
                    35,
                    40,
                    20,
                    20,
                    25,
                    40,
                    35,
                    35,
                    80,
                    20,
                    15,
                    25,
                    25,
                    25,
                    40,
                    35,
                    35,
                    50,
                    20,
                    20,
                    60,
                    40,
                    38,
                    45,
                    40,
                    50,
                    25,
                    50,
                    25,
                    50,
                    35,
                    60,
                    40,
                    25,
                    45,
                    45,
                    60,
                    25,
                    38,
                    60,
                    25,
                    60,
                    25,
                    40,
                    25,
                    45,
                    25,
                    30,
                    50,
                    30,
                    45,
                    35,
                    38,
                    35,
                    60,
                    35,
                    25,
                    60,
                    40,
                    40,
                    60,
                    60,
                    60,
                    38,
                    60,
                    38,
                    38,
                    30,
                    40,
                    50,
                    17,
                    60,
                    30,
                    35,
                    60,
                    45,
                    40,
                    60,
                    35,
                    40,
                    60,
                    25,
                    35,
                    30,
                    38,
                    35,
                    30,
                    40,
                    25,
                    30,
                    30,
                    60,
                    30,
                    35,
                    45,
                    60,
                    45,
                    35,
                    35,
                    25,
                    35,
                    25,
                    50,
                    45,
                    40,
                    35,
                    40,
                    35,
                    30,
                    38,
                    60,
                    20,
                    40,
                    35,
                    35,
                    40,
                    60,
                    20,
                    35,
                    60,
                    40,
                    50,
                    60,
                    40,
                    30,
                    25,
                    25,
                    38,
                    25,
                    30,
                    50,
                    25,
                    40,
                    45,
                    35,
                    60,
                    40,
                    30,
                    20,
                    45,
                    38,
                    30,
                    20,
                    35,
                    45,
                    60,
                    60,
                    25,
                    40,
                    45,
                    40,
                    38,
                    40,
                    35,
                    17,
                    62,
                    50,
                    30,
                    35,
                    35,
                    50,
                    70,
                    35,
                    35,
                    20,
                    50,
                    35,
                    25,
                    25,
                    60,
                    25,
                    35,
                    25,
                    25,
                    30,
                    35,
                    35,
                    38,
                    45,
                    50,
                    50,
                    30,
                    40,
                    45,
                    35,
                    30,
                    35,
                    40,
                    38,
                    38,
                    25,
                    25,
                    35,
                    40,
                    30,
                    35,
                    45,
                    35,
                    60,
                    30,
                    38,
                    38,
                    25,
                    50,
                    40,
                    40,
                    25,
                    60,
                    38,
                    35,
                    20,
                    38,
                    38,
                    35,
                    30,
                    40,
                    38,
                    40,
                    30,
                    38,
                    35,
                    38,
                    30,
                    38,
                    40,
                    40,
                    30,
                    38,
                    40,
                    40,
                    35,
                    55,
                    35,
                    38,
                    55,
                    35,
                    38,
                    35,
                    38,
                    38,
                    60,
                    38,
                    45
                  ],
                  "xaxis": "x9",
                  "yaxis": "y9"
                },
                {
                  "alignmentgroup": "True",
                  "bingroup": "x",
                  "hovertemplate": "Feature=platelets<br>Value=%{x}<br>count=%{y}<extra></extra>",
                  "legendgroup": "",
                  "marker": {
                    "color": "#636efa",
                    "pattern": {
                      "shape": ""
                    }
                  },
                  "name": "",
                  "nbinsx": 15,
                  "offsetgroup": "",
                  "orientation": "v",
                  "showlegend": false,
                  "type": "histogram",
                  "x": [
                    265000,
                    263358.03,
                    162000,
                    210000,
                    327000,
                    204000,
                    127000,
                    454000,
                    263358.03,
                    388000,
                    368000,
                    253000,
                    136000,
                    276000,
                    427000,
                    47000,
                    262000,
                    166000,
                    237000,
                    87000,
                    276000,
                    297000,
                    289000,
                    368000,
                    263358.03,
                    149000,
                    196000,
                    284000,
                    153000,
                    200000,
                    263358.03,
                    360000,
                    319000,
                    302000,
                    188000,
                    228000,
                    226000,
                    321000,
                    305000,
                    329000,
                    263358.03,
                    153000,
                    185000,
                    218000,
                    194000,
                    310000,
                    271000,
                    451000,
                    140000,
                    395000,
                    166000,
                    418000,
                    263358.03,
                    351000,
                    255000,
                    461000,
                    223000,
                    216000,
                    319000,
                    254000,
                    390000,
                    216000,
                    254000,
                    385000,
                    263358.03,
                    119000,
                    213000,
                    274000,
                    244000,
                    497000,
                    374000,
                    122000,
                    243000,
                    149000,
                    266000,
                    204000,
                    317000,
                    237000,
                    283000,
                    324000,
                    293000,
                    263358.03,
                    196000,
                    172000,
                    302000,
                    406000,
                    173000,
                    304000,
                    235000,
                    181000,
                    249000,
                    297000,
                    263358.03,
                    210000,
                    327000,
                    219000,
                    254000,
                    255000,
                    318000,
                    221000,
                    298000,
                    263358.03,
                    149000,
                    226000,
                    286000,
                    621000,
                    263000,
                    226000,
                    304000,
                    850000,
                    306000,
                    228000,
                    252000,
                    351000,
                    328000,
                    164000,
                    271000,
                    507000,
                    203000,
                    263358.03,
                    210000,
                    162000,
                    228000,
                    127000,
                    217000,
                    237000,
                    271000,
                    300000,
                    267000,
                    227000,
                    249000,
                    250000,
                    263358.03,
                    295000,
                    231000,
                    263358.03,
                    172000,
                    305000,
                    221000,
                    211000,
                    263358.03,
                    348000,
                    329000,
                    229000,
                    338000,
                    266000,
                    218000,
                    242000,
                    225000,
                    228000,
                    235000,
                    244000,
                    184000,
                    263358.03,
                    235000,
                    194000,
                    277000,
                    262000,
                    235000,
                    362000,
                    242000,
                    174000,
                    448000,
                    75000,
                    334000,
                    192000,
                    220000,
                    70000,
                    270000,
                    305000,
                    263358.03,
                    325000,
                    176000,
                    189000,
                    281000,
                    337000,
                    105000,
                    132000,
                    267000,
                    279000,
                    303000,
                    221000,
                    265000,
                    224000,
                    219000,
                    389000,
                    153000,
                    365000,
                    201000,
                    275000,
                    350000,
                    309000,
                    260000,
                    160000,
                    126000,
                    223000,
                    263358.03,
                    259000,
                    279000,
                    263358.03,
                    73000,
                    377000,
                    220000,
                    212000,
                    277000,
                    362000,
                    226000,
                    186000,
                    283000,
                    268000,
                    389000,
                    147000,
                    481000,
                    244000,
                    290000,
                    203000,
                    358000,
                    151000,
                    271000,
                    371000,
                    263358.03,
                    194000,
                    365000,
                    130000,
                    504000,
                    265000,
                    189000,
                    141000,
                    237000,
                    274000,
                    62000,
                    185000,
                    255000,
                    330000,
                    305000,
                    406000,
                    248000,
                    173000,
                    257000,
                    263358.03,
                    533000,
                    249000,
                    255000,
                    220000,
                    264000,
                    282000,
                    314000,
                    246000,
                    301000,
                    223000,
                    404000,
                    231000,
                    274000,
                    236000,
                    263358.03,
                    334000,
                    294000,
                    253000,
                    233000,
                    308000,
                    203000,
                    283000,
                    198000,
                    208000,
                    147000,
                    362000,
                    263358.03,
                    133000,
                    302000,
                    222000,
                    263358.03,
                    221000,
                    215000,
                    189000,
                    150000,
                    422000,
                    327000,
                    25100,
                    232000,
                    451000,
                    241000,
                    51000,
                    215000,
                    263358.03,
                    279000,
                    336000,
                    279000,
                    543000,
                    263358.03,
                    390000,
                    222000,
                    133000,
                    382000,
                    179000,
                    155000,
                    270000,
                    742000,
                    140000,
                    395000
                  ],
                  "xaxis": "x4",
                  "yaxis": "y4"
                },
                {
                  "alignmentgroup": "True",
                  "bingroup": "x",
                  "hovertemplate": "Feature=serum_creatinine<br>Value=%{x}<br>count=%{y}<extra></extra>",
                  "legendgroup": "",
                  "marker": {
                    "color": "#636efa",
                    "pattern": {
                      "shape": ""
                    }
                  },
                  "name": "",
                  "nbinsx": 15,
                  "offsetgroup": "",
                  "orientation": "v",
                  "showlegend": false,
                  "type": "histogram",
                  "x": [
                    1.9,
                    1.1,
                    1.3,
                    1.9,
                    2.7,
                    2.1,
                    1.2,
                    1.1,
                    1.5,
                    9.4,
                    4,
                    0.9,
                    1.1,
                    1.1,
                    1,
                    1.3,
                    0.9,
                    0.8,
                    1,
                    1.9,
                    1.3,
                    1.6,
                    0.9,
                    0.8,
                    1.83,
                    1.9,
                    1,
                    1.3,
                    5.8,
                    1.2,
                    1.83,
                    3,
                    1,
                    1.2,
                    1,
                    3.5,
                    1,
                    1,
                    2.3,
                    3,
                    1.83,
                    1.2,
                    1.2,
                    1,
                    1.1,
                    1.9,
                    0.9,
                    0.6,
                    4.4,
                    1,
                    1,
                    1.4,
                    6.8,
                    1,
                    2.2,
                    2,
                    2.7,
                    0.6,
                    1.1,
                    1.3,
                    1,
                    2.3,
                    1.1,
                    1,
                    1.18,
                    2.9,
                    1.3,
                    1,
                    1.2,
                    1.83,
                    0.8,
                    0.9,
                    1,
                    1.3,
                    1.2,
                    0.7,
                    0.8,
                    1.2,
                    0.6,
                    0.9,
                    1.7,
                    1.18,
                    2.5,
                    1.8,
                    1,
                    0.7,
                    1.1,
                    0.8,
                    0.7,
                    1.1,
                    0.8,
                    1,
                    1.18,
                    1.7,
                    0.7,
                    1,
                    1.3,
                    1.1,
                    1.2,
                    1.1,
                    1.1,
                    1.18,
                    1.1,
                    1,
                    2.3,
                    1.7,
                    1.3,
                    0.9,
                    1.1,
                    1.3,
                    1.2,
                    1.2,
                    1.6,
                    1.3,
                    1.2,
                    1,
                    0.7,
                    3.2,
                    0.9,
                    1.83,
                    1.5,
                    1,
                    0.75,
                    0.9,
                    3.7,
                    1.3,
                    2.1,
                    0.8,
                    0.7,
                    3.4,
                    0.7,
                    6.1,
                    1.18,
                    1.3,
                    1.18,
                    1.18,
                    0.9,
                    2.1,
                    1,
                    0.8,
                    1.1,
                    0.9,
                    0.9,
                    0.9,
                    1.7,
                    0.7,
                    0.7,
                    1,
                    1.83,
                    0.9,
                    2.5,
                    0.9,
                    0.9,
                    1.18,
                    0.8,
                    1.7,
                    1.4,
                    1,
                    1.3,
                    1.1,
                    1.2,
                    0.8,
                    0.9,
                    0.9,
                    1.1,
                    1.3,
                    0.7,
                    2.4,
                    1,
                    0.8,
                    1.5,
                    0.9,
                    1.1,
                    0.8,
                    0.9,
                    1,
                    1,
                    1,
                    1.2,
                    0.7,
                    0.9,
                    1,
                    1.2,
                    2.5,
                    1.2,
                    1.5,
                    0.6,
                    2.1,
                    1,
                    0.9,
                    2.1,
                    1.5,
                    0.7,
                    1.18,
                    1.6,
                    1.8,
                    1.18,
                    0.8,
                    1,
                    1.8,
                    0.7,
                    1,
                    0.9,
                    3.5,
                    0.7,
                    1,
                    0.8,
                    0.9,
                    1,
                    0.8,
                    1,
                    0.8,
                    1.4,
                    1.6,
                    0.8,
                    1.3,
                    0.9,
                    9,
                    1.1,
                    0.7,
                    1.83,
                    1.1,
                    1.1,
                    0.8,
                    1,
                    1.4,
                    1.3,
                    1,
                    5,
                    1.2,
                    1.7,
                    1.1,
                    0.9,
                    1.4,
                    1.1,
                    1.1,
                    1.1,
                    1.2,
                    1,
                    1.18,
                    1.3,
                    1.3,
                    1.1,
                    0.9,
                    1.8,
                    1.4,
                    1.1,
                    2.4,
                    1,
                    1.2,
                    0.5,
                    0.8,
                    1,
                    1.2,
                    1,
                    1,
                    1.7,
                    1,
                    0.8,
                    0.7,
                    1,
                    0.7,
                    1.4,
                    1,
                    1.2,
                    0.9,
                    1.83,
                    1.7,
                    0.9,
                    1,
                    1.6,
                    0.9,
                    1.2,
                    0.7,
                    1,
                    0.8,
                    1.1,
                    1.1,
                    0.7,
                    1.3,
                    1,
                    2.7,
                    3.8,
                    1.1,
                    0.8,
                    1.2,
                    1.7,
                    1,
                    1.1,
                    0.9,
                    0.8,
                    1.4,
                    1,
                    0.9,
                    1.1,
                    1.2,
                    0.8,
                    1.4,
                    1.6
                  ],
                  "xaxis": "x5",
                  "yaxis": "y5"
                },
                {
                  "alignmentgroup": "True",
                  "bingroup": "x",
                  "hovertemplate": "Feature=serum_sodium<br>Value=%{x}<br>count=%{y}<extra></extra>",
                  "legendgroup": "",
                  "marker": {
                    "color": "#636efa",
                    "pattern": {
                      "shape": ""
                    }
                  },
                  "name": "",
                  "nbinsx": 15,
                  "offsetgroup": "",
                  "orientation": "v",
                  "showlegend": false,
                  "type": "histogram",
                  "x": [
                    130,
                    136,
                    129,
                    137,
                    116,
                    132,
                    137,
                    131,
                    138,
                    133,
                    131,
                    140,
                    137,
                    137,
                    138,
                    136,
                    140,
                    127,
                    140,
                    121,
                    137,
                    136,
                    140,
                    135,
                    134,
                    144,
                    138,
                    136,
                    134,
                    132,
                    134,
                    132,
                    128,
                    138,
                    140,
                    134,
                    134,
                    145,
                    137,
                    142,
                    134,
                    136,
                    139,
                    134,
                    142,
                    135,
                    130,
                    138,
                    133,
                    140,
                    138,
                    139,
                    146,
                    134,
                    132,
                    132,
                    138,
                    138,
                    136,
                    136,
                    139,
                    131,
                    139,
                    145,
                    137,
                    127,
                    136,
                    140,
                    142,
                    135,
                    140,
                    139,
                    132,
                    137,
                    134,
                    139,
                    140,
                    140,
                    131,
                    140,
                    136,
                    137,
                    132,
                    133,
                    141,
                    140,
                    137,
                    140,
                    139,
                    144,
                    136,
                    133,
                    137,
                    135,
                    142,
                    141,
                    134,
                    136,
                    137,
                    140,
                    141,
                    137,
                    144,
                    140,
                    143,
                    138,
                    137,
                    138,
                    133,
                    142,
                    132,
                    135,
                    136,
                    137,
                    126,
                    139,
                    136,
                    138,
                    140,
                    134,
                    135,
                    136,
                    140,
                    145,
                    134,
                    135,
                    124,
                    137,
                    136,
                    145,
                    138,
                    131,
                    137,
                    145,
                    137,
                    137,
                    137,
                    130,
                    136,
                    138,
                    134,
                    140,
                    132,
                    141,
                    139,
                    141,
                    136,
                    137,
                    134,
                    136,
                    135,
                    139,
                    134,
                    137,
                    136,
                    140,
                    136,
                    136,
                    134,
                    139,
                    134,
                    139,
                    137,
                    142,
                    139,
                    135,
                    133,
                    134,
                    138,
                    133,
                    136,
                    140,
                    145,
                    139,
                    137,
                    138,
                    135,
                    140,
                    145,
                    140,
                    136,
                    136,
                    136,
                    134,
                    137,
                    136,
                    134,
                    144,
                    136,
                    140,
                    134,
                    135,
                    130,
                    142,
                    135,
                    145,
                    137,
                    138,
                    134,
                    113,
                    137,
                    136,
                    138,
                    136,
                    137,
                    136,
                    141,
                    136,
                    141,
                    130,
                    136,
                    140,
                    138,
                    130,
                    134,
                    134,
                    141,
                    137,
                    134,
                    140,
                    134,
                    145,
                    139,
                    134,
                    138,
                    125,
                    132,
                    140,
                    130,
                    134,
                    127,
                    134,
                    137,
                    137,
                    137,
                    137,
                    148,
                    132,
                    136,
                    137,
                    139,
                    136,
                    136,
                    141,
                    134,
                    137,
                    138,
                    135,
                    142,
                    130,
                    139,
                    143,
                    133,
                    132,
                    139,
                    142,
                    139,
                    139,
                    135,
                    135,
                    138,
                    133,
                    129,
                    140,
                    141,
                    140,
                    134,
                    140,
                    140,
                    132,
                    130,
                    134,
                    133,
                    140,
                    137,
                    137,
                    142,
                    140,
                    136,
                    136,
                    137,
                    136,
                    128,
                    138,
                    141,
                    135,
                    140,
                    132,
                    142,
                    144,
                    141,
                    139,
                    140,
                    136,
                    143,
                    139,
                    138,
                    140,
                    136
                  ],
                  "xaxis": "x6",
                  "yaxis": "y6"
                },
                {
                  "alignmentgroup": "True",
                  "bingroup": "x",
                  "hovertemplate": "Feature=time<br>Value=%{x}<br>count=%{y}<extra></extra>",
                  "legendgroup": "",
                  "marker": {
                    "color": "#636efa",
                    "pattern": {
                      "shape": ""
                    }
                  },
                  "name": "",
                  "nbinsx": 15,
                  "offsetgroup": "",
                  "orientation": "v",
                  "showlegend": false,
                  "type": "histogram",
                  "x": [
                    4,
                    6,
                    7,
                    7,
                    8,
                    8,
                    10,
                    10,
                    10,
                    10,
                    10,
                    10,
                    11,
                    11,
                    12,
                    13,
                    14,
                    14,
                    15,
                    15,
                    16,
                    20,
                    20,
                    22,
                    23,
                    23,
                    24,
                    26,
                    26,
                    26,
                    27,
                    28,
                    28,
                    29,
                    29,
                    30,
                    30,
                    30,
                    30,
                    30,
                    31,
                    32,
                    33,
                    33,
                    33,
                    35,
                    38,
                    40,
                    41,
                    42,
                    43,
                    43,
                    43,
                    44,
                    45,
                    50,
                    54,
                    54,
                    55,
                    59,
                    60,
                    60,
                    60,
                    61,
                    63,
                    64,
                    65,
                    65,
                    66,
                    67,
                    68,
                    71,
                    72,
                    72,
                    73,
                    73,
                    74,
                    74,
                    74,
                    74,
                    75,
                    76,
                    77,
                    78,
                    78,
                    79,
                    79,
                    79,
                    79,
                    79,
                    80,
                    80,
                    82,
                    82,
                    83,
                    83,
                    83,
                    85,
                    85,
                    86,
                    87,
                    87,
                    87,
                    87,
                    87,
                    88,
                    88,
                    88,
                    88,
                    88,
                    90,
                    90,
                    90,
                    90,
                    91,
                    91,
                    94,
                    94,
                    94,
                    95,
                    95,
                    95,
                    95,
                    95,
                    96,
                    97,
                    100,
                    104,
                    104,
                    105,
                    106,
                    107,
                    107,
                    107,
                    107,
                    107,
                    107,
                    108,
                    108,
                    108,
                    109,
                    109,
                    109,
                    110,
                    111,
                    112,
                    112,
                    113,
                    113,
                    115,
                    115,
                    117,
                    118,
                    119,
                    120,
                    120,
                    120,
                    120,
                    121,
                    121,
                    121,
                    121,
                    123,
                    126,
                    129,
                    130,
                    134,
                    135,
                    140,
                    145,
                    145,
                    146,
                    146,
                    146,
                    146,
                    146,
                    147,
                    147,
                    147,
                    147,
                    148,
                    150,
                    154,
                    162,
                    170,
                    171,
                    172,
                    172,
                    172,
                    174,
                    174,
                    174,
                    175,
                    180,
                    180,
                    180,
                    185,
                    186,
                    186,
                    186,
                    186,
                    186,
                    186,
                    187,
                    187,
                    187,
                    187,
                    187,
                    187,
                    187,
                    188,
                    192,
                    192,
                    193,
                    194,
                    195,
                    196,
                    196,
                    197,
                    197,
                    198,
                    200,
                    201,
                    201,
                    205,
                    205,
                    205,
                    206,
                    207,
                    207,
                    207,
                    208,
                    209,
                    209,
                    209,
                    209,
                    209,
                    210,
                    210,
                    211,
                    212,
                    212,
                    212,
                    213,
                    213,
                    213,
                    214,
                    214,
                    214,
                    214,
                    214,
                    215,
                    215,
                    215,
                    215,
                    216,
                    220,
                    230,
                    230,
                    231,
                    233,
                    233,
                    235,
                    237,
                    237,
                    240,
                    241,
                    244,
                    244,
                    244,
                    244,
                    244,
                    245,
                    245,
                    245,
                    245,
                    245,
                    246,
                    246,
                    246,
                    247,
                    250,
                    250,
                    250,
                    250,
                    250,
                    250,
                    250,
                    256,
                    256,
                    257,
                    258,
                    258,
                    270,
                    270,
                    271,
                    278,
                    280,
                    285
                  ],
                  "xaxis": "x",
                  "yaxis": "y"
                }
              ],
              "layout": {
                "annotations": [
                  {
                    "font": {},
                    "showarrow": false,
                    "text": "time",
                    "x": 0.15999999999999998,
                    "xanchor": "center",
                    "xref": "paper",
                    "y": 0.2866666666666666,
                    "yanchor": "bottom",
                    "yref": "paper"
                  },
                  {
                    "font": {},
                    "showarrow": false,
                    "text": "platelets",
                    "x": 0.15999999999999998,
                    "xanchor": "center",
                    "xref": "paper",
                    "y": 0.6433333333333333,
                    "yanchor": "bottom",
                    "yref": "paper"
                  },
                  {
                    "font": {},
                    "showarrow": false,
                    "text": "serum_creatinine",
                    "x": 0.49999999999999994,
                    "xanchor": "center",
                    "xref": "paper",
                    "y": 0.6433333333333333,
                    "yanchor": "bottom",
                    "yref": "paper"
                  },
                  {
                    "font": {},
                    "showarrow": false,
                    "text": "serum_sodium",
                    "x": 0.8399999999999999,
                    "xanchor": "center",
                    "xref": "paper",
                    "y": 0.6433333333333333,
                    "yanchor": "bottom",
                    "yref": "paper"
                  },
                  {
                    "font": {},
                    "showarrow": false,
                    "text": "age",
                    "x": 0.15999999999999998,
                    "xanchor": "center",
                    "xref": "paper",
                    "y": 0.9999999999999999,
                    "yanchor": "bottom",
                    "yref": "paper"
                  },
                  {
                    "font": {},
                    "showarrow": false,
                    "text": "creatinine_phosphokinase",
                    "x": 0.49999999999999994,
                    "xanchor": "center",
                    "xref": "paper",
                    "y": 0.9999999999999999,
                    "yanchor": "bottom",
                    "yref": "paper"
                  },
                  {
                    "font": {},
                    "showarrow": false,
                    "text": "ejection_fraction",
                    "x": 0.8399999999999999,
                    "xanchor": "center",
                    "xref": "paper",
                    "y": 0.9999999999999999,
                    "yanchor": "bottom",
                    "yref": "paper"
                  }
                ],
                "barmode": "relative",
                "height": 750,
                "legend": {
                  "tracegroupgap": 0
                },
                "showlegend": false,
                "template": {
                  "data": {
                    "bar": [
                      {
                        "error_x": {
                          "color": "#2a3f5f"
                        },
                        "error_y": {
                          "color": "#2a3f5f"
                        },
                        "marker": {
                          "line": {
                            "color": "#E5ECF6",
                            "width": 0.5
                          },
                          "pattern": {
                            "fillmode": "overlay",
                            "size": 10,
                            "solidity": 0.2
                          }
                        },
                        "type": "bar"
                      }
                    ],
                    "barpolar": [
                      {
                        "marker": {
                          "line": {
                            "color": "#E5ECF6",
                            "width": 0.5
                          },
                          "pattern": {
                            "fillmode": "overlay",
                            "size": 10,
                            "solidity": 0.2
                          }
                        },
                        "type": "barpolar"
                      }
                    ],
                    "carpet": [
                      {
                        "aaxis": {
                          "endlinecolor": "#2a3f5f",
                          "gridcolor": "white",
                          "linecolor": "white",
                          "minorgridcolor": "white",
                          "startlinecolor": "#2a3f5f"
                        },
                        "baxis": {
                          "endlinecolor": "#2a3f5f",
                          "gridcolor": "white",
                          "linecolor": "white",
                          "minorgridcolor": "white",
                          "startlinecolor": "#2a3f5f"
                        },
                        "type": "carpet"
                      }
                    ],
                    "choropleth": [
                      {
                        "colorbar": {
                          "outlinewidth": 0,
                          "ticks": ""
                        },
                        "type": "choropleth"
                      }
                    ],
                    "contour": [
                      {
                        "colorbar": {
                          "outlinewidth": 0,
                          "ticks": ""
                        },
                        "colorscale": [
                          [
                            0,
                            "#0d0887"
                          ],
                          [
                            0.1111111111111111,
                            "#46039f"
                          ],
                          [
                            0.2222222222222222,
                            "#7201a8"
                          ],
                          [
                            0.3333333333333333,
                            "#9c179e"
                          ],
                          [
                            0.4444444444444444,
                            "#bd3786"
                          ],
                          [
                            0.5555555555555556,
                            "#d8576b"
                          ],
                          [
                            0.6666666666666666,
                            "#ed7953"
                          ],
                          [
                            0.7777777777777778,
                            "#fb9f3a"
                          ],
                          [
                            0.8888888888888888,
                            "#fdca26"
                          ],
                          [
                            1,
                            "#f0f921"
                          ]
                        ],
                        "type": "contour"
                      }
                    ],
                    "contourcarpet": [
                      {
                        "colorbar": {
                          "outlinewidth": 0,
                          "ticks": ""
                        },
                        "type": "contourcarpet"
                      }
                    ],
                    "heatmap": [
                      {
                        "colorbar": {
                          "outlinewidth": 0,
                          "ticks": ""
                        },
                        "colorscale": [
                          [
                            0,
                            "#0d0887"
                          ],
                          [
                            0.1111111111111111,
                            "#46039f"
                          ],
                          [
                            0.2222222222222222,
                            "#7201a8"
                          ],
                          [
                            0.3333333333333333,
                            "#9c179e"
                          ],
                          [
                            0.4444444444444444,
                            "#bd3786"
                          ],
                          [
                            0.5555555555555556,
                            "#d8576b"
                          ],
                          [
                            0.6666666666666666,
                            "#ed7953"
                          ],
                          [
                            0.7777777777777778,
                            "#fb9f3a"
                          ],
                          [
                            0.8888888888888888,
                            "#fdca26"
                          ],
                          [
                            1,
                            "#f0f921"
                          ]
                        ],
                        "type": "heatmap"
                      }
                    ],
                    "heatmapgl": [
                      {
                        "colorbar": {
                          "outlinewidth": 0,
                          "ticks": ""
                        },
                        "colorscale": [
                          [
                            0,
                            "#0d0887"
                          ],
                          [
                            0.1111111111111111,
                            "#46039f"
                          ],
                          [
                            0.2222222222222222,
                            "#7201a8"
                          ],
                          [
                            0.3333333333333333,
                            "#9c179e"
                          ],
                          [
                            0.4444444444444444,
                            "#bd3786"
                          ],
                          [
                            0.5555555555555556,
                            "#d8576b"
                          ],
                          [
                            0.6666666666666666,
                            "#ed7953"
                          ],
                          [
                            0.7777777777777778,
                            "#fb9f3a"
                          ],
                          [
                            0.8888888888888888,
                            "#fdca26"
                          ],
                          [
                            1,
                            "#f0f921"
                          ]
                        ],
                        "type": "heatmapgl"
                      }
                    ],
                    "histogram": [
                      {
                        "marker": {
                          "pattern": {
                            "fillmode": "overlay",
                            "size": 10,
                            "solidity": 0.2
                          }
                        },
                        "type": "histogram"
                      }
                    ],
                    "histogram2d": [
                      {
                        "colorbar": {
                          "outlinewidth": 0,
                          "ticks": ""
                        },
                        "colorscale": [
                          [
                            0,
                            "#0d0887"
                          ],
                          [
                            0.1111111111111111,
                            "#46039f"
                          ],
                          [
                            0.2222222222222222,
                            "#7201a8"
                          ],
                          [
                            0.3333333333333333,
                            "#9c179e"
                          ],
                          [
                            0.4444444444444444,
                            "#bd3786"
                          ],
                          [
                            0.5555555555555556,
                            "#d8576b"
                          ],
                          [
                            0.6666666666666666,
                            "#ed7953"
                          ],
                          [
                            0.7777777777777778,
                            "#fb9f3a"
                          ],
                          [
                            0.8888888888888888,
                            "#fdca26"
                          ],
                          [
                            1,
                            "#f0f921"
                          ]
                        ],
                        "type": "histogram2d"
                      }
                    ],
                    "histogram2dcontour": [
                      {
                        "colorbar": {
                          "outlinewidth": 0,
                          "ticks": ""
                        },
                        "colorscale": [
                          [
                            0,
                            "#0d0887"
                          ],
                          [
                            0.1111111111111111,
                            "#46039f"
                          ],
                          [
                            0.2222222222222222,
                            "#7201a8"
                          ],
                          [
                            0.3333333333333333,
                            "#9c179e"
                          ],
                          [
                            0.4444444444444444,
                            "#bd3786"
                          ],
                          [
                            0.5555555555555556,
                            "#d8576b"
                          ],
                          [
                            0.6666666666666666,
                            "#ed7953"
                          ],
                          [
                            0.7777777777777778,
                            "#fb9f3a"
                          ],
                          [
                            0.8888888888888888,
                            "#fdca26"
                          ],
                          [
                            1,
                            "#f0f921"
                          ]
                        ],
                        "type": "histogram2dcontour"
                      }
                    ],
                    "mesh3d": [
                      {
                        "colorbar": {
                          "outlinewidth": 0,
                          "ticks": ""
                        },
                        "type": "mesh3d"
                      }
                    ],
                    "parcoords": [
                      {
                        "line": {
                          "colorbar": {
                            "outlinewidth": 0,
                            "ticks": ""
                          }
                        },
                        "type": "parcoords"
                      }
                    ],
                    "pie": [
                      {
                        "automargin": true,
                        "type": "pie"
                      }
                    ],
                    "scatter": [
                      {
                        "fillpattern": {
                          "fillmode": "overlay",
                          "size": 10,
                          "solidity": 0.2
                        },
                        "type": "scatter"
                      }
                    ],
                    "scatter3d": [
                      {
                        "line": {
                          "colorbar": {
                            "outlinewidth": 0,
                            "ticks": ""
                          }
                        },
                        "marker": {
                          "colorbar": {
                            "outlinewidth": 0,
                            "ticks": ""
                          }
                        },
                        "type": "scatter3d"
                      }
                    ],
                    "scattercarpet": [
                      {
                        "marker": {
                          "colorbar": {
                            "outlinewidth": 0,
                            "ticks": ""
                          }
                        },
                        "type": "scattercarpet"
                      }
                    ],
                    "scattergeo": [
                      {
                        "marker": {
                          "colorbar": {
                            "outlinewidth": 0,
                            "ticks": ""
                          }
                        },
                        "type": "scattergeo"
                      }
                    ],
                    "scattergl": [
                      {
                        "marker": {
                          "colorbar": {
                            "outlinewidth": 0,
                            "ticks": ""
                          }
                        },
                        "type": "scattergl"
                      }
                    ],
                    "scattermapbox": [
                      {
                        "marker": {
                          "colorbar": {
                            "outlinewidth": 0,
                            "ticks": ""
                          }
                        },
                        "type": "scattermapbox"
                      }
                    ],
                    "scatterpolar": [
                      {
                        "marker": {
                          "colorbar": {
                            "outlinewidth": 0,
                            "ticks": ""
                          }
                        },
                        "type": "scatterpolar"
                      }
                    ],
                    "scatterpolargl": [
                      {
                        "marker": {
                          "colorbar": {
                            "outlinewidth": 0,
                            "ticks": ""
                          }
                        },
                        "type": "scatterpolargl"
                      }
                    ],
                    "scatterternary": [
                      {
                        "marker": {
                          "colorbar": {
                            "outlinewidth": 0,
                            "ticks": ""
                          }
                        },
                        "type": "scatterternary"
                      }
                    ],
                    "surface": [
                      {
                        "colorbar": {
                          "outlinewidth": 0,
                          "ticks": ""
                        },
                        "colorscale": [
                          [
                            0,
                            "#0d0887"
                          ],
                          [
                            0.1111111111111111,
                            "#46039f"
                          ],
                          [
                            0.2222222222222222,
                            "#7201a8"
                          ],
                          [
                            0.3333333333333333,
                            "#9c179e"
                          ],
                          [
                            0.4444444444444444,
                            "#bd3786"
                          ],
                          [
                            0.5555555555555556,
                            "#d8576b"
                          ],
                          [
                            0.6666666666666666,
                            "#ed7953"
                          ],
                          [
                            0.7777777777777778,
                            "#fb9f3a"
                          ],
                          [
                            0.8888888888888888,
                            "#fdca26"
                          ],
                          [
                            1,
                            "#f0f921"
                          ]
                        ],
                        "type": "surface"
                      }
                    ],
                    "table": [
                      {
                        "cells": {
                          "fill": {
                            "color": "#EBF0F8"
                          },
                          "line": {
                            "color": "white"
                          }
                        },
                        "header": {
                          "fill": {
                            "color": "#C8D4E3"
                          },
                          "line": {
                            "color": "white"
                          }
                        },
                        "type": "table"
                      }
                    ]
                  },
                  "layout": {
                    "annotationdefaults": {
                      "arrowcolor": "#2a3f5f",
                      "arrowhead": 0,
                      "arrowwidth": 1
                    },
                    "autotypenumbers": "strict",
                    "coloraxis": {
                      "colorbar": {
                        "outlinewidth": 0,
                        "ticks": ""
                      }
                    },
                    "colorscale": {
                      "diverging": [
                        [
                          0,
                          "#8e0152"
                        ],
                        [
                          0.1,
                          "#c51b7d"
                        ],
                        [
                          0.2,
                          "#de77ae"
                        ],
                        [
                          0.3,
                          "#f1b6da"
                        ],
                        [
                          0.4,
                          "#fde0ef"
                        ],
                        [
                          0.5,
                          "#f7f7f7"
                        ],
                        [
                          0.6,
                          "#e6f5d0"
                        ],
                        [
                          0.7,
                          "#b8e186"
                        ],
                        [
                          0.8,
                          "#7fbc41"
                        ],
                        [
                          0.9,
                          "#4d9221"
                        ],
                        [
                          1,
                          "#276419"
                        ]
                      ],
                      "sequential": [
                        [
                          0,
                          "#0d0887"
                        ],
                        [
                          0.1111111111111111,
                          "#46039f"
                        ],
                        [
                          0.2222222222222222,
                          "#7201a8"
                        ],
                        [
                          0.3333333333333333,
                          "#9c179e"
                        ],
                        [
                          0.4444444444444444,
                          "#bd3786"
                        ],
                        [
                          0.5555555555555556,
                          "#d8576b"
                        ],
                        [
                          0.6666666666666666,
                          "#ed7953"
                        ],
                        [
                          0.7777777777777778,
                          "#fb9f3a"
                        ],
                        [
                          0.8888888888888888,
                          "#fdca26"
                        ],
                        [
                          1,
                          "#f0f921"
                        ]
                      ],
                      "sequentialminus": [
                        [
                          0,
                          "#0d0887"
                        ],
                        [
                          0.1111111111111111,
                          "#46039f"
                        ],
                        [
                          0.2222222222222222,
                          "#7201a8"
                        ],
                        [
                          0.3333333333333333,
                          "#9c179e"
                        ],
                        [
                          0.4444444444444444,
                          "#bd3786"
                        ],
                        [
                          0.5555555555555556,
                          "#d8576b"
                        ],
                        [
                          0.6666666666666666,
                          "#ed7953"
                        ],
                        [
                          0.7777777777777778,
                          "#fb9f3a"
                        ],
                        [
                          0.8888888888888888,
                          "#fdca26"
                        ],
                        [
                          1,
                          "#f0f921"
                        ]
                      ]
                    },
                    "colorway": [
                      "#636efa",
                      "#EF553B",
                      "#00cc96",
                      "#ab63fa",
                      "#FFA15A",
                      "#19d3f3",
                      "#FF6692",
                      "#B6E880",
                      "#FF97FF",
                      "#FECB52"
                    ],
                    "font": {
                      "color": "#2a3f5f"
                    },
                    "geo": {
                      "bgcolor": "white",
                      "lakecolor": "white",
                      "landcolor": "#E5ECF6",
                      "showlakes": true,
                      "showland": true,
                      "subunitcolor": "white"
                    },
                    "hoverlabel": {
                      "align": "left"
                    },
                    "hovermode": "closest",
                    "mapbox": {
                      "style": "light"
                    },
                    "paper_bgcolor": "white",
                    "plot_bgcolor": "#E5ECF6",
                    "polar": {
                      "angularaxis": {
                        "gridcolor": "white",
                        "linecolor": "white",
                        "ticks": ""
                      },
                      "bgcolor": "#E5ECF6",
                      "radialaxis": {
                        "gridcolor": "white",
                        "linecolor": "white",
                        "ticks": ""
                      }
                    },
                    "scene": {
                      "xaxis": {
                        "backgroundcolor": "#E5ECF6",
                        "gridcolor": "white",
                        "gridwidth": 2,
                        "linecolor": "white",
                        "showbackground": true,
                        "ticks": "",
                        "zerolinecolor": "white"
                      },
                      "yaxis": {
                        "backgroundcolor": "#E5ECF6",
                        "gridcolor": "white",
                        "gridwidth": 2,
                        "linecolor": "white",
                        "showbackground": true,
                        "ticks": "",
                        "zerolinecolor": "white"
                      },
                      "zaxis": {
                        "backgroundcolor": "#E5ECF6",
                        "gridcolor": "white",
                        "gridwidth": 2,
                        "linecolor": "white",
                        "showbackground": true,
                        "ticks": "",
                        "zerolinecolor": "white"
                      }
                    },
                    "shapedefaults": {
                      "line": {
                        "color": "#2a3f5f"
                      }
                    },
                    "ternary": {
                      "aaxis": {
                        "gridcolor": "white",
                        "linecolor": "white",
                        "ticks": ""
                      },
                      "baxis": {
                        "gridcolor": "white",
                        "linecolor": "white",
                        "ticks": ""
                      },
                      "bgcolor": "#E5ECF6",
                      "caxis": {
                        "gridcolor": "white",
                        "linecolor": "white",
                        "ticks": ""
                      }
                    },
                    "title": {
                      "x": 0.05
                    },
                    "xaxis": {
                      "automargin": true,
                      "gridcolor": "white",
                      "linecolor": "white",
                      "ticks": "",
                      "title": {
                        "standoff": 15
                      },
                      "zerolinecolor": "white",
                      "zerolinewidth": 2
                    },
                    "yaxis": {
                      "automargin": true,
                      "gridcolor": "white",
                      "linecolor": "white",
                      "ticks": "",
                      "title": {
                        "standoff": 15
                      },
                      "zerolinecolor": "white",
                      "zerolinewidth": 2
                    }
                  }
                },
                "title": {
                  "text": "Distributions of Continuous Features"
                },
                "xaxis": {
                  "anchor": "y",
                  "domain": [
                    0,
                    0.31999999999999995
                  ],
                  "title": {
                    "text": "Value"
                  }
                },
                "xaxis2": {
                  "anchor": "y2",
                  "domain": [
                    0.33999999999999997,
                    0.6599999999999999
                  ],
                  "matches": "x",
                  "title": {
                    "text": "Value"
                  }
                },
                "xaxis3": {
                  "anchor": "y3",
                  "domain": [
                    0.6799999999999999,
                    0.9999999999999999
                  ],
                  "matches": "x",
                  "title": {
                    "text": "Value"
                  }
                },
                "xaxis4": {
                  "anchor": "y4",
                  "domain": [
                    0,
                    0.31999999999999995
                  ],
                  "matches": "x",
                  "showticklabels": false
                },
                "xaxis5": {
                  "anchor": "y5",
                  "domain": [
                    0.33999999999999997,
                    0.6599999999999999
                  ],
                  "matches": "x",
                  "showticklabels": false
                },
                "xaxis6": {
                  "anchor": "y6",
                  "domain": [
                    0.6799999999999999,
                    0.9999999999999999
                  ],
                  "matches": "x",
                  "showticklabels": false
                },
                "xaxis7": {
                  "anchor": "y7",
                  "domain": [
                    0,
                    0.31999999999999995
                  ],
                  "matches": "x",
                  "showticklabels": false
                },
                "xaxis8": {
                  "anchor": "y8",
                  "domain": [
                    0.33999999999999997,
                    0.6599999999999999
                  ],
                  "matches": "x",
                  "showticklabels": false
                },
                "xaxis9": {
                  "anchor": "y9",
                  "domain": [
                    0.6799999999999999,
                    0.9999999999999999
                  ],
                  "matches": "x",
                  "showticklabels": false
                },
                "yaxis": {
                  "anchor": "x",
                  "domain": [
                    0,
                    0.2866666666666666
                  ],
                  "title": {
                    "text": "count"
                  }
                },
                "yaxis2": {
                  "anchor": "x2",
                  "domain": [
                    0,
                    0.2866666666666666
                  ],
                  "matches": "y",
                  "showticklabels": false
                },
                "yaxis3": {
                  "anchor": "x3",
                  "domain": [
                    0,
                    0.2866666666666666
                  ],
                  "matches": "y",
                  "showticklabels": false
                },
                "yaxis4": {
                  "anchor": "x4",
                  "domain": [
                    0.35666666666666663,
                    0.6433333333333333
                  ],
                  "matches": "y",
                  "title": {
                    "text": "count"
                  }
                },
                "yaxis5": {
                  "anchor": "x5",
                  "domain": [
                    0.35666666666666663,
                    0.6433333333333333
                  ],
                  "matches": "y",
                  "showticklabels": false
                },
                "yaxis6": {
                  "anchor": "x6",
                  "domain": [
                    0.35666666666666663,
                    0.6433333333333333
                  ],
                  "matches": "y",
                  "showticklabels": false
                },
                "yaxis7": {
                  "anchor": "x7",
                  "domain": [
                    0.7133333333333333,
                    0.9999999999999999
                  ],
                  "matches": "y",
                  "title": {
                    "text": "count"
                  }
                },
                "yaxis8": {
                  "anchor": "x8",
                  "domain": [
                    0.7133333333333333,
                    0.9999999999999999
                  ],
                  "matches": "y",
                  "showticklabels": false
                },
                "yaxis9": {
                  "anchor": "x9",
                  "domain": [
                    0.7133333333333333,
                    0.9999999999999999
                  ],
                  "matches": "y",
                  "showticklabels": false
                }
              }
            }
          },
          "metadata": {},
          "output_type": "display_data"
        }
      ],
      "source": [
        "df_cont = df[continuous_cols].melt(var_name=\"Feature\", value_name=\"Value\")\n",
        "fig_cont = px.histogram(\n",
        "    df_cont, x=\"Value\",\n",
        "    facet_col=\"Feature\", facet_col_wrap=3,\n",
        "    nbins=15,\n",
        "    title=\"Distributions of Continuous Features\",\n",
        "    height=750\n",
        ")\n",
        "\n",
        "fig_cont.for_each_annotation(lambda ann: ann.update(text=ann.text.split(\"=\")[-1]))\n",
        "fig_cont.update_layout(showlegend=False)\n",
        "fig_cont.show()\n"
      ]
    },
    {
      "cell_type": "markdown",
      "metadata": {
        "id": "FxvVitPhJE_n"
      },
      "source": [
        "*   Age spans roughly 40–95 years, peaking around 55–75 years.\n",
        "\n",
        "*   CPK (creatinine_phosphokinase) is extremely right‑skewed: most values lie below 500 mcg/L, but a handful exceed 3 000 mcg/L.\n",
        "\n",
        "*   Ejection Fraction clusters between 25 % and 45 %, with fewer patients above 50 %.\n",
        "\n",
        "*   Platelets approximately normal around 200 000–400 000 kiloplatelets/mL.\n",
        "\n",
        "*   Serum Creatinine is right‑skewed: most values are < 2 mg/dL, but outliers reach above 8 mg/dL.\n",
        "\n",
        "*   Serum Sodium concentrates between 130–145 mEq/L, reflecting typical homeostatic ranges.\n",
        "\n",
        "*   Follow‑up Time (days) uniformly spans 0–300 days, indicating variable censoring times.\n",
        "\n"
      ]
    },
    {
      "cell_type": "markdown",
      "metadata": {
        "id": "lAJDZHFRHde8"
      },
      "source": [
        "###  **Categorical Features**\n",
        "\n",
        "Frequency counts for binary flags and target variable.\n"
      ]
    },
    {
      "cell_type": "code",
      "execution_count": 10,
      "metadata": {
        "colab": {
          "base_uri": "https://localhost:8080/",
          "height": 767
        },
        "id": "pKKP0RujHQpH",
        "outputId": "73c825a6-c4d7-4af4-bbc8-64fb872f532f"
      },
      "outputs": [
        {
          "data": {
            "application/vnd.plotly.v1+json": {
              "config": {
                "plotlyServerURL": "https://plot.ly"
              },
              "data": [
                {
                  "alignmentgroup": "True",
                  "bingroup": "x",
                  "hovertemplate": "Count=%{x}<br>Feature=anaemia<br>count=%{y}<extra></extra>",
                  "legendgroup": "0",
                  "marker": {
                    "color": "#636efa",
                    "pattern": {
                      "shape": ""
                    }
                  },
                  "name": "0",
                  "offsetgroup": "0",
                  "orientation": "v",
                  "showlegend": true,
                  "type": "histogram",
                  "x": [
                    0,
                    0,
                    0,
                    0,
                    0,
                    0,
                    0,
                    0,
                    0,
                    0,
                    0,
                    0,
                    0,
                    0,
                    0,
                    0,
                    0,
                    0,
                    0,
                    0,
                    0,
                    0,
                    0,
                    0,
                    0,
                    0,
                    0,
                    0,
                    0,
                    0,
                    0,
                    0,
                    0,
                    0,
                    0,
                    0,
                    0,
                    0,
                    0,
                    0,
                    0,
                    0,
                    0,
                    0,
                    0,
                    0,
                    0,
                    0,
                    0,
                    0,
                    0,
                    0,
                    0,
                    0,
                    0,
                    0,
                    0,
                    0,
                    0,
                    0,
                    0,
                    0,
                    0,
                    0,
                    0,
                    0,
                    0,
                    0,
                    0,
                    0,
                    0,
                    0,
                    0,
                    0,
                    0,
                    0,
                    0,
                    0,
                    0,
                    0,
                    0,
                    0,
                    0,
                    0,
                    0,
                    0,
                    0,
                    0,
                    0,
                    0,
                    0,
                    0,
                    0,
                    0,
                    0,
                    0,
                    0,
                    0,
                    0,
                    0,
                    0,
                    0,
                    0,
                    0,
                    0,
                    0,
                    0,
                    0,
                    0,
                    0,
                    0,
                    0,
                    0,
                    0,
                    0,
                    0,
                    0,
                    0,
                    0,
                    0,
                    0,
                    0,
                    0,
                    0,
                    0,
                    0,
                    0,
                    0,
                    0,
                    0,
                    0,
                    0,
                    0,
                    0,
                    0,
                    0,
                    0,
                    0,
                    0,
                    0,
                    0,
                    0,
                    0,
                    0,
                    0,
                    0,
                    0,
                    0,
                    0,
                    0,
                    0,
                    0,
                    0,
                    0,
                    0,
                    0,
                    0,
                    0,
                    0,
                    0,
                    0,
                    0,
                    0,
                    0,
                    0,
                    0,
                    0,
                    0,
                    0,
                    0
                  ],
                  "xaxis": "x4",
                  "yaxis": "y4"
                },
                {
                  "alignmentgroup": "True",
                  "bingroup": "x",
                  "hovertemplate": "Count=%{x}<br>Feature=diabetes<br>count=%{y}<extra></extra>",
                  "legendgroup": "0",
                  "marker": {
                    "color": "#636efa",
                    "pattern": {
                      "shape": ""
                    }
                  },
                  "name": "0",
                  "offsetgroup": "0",
                  "orientation": "v",
                  "showlegend": false,
                  "type": "histogram",
                  "x": [
                    0,
                    0,
                    0,
                    0,
                    0,
                    0,
                    0,
                    0,
                    0,
                    0,
                    0,
                    0,
                    0,
                    0,
                    0,
                    0,
                    0,
                    0,
                    0,
                    0,
                    0,
                    0,
                    0,
                    0,
                    0,
                    0,
                    0,
                    0,
                    0,
                    0,
                    0,
                    0,
                    0,
                    0,
                    0,
                    0,
                    0,
                    0,
                    0,
                    0,
                    0,
                    0,
                    0,
                    0,
                    0,
                    0,
                    0,
                    0,
                    0,
                    0,
                    0,
                    0,
                    0,
                    0,
                    0,
                    0,
                    0,
                    0,
                    0,
                    0,
                    0,
                    0,
                    0,
                    0,
                    0,
                    0,
                    0,
                    0,
                    0,
                    0,
                    0,
                    0,
                    0,
                    0,
                    0,
                    0,
                    0,
                    0,
                    0,
                    0,
                    0,
                    0,
                    0,
                    0,
                    0,
                    0,
                    0,
                    0,
                    0,
                    0,
                    0,
                    0,
                    0,
                    0,
                    0,
                    0,
                    0,
                    0,
                    0,
                    0,
                    0,
                    0,
                    0,
                    0,
                    0,
                    0,
                    0,
                    0,
                    0,
                    0,
                    0,
                    0,
                    0,
                    0,
                    0,
                    0,
                    0,
                    0,
                    0,
                    0,
                    0,
                    0,
                    0,
                    0,
                    0,
                    0,
                    0,
                    0,
                    0,
                    0,
                    0,
                    0,
                    0,
                    0,
                    0,
                    0,
                    0,
                    0,
                    0,
                    0,
                    0,
                    0,
                    0,
                    0,
                    0,
                    0,
                    0,
                    0,
                    0,
                    0,
                    0,
                    0,
                    0,
                    0,
                    0,
                    0,
                    0,
                    0,
                    0,
                    0,
                    0,
                    0,
                    0,
                    0,
                    0,
                    0,
                    0,
                    0,
                    0,
                    0,
                    0,
                    0,
                    0,
                    0
                  ],
                  "xaxis": "x5",
                  "yaxis": "y5"
                },
                {
                  "alignmentgroup": "True",
                  "bingroup": "x",
                  "hovertemplate": "Count=%{x}<br>Feature=high_blood_pressure<br>count=%{y}<extra></extra>",
                  "legendgroup": "0",
                  "marker": {
                    "color": "#636efa",
                    "pattern": {
                      "shape": ""
                    }
                  },
                  "name": "0",
                  "offsetgroup": "0",
                  "orientation": "v",
                  "showlegend": false,
                  "type": "histogram",
                  "x": [
                    0,
                    0,
                    0,
                    0,
                    0,
                    0,
                    0,
                    0,
                    0,
                    0,
                    0,
                    0,
                    0,
                    0,
                    0,
                    0,
                    0,
                    0,
                    0,
                    0,
                    0,
                    0,
                    0,
                    0,
                    0,
                    0,
                    0,
                    0,
                    0,
                    0,
                    0,
                    0,
                    0,
                    0,
                    0,
                    0,
                    0,
                    0,
                    0,
                    0,
                    0,
                    0,
                    0,
                    0,
                    0,
                    0,
                    0,
                    0,
                    0,
                    0,
                    0,
                    0,
                    0,
                    0,
                    0,
                    0,
                    0,
                    0,
                    0,
                    0,
                    0,
                    0,
                    0,
                    0,
                    0,
                    0,
                    0,
                    0,
                    0,
                    0,
                    0,
                    0,
                    0,
                    0,
                    0,
                    0,
                    0,
                    0,
                    0,
                    0,
                    0,
                    0,
                    0,
                    0,
                    0,
                    0,
                    0,
                    0,
                    0,
                    0,
                    0,
                    0,
                    0,
                    0,
                    0,
                    0,
                    0,
                    0,
                    0,
                    0,
                    0,
                    0,
                    0,
                    0,
                    0,
                    0,
                    0,
                    0,
                    0,
                    0,
                    0,
                    0,
                    0,
                    0,
                    0,
                    0,
                    0,
                    0,
                    0,
                    0,
                    0,
                    0,
                    0,
                    0,
                    0,
                    0,
                    0,
                    0,
                    0,
                    0,
                    0,
                    0,
                    0,
                    0,
                    0,
                    0,
                    0,
                    0,
                    0,
                    0,
                    0,
                    0,
                    0,
                    0,
                    0,
                    0,
                    0,
                    0,
                    0,
                    0,
                    0,
                    0,
                    0,
                    0,
                    0,
                    0,
                    0,
                    0,
                    0,
                    0,
                    0,
                    0,
                    0,
                    0,
                    0,
                    0,
                    0,
                    0,
                    0,
                    0,
                    0,
                    0,
                    0,
                    0,
                    0,
                    0,
                    0,
                    0,
                    0,
                    0,
                    0,
                    0,
                    0,
                    0,
                    0,
                    0,
                    0,
                    0,
                    0,
                    0,
                    0,
                    0,
                    0,
                    0
                  ],
                  "xaxis": "x6",
                  "yaxis": "y6"
                },
                {
                  "alignmentgroup": "True",
                  "bingroup": "x",
                  "hovertemplate": "Count=%{x}<br>Feature=sex<br>count=%{y}<extra></extra>",
                  "legendgroup": "0",
                  "marker": {
                    "color": "#636efa",
                    "pattern": {
                      "shape": ""
                    }
                  },
                  "name": "0",
                  "offsetgroup": "0",
                  "orientation": "v",
                  "showlegend": false,
                  "type": "histogram",
                  "x": [
                    0,
                    0,
                    0,
                    0,
                    0,
                    0,
                    0,
                    0,
                    0,
                    0,
                    0,
                    0,
                    0,
                    0,
                    0,
                    0,
                    0,
                    0,
                    0,
                    0,
                    0,
                    0,
                    0,
                    0,
                    0,
                    0,
                    0,
                    0,
                    0,
                    0,
                    0,
                    0,
                    0,
                    0,
                    0,
                    0,
                    0,
                    0,
                    0,
                    0,
                    0,
                    0,
                    0,
                    0,
                    0,
                    0,
                    0,
                    0,
                    0,
                    0,
                    0,
                    0,
                    0,
                    0,
                    0,
                    0,
                    0,
                    0,
                    0,
                    0,
                    0,
                    0,
                    0,
                    0,
                    0,
                    0,
                    0,
                    0,
                    0,
                    0,
                    0,
                    0,
                    0,
                    0,
                    0,
                    0,
                    0,
                    0,
                    0,
                    0,
                    0,
                    0,
                    0,
                    0,
                    0,
                    0,
                    0,
                    0,
                    0,
                    0,
                    0,
                    0,
                    0,
                    0,
                    0,
                    0,
                    0,
                    0,
                    0,
                    0,
                    0,
                    0,
                    0,
                    0,
                    0
                  ],
                  "xaxis": "x",
                  "yaxis": "y"
                },
                {
                  "alignmentgroup": "True",
                  "bingroup": "x",
                  "hovertemplate": "Count=%{x}<br>Feature=smoking<br>count=%{y}<extra></extra>",
                  "legendgroup": "0",
                  "marker": {
                    "color": "#636efa",
                    "pattern": {
                      "shape": ""
                    }
                  },
                  "name": "0",
                  "offsetgroup": "0",
                  "orientation": "v",
                  "showlegend": false,
                  "type": "histogram",
                  "x": [
                    0,
                    0,
                    0,
                    0,
                    0,
                    0,
                    0,
                    0,
                    0,
                    0,
                    0,
                    0,
                    0,
                    0,
                    0,
                    0,
                    0,
                    0,
                    0,
                    0,
                    0,
                    0,
                    0,
                    0,
                    0,
                    0,
                    0,
                    0,
                    0,
                    0,
                    0,
                    0,
                    0,
                    0,
                    0,
                    0,
                    0,
                    0,
                    0,
                    0,
                    0,
                    0,
                    0,
                    0,
                    0,
                    0,
                    0,
                    0,
                    0,
                    0,
                    0,
                    0,
                    0,
                    0,
                    0,
                    0,
                    0,
                    0,
                    0,
                    0,
                    0,
                    0,
                    0,
                    0,
                    0,
                    0,
                    0,
                    0,
                    0,
                    0,
                    0,
                    0,
                    0,
                    0,
                    0,
                    0,
                    0,
                    0,
                    0,
                    0,
                    0,
                    0,
                    0,
                    0,
                    0,
                    0,
                    0,
                    0,
                    0,
                    0,
                    0,
                    0,
                    0,
                    0,
                    0,
                    0,
                    0,
                    0,
                    0,
                    0,
                    0,
                    0,
                    0,
                    0,
                    0,
                    0,
                    0,
                    0,
                    0,
                    0,
                    0,
                    0,
                    0,
                    0,
                    0,
                    0,
                    0,
                    0,
                    0,
                    0,
                    0,
                    0,
                    0,
                    0,
                    0,
                    0,
                    0,
                    0,
                    0,
                    0,
                    0,
                    0,
                    0,
                    0,
                    0,
                    0,
                    0,
                    0,
                    0,
                    0,
                    0,
                    0,
                    0,
                    0,
                    0,
                    0,
                    0,
                    0,
                    0,
                    0,
                    0,
                    0,
                    0,
                    0,
                    0,
                    0,
                    0,
                    0,
                    0,
                    0,
                    0,
                    0,
                    0,
                    0,
                    0,
                    0,
                    0,
                    0,
                    0,
                    0,
                    0,
                    0,
                    0,
                    0,
                    0,
                    0,
                    0,
                    0,
                    0,
                    0,
                    0,
                    0,
                    0,
                    0,
                    0,
                    0,
                    0,
                    0,
                    0,
                    0,
                    0,
                    0,
                    0,
                    0,
                    0,
                    0,
                    0,
                    0,
                    0,
                    0,
                    0,
                    0,
                    0
                  ],
                  "xaxis": "x2",
                  "yaxis": "y2"
                },
                {
                  "alignmentgroup": "True",
                  "bingroup": "x",
                  "hovertemplate": "Count=%{x}<br>Feature=death_event<br>count=%{y}<extra></extra>",
                  "legendgroup": "0",
                  "marker": {
                    "color": "#636efa",
                    "pattern": {
                      "shape": ""
                    }
                  },
                  "name": "0",
                  "offsetgroup": "0",
                  "orientation": "v",
                  "showlegend": false,
                  "type": "histogram",
                  "x": [
                    0,
                    0,
                    0,
                    0,
                    0,
                    0,
                    0,
                    0,
                    0,
                    0,
                    0,
                    0,
                    0,
                    0,
                    0,
                    0,
                    0,
                    0,
                    0,
                    0,
                    0,
                    0,
                    0,
                    0,
                    0,
                    0,
                    0,
                    0,
                    0,
                    0,
                    0,
                    0,
                    0,
                    0,
                    0,
                    0,
                    0,
                    0,
                    0,
                    0,
                    0,
                    0,
                    0,
                    0,
                    0,
                    0,
                    0,
                    0,
                    0,
                    0,
                    0,
                    0,
                    0,
                    0,
                    0,
                    0,
                    0,
                    0,
                    0,
                    0,
                    0,
                    0,
                    0,
                    0,
                    0,
                    0,
                    0,
                    0,
                    0,
                    0,
                    0,
                    0,
                    0,
                    0,
                    0,
                    0,
                    0,
                    0,
                    0,
                    0,
                    0,
                    0,
                    0,
                    0,
                    0,
                    0,
                    0,
                    0,
                    0,
                    0,
                    0,
                    0,
                    0,
                    0,
                    0,
                    0,
                    0,
                    0,
                    0,
                    0,
                    0,
                    0,
                    0,
                    0,
                    0,
                    0,
                    0,
                    0,
                    0,
                    0,
                    0,
                    0,
                    0,
                    0,
                    0,
                    0,
                    0,
                    0,
                    0,
                    0,
                    0,
                    0,
                    0,
                    0,
                    0,
                    0,
                    0,
                    0,
                    0,
                    0,
                    0,
                    0,
                    0,
                    0,
                    0,
                    0,
                    0,
                    0,
                    0,
                    0,
                    0,
                    0,
                    0,
                    0,
                    0,
                    0,
                    0,
                    0,
                    0,
                    0,
                    0,
                    0,
                    0,
                    0,
                    0,
                    0,
                    0,
                    0,
                    0,
                    0,
                    0,
                    0,
                    0,
                    0,
                    0,
                    0,
                    0,
                    0,
                    0,
                    0,
                    0,
                    0,
                    0,
                    0,
                    0,
                    0,
                    0,
                    0,
                    0,
                    0,
                    0,
                    0,
                    0,
                    0,
                    0,
                    0,
                    0,
                    0,
                    0,
                    0,
                    0,
                    0,
                    0,
                    0,
                    0,
                    0,
                    0,
                    0,
                    0,
                    0,
                    0,
                    0,
                    0
                  ],
                  "xaxis": "x3",
                  "yaxis": "y3"
                },
                {
                  "alignmentgroup": "True",
                  "bingroup": "x",
                  "hovertemplate": "Count=%{x}<br>Feature=anaemia<br>count=%{y}<extra></extra>",
                  "legendgroup": "1",
                  "marker": {
                    "color": "#EF553B",
                    "pattern": {
                      "shape": ""
                    }
                  },
                  "name": "1",
                  "offsetgroup": "1",
                  "orientation": "v",
                  "showlegend": true,
                  "type": "histogram",
                  "x": [
                    1,
                    1,
                    1,
                    1,
                    1,
                    1,
                    1,
                    1,
                    1,
                    1,
                    1,
                    1,
                    1,
                    1,
                    1,
                    1,
                    1,
                    1,
                    1,
                    1,
                    1,
                    1,
                    1,
                    1,
                    1,
                    1,
                    1,
                    1,
                    1,
                    1,
                    1,
                    1,
                    1,
                    1,
                    1,
                    1,
                    1,
                    1,
                    1,
                    1,
                    1,
                    1,
                    1,
                    1,
                    1,
                    1,
                    1,
                    1,
                    1,
                    1,
                    1,
                    1,
                    1,
                    1,
                    1,
                    1,
                    1,
                    1,
                    1,
                    1,
                    1,
                    1,
                    1,
                    1,
                    1,
                    1,
                    1,
                    1,
                    1,
                    1,
                    1,
                    1,
                    1,
                    1,
                    1,
                    1,
                    1,
                    1,
                    1,
                    1,
                    1,
                    1,
                    1,
                    1,
                    1,
                    1,
                    1,
                    1,
                    1,
                    1,
                    1,
                    1,
                    1,
                    1,
                    1,
                    1,
                    1,
                    1,
                    1,
                    1,
                    1,
                    1,
                    1,
                    1,
                    1,
                    1,
                    1,
                    1,
                    1,
                    1,
                    1,
                    1,
                    1,
                    1,
                    1,
                    1,
                    1,
                    1,
                    1,
                    1,
                    1,
                    1,
                    1,
                    1,
                    1,
                    1,
                    1,
                    1,
                    1
                  ],
                  "xaxis": "x4",
                  "yaxis": "y4"
                },
                {
                  "alignmentgroup": "True",
                  "bingroup": "x",
                  "hovertemplate": "Count=%{x}<br>Feature=diabetes<br>count=%{y}<extra></extra>",
                  "legendgroup": "1",
                  "marker": {
                    "color": "#EF553B",
                    "pattern": {
                      "shape": ""
                    }
                  },
                  "name": "1",
                  "offsetgroup": "1",
                  "orientation": "v",
                  "showlegend": false,
                  "type": "histogram",
                  "x": [
                    1,
                    1,
                    1,
                    1,
                    1,
                    1,
                    1,
                    1,
                    1,
                    1,
                    1,
                    1,
                    1,
                    1,
                    1,
                    1,
                    1,
                    1,
                    1,
                    1,
                    1,
                    1,
                    1,
                    1,
                    1,
                    1,
                    1,
                    1,
                    1,
                    1,
                    1,
                    1,
                    1,
                    1,
                    1,
                    1,
                    1,
                    1,
                    1,
                    1,
                    1,
                    1,
                    1,
                    1,
                    1,
                    1,
                    1,
                    1,
                    1,
                    1,
                    1,
                    1,
                    1,
                    1,
                    1,
                    1,
                    1,
                    1,
                    1,
                    1,
                    1,
                    1,
                    1,
                    1,
                    1,
                    1,
                    1,
                    1,
                    1,
                    1,
                    1,
                    1,
                    1,
                    1,
                    1,
                    1,
                    1,
                    1,
                    1,
                    1,
                    1,
                    1,
                    1,
                    1,
                    1,
                    1,
                    1,
                    1,
                    1,
                    1,
                    1,
                    1,
                    1,
                    1,
                    1,
                    1,
                    1,
                    1,
                    1,
                    1,
                    1,
                    1,
                    1,
                    1,
                    1,
                    1,
                    1,
                    1,
                    1,
                    1,
                    1,
                    1,
                    1,
                    1,
                    1,
                    1,
                    1,
                    1,
                    1,
                    1,
                    1,
                    1,
                    1,
                    1,
                    1
                  ],
                  "xaxis": "x5",
                  "yaxis": "y5"
                },
                {
                  "alignmentgroup": "True",
                  "bingroup": "x",
                  "hovertemplate": "Count=%{x}<br>Feature=high_blood_pressure<br>count=%{y}<extra></extra>",
                  "legendgroup": "1",
                  "marker": {
                    "color": "#EF553B",
                    "pattern": {
                      "shape": ""
                    }
                  },
                  "name": "1",
                  "offsetgroup": "1",
                  "orientation": "v",
                  "showlegend": false,
                  "type": "histogram",
                  "x": [
                    1,
                    1,
                    1,
                    1,
                    1,
                    1,
                    1,
                    1,
                    1,
                    1,
                    1,
                    1,
                    1,
                    1,
                    1,
                    1,
                    1,
                    1,
                    1,
                    1,
                    1,
                    1,
                    1,
                    1,
                    1,
                    1,
                    1,
                    1,
                    1,
                    1,
                    1,
                    1,
                    1,
                    1,
                    1,
                    1,
                    1,
                    1,
                    1,
                    1,
                    1,
                    1,
                    1,
                    1,
                    1,
                    1,
                    1,
                    1,
                    1,
                    1,
                    1,
                    1,
                    1,
                    1,
                    1,
                    1,
                    1,
                    1,
                    1,
                    1,
                    1,
                    1,
                    1,
                    1,
                    1,
                    1,
                    1,
                    1,
                    1,
                    1,
                    1,
                    1,
                    1,
                    1,
                    1,
                    1,
                    1,
                    1,
                    1,
                    1,
                    1,
                    1,
                    1,
                    1,
                    1,
                    1,
                    1,
                    1,
                    1,
                    1,
                    1,
                    1,
                    1,
                    1,
                    1,
                    1,
                    1,
                    1,
                    1,
                    1,
                    1,
                    1,
                    1,
                    1,
                    1
                  ],
                  "xaxis": "x6",
                  "yaxis": "y6"
                },
                {
                  "alignmentgroup": "True",
                  "bingroup": "x",
                  "hovertemplate": "Count=%{x}<br>Feature=sex<br>count=%{y}<extra></extra>",
                  "legendgroup": "1",
                  "marker": {
                    "color": "#EF553B",
                    "pattern": {
                      "shape": ""
                    }
                  },
                  "name": "1",
                  "offsetgroup": "1",
                  "orientation": "v",
                  "showlegend": false,
                  "type": "histogram",
                  "x": [
                    1,
                    1,
                    1,
                    1,
                    1,
                    1,
                    1,
                    1,
                    1,
                    1,
                    1,
                    1,
                    1,
                    1,
                    1,
                    1,
                    1,
                    1,
                    1,
                    1,
                    1,
                    1,
                    1,
                    1,
                    1,
                    1,
                    1,
                    1,
                    1,
                    1,
                    1,
                    1,
                    1,
                    1,
                    1,
                    1,
                    1,
                    1,
                    1,
                    1,
                    1,
                    1,
                    1,
                    1,
                    1,
                    1,
                    1,
                    1,
                    1,
                    1,
                    1,
                    1,
                    1,
                    1,
                    1,
                    1,
                    1,
                    1,
                    1,
                    1,
                    1,
                    1,
                    1,
                    1,
                    1,
                    1,
                    1,
                    1,
                    1,
                    1,
                    1,
                    1,
                    1,
                    1,
                    1,
                    1,
                    1,
                    1,
                    1,
                    1,
                    1,
                    1,
                    1,
                    1,
                    1,
                    1,
                    1,
                    1,
                    1,
                    1,
                    1,
                    1,
                    1,
                    1,
                    1,
                    1,
                    1,
                    1,
                    1,
                    1,
                    1,
                    1,
                    1,
                    1,
                    1,
                    1,
                    1,
                    1,
                    1,
                    1,
                    1,
                    1,
                    1,
                    1,
                    1,
                    1,
                    1,
                    1,
                    1,
                    1,
                    1,
                    1,
                    1,
                    1,
                    1,
                    1,
                    1,
                    1,
                    1,
                    1,
                    1,
                    1,
                    1,
                    1,
                    1,
                    1,
                    1,
                    1,
                    1,
                    1,
                    1,
                    1,
                    1,
                    1,
                    1,
                    1,
                    1,
                    1,
                    1,
                    1,
                    1,
                    1,
                    1,
                    1,
                    1,
                    1,
                    1,
                    1,
                    1,
                    1,
                    1,
                    1,
                    1,
                    1,
                    1,
                    1,
                    1,
                    1,
                    1,
                    1,
                    1,
                    1,
                    1,
                    1,
                    1,
                    1,
                    1,
                    1,
                    1,
                    1,
                    1,
                    1,
                    1,
                    1,
                    1,
                    1,
                    1,
                    1,
                    1,
                    1,
                    1,
                    1,
                    1,
                    1
                  ],
                  "xaxis": "x",
                  "yaxis": "y"
                },
                {
                  "alignmentgroup": "True",
                  "bingroup": "x",
                  "hovertemplate": "Count=%{x}<br>Feature=smoking<br>count=%{y}<extra></extra>",
                  "legendgroup": "1",
                  "marker": {
                    "color": "#EF553B",
                    "pattern": {
                      "shape": ""
                    }
                  },
                  "name": "1",
                  "offsetgroup": "1",
                  "orientation": "v",
                  "showlegend": false,
                  "type": "histogram",
                  "x": [
                    1,
                    1,
                    1,
                    1,
                    1,
                    1,
                    1,
                    1,
                    1,
                    1,
                    1,
                    1,
                    1,
                    1,
                    1,
                    1,
                    1,
                    1,
                    1,
                    1,
                    1,
                    1,
                    1,
                    1,
                    1,
                    1,
                    1,
                    1,
                    1,
                    1,
                    1,
                    1,
                    1,
                    1,
                    1,
                    1,
                    1,
                    1,
                    1,
                    1,
                    1,
                    1,
                    1,
                    1,
                    1,
                    1,
                    1,
                    1,
                    1,
                    1,
                    1,
                    1,
                    1,
                    1,
                    1,
                    1,
                    1,
                    1,
                    1,
                    1,
                    1,
                    1,
                    1,
                    1,
                    1,
                    1,
                    1,
                    1,
                    1,
                    1,
                    1,
                    1,
                    1,
                    1,
                    1,
                    1,
                    1,
                    1,
                    1,
                    1,
                    1,
                    1,
                    1,
                    1,
                    1,
                    1,
                    1,
                    1,
                    1,
                    1,
                    1,
                    1,
                    1,
                    1,
                    1,
                    1
                  ],
                  "xaxis": "x2",
                  "yaxis": "y2"
                },
                {
                  "alignmentgroup": "True",
                  "bingroup": "x",
                  "hovertemplate": "Count=%{x}<br>Feature=death_event<br>count=%{y}<extra></extra>",
                  "legendgroup": "1",
                  "marker": {
                    "color": "#EF553B",
                    "pattern": {
                      "shape": ""
                    }
                  },
                  "name": "1",
                  "offsetgroup": "1",
                  "orientation": "v",
                  "showlegend": false,
                  "type": "histogram",
                  "x": [
                    1,
                    1,
                    1,
                    1,
                    1,
                    1,
                    1,
                    1,
                    1,
                    1,
                    1,
                    1,
                    1,
                    1,
                    1,
                    1,
                    1,
                    1,
                    1,
                    1,
                    1,
                    1,
                    1,
                    1,
                    1,
                    1,
                    1,
                    1,
                    1,
                    1,
                    1,
                    1,
                    1,
                    1,
                    1,
                    1,
                    1,
                    1,
                    1,
                    1,
                    1,
                    1,
                    1,
                    1,
                    1,
                    1,
                    1,
                    1,
                    1,
                    1,
                    1,
                    1,
                    1,
                    1,
                    1,
                    1,
                    1,
                    1,
                    1,
                    1,
                    1,
                    1,
                    1,
                    1,
                    1,
                    1,
                    1,
                    1,
                    1,
                    1,
                    1,
                    1,
                    1,
                    1,
                    1,
                    1,
                    1,
                    1,
                    1,
                    1,
                    1,
                    1,
                    1,
                    1,
                    1,
                    1,
                    1,
                    1,
                    1,
                    1,
                    1,
                    1,
                    1,
                    1,
                    1,
                    1
                  ],
                  "xaxis": "x3",
                  "yaxis": "y3"
                }
              ],
              "layout": {
                "annotations": [
                  {
                    "font": {},
                    "showarrow": false,
                    "text": "sex",
                    "x": 0.15999999999999998,
                    "xanchor": "center",
                    "xref": "paper",
                    "y": 0.46499999999999997,
                    "yanchor": "bottom",
                    "yref": "paper"
                  },
                  {
                    "font": {},
                    "showarrow": false,
                    "text": "smoking",
                    "x": 0.49999999999999994,
                    "xanchor": "center",
                    "xref": "paper",
                    "y": 0.46499999999999997,
                    "yanchor": "bottom",
                    "yref": "paper"
                  },
                  {
                    "font": {},
                    "showarrow": false,
                    "text": "death_event",
                    "x": 0.8399999999999999,
                    "xanchor": "center",
                    "xref": "paper",
                    "y": 0.46499999999999997,
                    "yanchor": "bottom",
                    "yref": "paper"
                  },
                  {
                    "font": {},
                    "showarrow": false,
                    "text": "anaemia",
                    "x": 0.15999999999999998,
                    "xanchor": "center",
                    "xref": "paper",
                    "y": 0.9999999999999999,
                    "yanchor": "bottom",
                    "yref": "paper"
                  },
                  {
                    "font": {},
                    "showarrow": false,
                    "text": "diabetes",
                    "x": 0.49999999999999994,
                    "xanchor": "center",
                    "xref": "paper",
                    "y": 0.9999999999999999,
                    "yanchor": "bottom",
                    "yref": "paper"
                  },
                  {
                    "font": {},
                    "showarrow": false,
                    "text": "high_blood_pressure",
                    "x": 0.8399999999999999,
                    "xanchor": "center",
                    "xref": "paper",
                    "y": 0.9999999999999999,
                    "yanchor": "bottom",
                    "yref": "paper"
                  }
                ],
                "barmode": "relative",
                "height": 750,
                "legend": {
                  "title": {
                    "text": "Count"
                  },
                  "tracegroupgap": 0
                },
                "showlegend": false,
                "template": {
                  "data": {
                    "bar": [
                      {
                        "error_x": {
                          "color": "#2a3f5f"
                        },
                        "error_y": {
                          "color": "#2a3f5f"
                        },
                        "marker": {
                          "line": {
                            "color": "#E5ECF6",
                            "width": 0.5
                          },
                          "pattern": {
                            "fillmode": "overlay",
                            "size": 10,
                            "solidity": 0.2
                          }
                        },
                        "type": "bar"
                      }
                    ],
                    "barpolar": [
                      {
                        "marker": {
                          "line": {
                            "color": "#E5ECF6",
                            "width": 0.5
                          },
                          "pattern": {
                            "fillmode": "overlay",
                            "size": 10,
                            "solidity": 0.2
                          }
                        },
                        "type": "barpolar"
                      }
                    ],
                    "carpet": [
                      {
                        "aaxis": {
                          "endlinecolor": "#2a3f5f",
                          "gridcolor": "white",
                          "linecolor": "white",
                          "minorgridcolor": "white",
                          "startlinecolor": "#2a3f5f"
                        },
                        "baxis": {
                          "endlinecolor": "#2a3f5f",
                          "gridcolor": "white",
                          "linecolor": "white",
                          "minorgridcolor": "white",
                          "startlinecolor": "#2a3f5f"
                        },
                        "type": "carpet"
                      }
                    ],
                    "choropleth": [
                      {
                        "colorbar": {
                          "outlinewidth": 0,
                          "ticks": ""
                        },
                        "type": "choropleth"
                      }
                    ],
                    "contour": [
                      {
                        "colorbar": {
                          "outlinewidth": 0,
                          "ticks": ""
                        },
                        "colorscale": [
                          [
                            0,
                            "#0d0887"
                          ],
                          [
                            0.1111111111111111,
                            "#46039f"
                          ],
                          [
                            0.2222222222222222,
                            "#7201a8"
                          ],
                          [
                            0.3333333333333333,
                            "#9c179e"
                          ],
                          [
                            0.4444444444444444,
                            "#bd3786"
                          ],
                          [
                            0.5555555555555556,
                            "#d8576b"
                          ],
                          [
                            0.6666666666666666,
                            "#ed7953"
                          ],
                          [
                            0.7777777777777778,
                            "#fb9f3a"
                          ],
                          [
                            0.8888888888888888,
                            "#fdca26"
                          ],
                          [
                            1,
                            "#f0f921"
                          ]
                        ],
                        "type": "contour"
                      }
                    ],
                    "contourcarpet": [
                      {
                        "colorbar": {
                          "outlinewidth": 0,
                          "ticks": ""
                        },
                        "type": "contourcarpet"
                      }
                    ],
                    "heatmap": [
                      {
                        "colorbar": {
                          "outlinewidth": 0,
                          "ticks": ""
                        },
                        "colorscale": [
                          [
                            0,
                            "#0d0887"
                          ],
                          [
                            0.1111111111111111,
                            "#46039f"
                          ],
                          [
                            0.2222222222222222,
                            "#7201a8"
                          ],
                          [
                            0.3333333333333333,
                            "#9c179e"
                          ],
                          [
                            0.4444444444444444,
                            "#bd3786"
                          ],
                          [
                            0.5555555555555556,
                            "#d8576b"
                          ],
                          [
                            0.6666666666666666,
                            "#ed7953"
                          ],
                          [
                            0.7777777777777778,
                            "#fb9f3a"
                          ],
                          [
                            0.8888888888888888,
                            "#fdca26"
                          ],
                          [
                            1,
                            "#f0f921"
                          ]
                        ],
                        "type": "heatmap"
                      }
                    ],
                    "heatmapgl": [
                      {
                        "colorbar": {
                          "outlinewidth": 0,
                          "ticks": ""
                        },
                        "colorscale": [
                          [
                            0,
                            "#0d0887"
                          ],
                          [
                            0.1111111111111111,
                            "#46039f"
                          ],
                          [
                            0.2222222222222222,
                            "#7201a8"
                          ],
                          [
                            0.3333333333333333,
                            "#9c179e"
                          ],
                          [
                            0.4444444444444444,
                            "#bd3786"
                          ],
                          [
                            0.5555555555555556,
                            "#d8576b"
                          ],
                          [
                            0.6666666666666666,
                            "#ed7953"
                          ],
                          [
                            0.7777777777777778,
                            "#fb9f3a"
                          ],
                          [
                            0.8888888888888888,
                            "#fdca26"
                          ],
                          [
                            1,
                            "#f0f921"
                          ]
                        ],
                        "type": "heatmapgl"
                      }
                    ],
                    "histogram": [
                      {
                        "marker": {
                          "pattern": {
                            "fillmode": "overlay",
                            "size": 10,
                            "solidity": 0.2
                          }
                        },
                        "type": "histogram"
                      }
                    ],
                    "histogram2d": [
                      {
                        "colorbar": {
                          "outlinewidth": 0,
                          "ticks": ""
                        },
                        "colorscale": [
                          [
                            0,
                            "#0d0887"
                          ],
                          [
                            0.1111111111111111,
                            "#46039f"
                          ],
                          [
                            0.2222222222222222,
                            "#7201a8"
                          ],
                          [
                            0.3333333333333333,
                            "#9c179e"
                          ],
                          [
                            0.4444444444444444,
                            "#bd3786"
                          ],
                          [
                            0.5555555555555556,
                            "#d8576b"
                          ],
                          [
                            0.6666666666666666,
                            "#ed7953"
                          ],
                          [
                            0.7777777777777778,
                            "#fb9f3a"
                          ],
                          [
                            0.8888888888888888,
                            "#fdca26"
                          ],
                          [
                            1,
                            "#f0f921"
                          ]
                        ],
                        "type": "histogram2d"
                      }
                    ],
                    "histogram2dcontour": [
                      {
                        "colorbar": {
                          "outlinewidth": 0,
                          "ticks": ""
                        },
                        "colorscale": [
                          [
                            0,
                            "#0d0887"
                          ],
                          [
                            0.1111111111111111,
                            "#46039f"
                          ],
                          [
                            0.2222222222222222,
                            "#7201a8"
                          ],
                          [
                            0.3333333333333333,
                            "#9c179e"
                          ],
                          [
                            0.4444444444444444,
                            "#bd3786"
                          ],
                          [
                            0.5555555555555556,
                            "#d8576b"
                          ],
                          [
                            0.6666666666666666,
                            "#ed7953"
                          ],
                          [
                            0.7777777777777778,
                            "#fb9f3a"
                          ],
                          [
                            0.8888888888888888,
                            "#fdca26"
                          ],
                          [
                            1,
                            "#f0f921"
                          ]
                        ],
                        "type": "histogram2dcontour"
                      }
                    ],
                    "mesh3d": [
                      {
                        "colorbar": {
                          "outlinewidth": 0,
                          "ticks": ""
                        },
                        "type": "mesh3d"
                      }
                    ],
                    "parcoords": [
                      {
                        "line": {
                          "colorbar": {
                            "outlinewidth": 0,
                            "ticks": ""
                          }
                        },
                        "type": "parcoords"
                      }
                    ],
                    "pie": [
                      {
                        "automargin": true,
                        "type": "pie"
                      }
                    ],
                    "scatter": [
                      {
                        "fillpattern": {
                          "fillmode": "overlay",
                          "size": 10,
                          "solidity": 0.2
                        },
                        "type": "scatter"
                      }
                    ],
                    "scatter3d": [
                      {
                        "line": {
                          "colorbar": {
                            "outlinewidth": 0,
                            "ticks": ""
                          }
                        },
                        "marker": {
                          "colorbar": {
                            "outlinewidth": 0,
                            "ticks": ""
                          }
                        },
                        "type": "scatter3d"
                      }
                    ],
                    "scattercarpet": [
                      {
                        "marker": {
                          "colorbar": {
                            "outlinewidth": 0,
                            "ticks": ""
                          }
                        },
                        "type": "scattercarpet"
                      }
                    ],
                    "scattergeo": [
                      {
                        "marker": {
                          "colorbar": {
                            "outlinewidth": 0,
                            "ticks": ""
                          }
                        },
                        "type": "scattergeo"
                      }
                    ],
                    "scattergl": [
                      {
                        "marker": {
                          "colorbar": {
                            "outlinewidth": 0,
                            "ticks": ""
                          }
                        },
                        "type": "scattergl"
                      }
                    ],
                    "scattermapbox": [
                      {
                        "marker": {
                          "colorbar": {
                            "outlinewidth": 0,
                            "ticks": ""
                          }
                        },
                        "type": "scattermapbox"
                      }
                    ],
                    "scatterpolar": [
                      {
                        "marker": {
                          "colorbar": {
                            "outlinewidth": 0,
                            "ticks": ""
                          }
                        },
                        "type": "scatterpolar"
                      }
                    ],
                    "scatterpolargl": [
                      {
                        "marker": {
                          "colorbar": {
                            "outlinewidth": 0,
                            "ticks": ""
                          }
                        },
                        "type": "scatterpolargl"
                      }
                    ],
                    "scatterternary": [
                      {
                        "marker": {
                          "colorbar": {
                            "outlinewidth": 0,
                            "ticks": ""
                          }
                        },
                        "type": "scatterternary"
                      }
                    ],
                    "surface": [
                      {
                        "colorbar": {
                          "outlinewidth": 0,
                          "ticks": ""
                        },
                        "colorscale": [
                          [
                            0,
                            "#0d0887"
                          ],
                          [
                            0.1111111111111111,
                            "#46039f"
                          ],
                          [
                            0.2222222222222222,
                            "#7201a8"
                          ],
                          [
                            0.3333333333333333,
                            "#9c179e"
                          ],
                          [
                            0.4444444444444444,
                            "#bd3786"
                          ],
                          [
                            0.5555555555555556,
                            "#d8576b"
                          ],
                          [
                            0.6666666666666666,
                            "#ed7953"
                          ],
                          [
                            0.7777777777777778,
                            "#fb9f3a"
                          ],
                          [
                            0.8888888888888888,
                            "#fdca26"
                          ],
                          [
                            1,
                            "#f0f921"
                          ]
                        ],
                        "type": "surface"
                      }
                    ],
                    "table": [
                      {
                        "cells": {
                          "fill": {
                            "color": "#EBF0F8"
                          },
                          "line": {
                            "color": "white"
                          }
                        },
                        "header": {
                          "fill": {
                            "color": "#C8D4E3"
                          },
                          "line": {
                            "color": "white"
                          }
                        },
                        "type": "table"
                      }
                    ]
                  },
                  "layout": {
                    "annotationdefaults": {
                      "arrowcolor": "#2a3f5f",
                      "arrowhead": 0,
                      "arrowwidth": 1
                    },
                    "autotypenumbers": "strict",
                    "coloraxis": {
                      "colorbar": {
                        "outlinewidth": 0,
                        "ticks": ""
                      }
                    },
                    "colorscale": {
                      "diverging": [
                        [
                          0,
                          "#8e0152"
                        ],
                        [
                          0.1,
                          "#c51b7d"
                        ],
                        [
                          0.2,
                          "#de77ae"
                        ],
                        [
                          0.3,
                          "#f1b6da"
                        ],
                        [
                          0.4,
                          "#fde0ef"
                        ],
                        [
                          0.5,
                          "#f7f7f7"
                        ],
                        [
                          0.6,
                          "#e6f5d0"
                        ],
                        [
                          0.7,
                          "#b8e186"
                        ],
                        [
                          0.8,
                          "#7fbc41"
                        ],
                        [
                          0.9,
                          "#4d9221"
                        ],
                        [
                          1,
                          "#276419"
                        ]
                      ],
                      "sequential": [
                        [
                          0,
                          "#0d0887"
                        ],
                        [
                          0.1111111111111111,
                          "#46039f"
                        ],
                        [
                          0.2222222222222222,
                          "#7201a8"
                        ],
                        [
                          0.3333333333333333,
                          "#9c179e"
                        ],
                        [
                          0.4444444444444444,
                          "#bd3786"
                        ],
                        [
                          0.5555555555555556,
                          "#d8576b"
                        ],
                        [
                          0.6666666666666666,
                          "#ed7953"
                        ],
                        [
                          0.7777777777777778,
                          "#fb9f3a"
                        ],
                        [
                          0.8888888888888888,
                          "#fdca26"
                        ],
                        [
                          1,
                          "#f0f921"
                        ]
                      ],
                      "sequentialminus": [
                        [
                          0,
                          "#0d0887"
                        ],
                        [
                          0.1111111111111111,
                          "#46039f"
                        ],
                        [
                          0.2222222222222222,
                          "#7201a8"
                        ],
                        [
                          0.3333333333333333,
                          "#9c179e"
                        ],
                        [
                          0.4444444444444444,
                          "#bd3786"
                        ],
                        [
                          0.5555555555555556,
                          "#d8576b"
                        ],
                        [
                          0.6666666666666666,
                          "#ed7953"
                        ],
                        [
                          0.7777777777777778,
                          "#fb9f3a"
                        ],
                        [
                          0.8888888888888888,
                          "#fdca26"
                        ],
                        [
                          1,
                          "#f0f921"
                        ]
                      ]
                    },
                    "colorway": [
                      "#636efa",
                      "#EF553B",
                      "#00cc96",
                      "#ab63fa",
                      "#FFA15A",
                      "#19d3f3",
                      "#FF6692",
                      "#B6E880",
                      "#FF97FF",
                      "#FECB52"
                    ],
                    "font": {
                      "color": "#2a3f5f"
                    },
                    "geo": {
                      "bgcolor": "white",
                      "lakecolor": "white",
                      "landcolor": "#E5ECF6",
                      "showlakes": true,
                      "showland": true,
                      "subunitcolor": "white"
                    },
                    "hoverlabel": {
                      "align": "left"
                    },
                    "hovermode": "closest",
                    "mapbox": {
                      "style": "light"
                    },
                    "paper_bgcolor": "white",
                    "plot_bgcolor": "#E5ECF6",
                    "polar": {
                      "angularaxis": {
                        "gridcolor": "white",
                        "linecolor": "white",
                        "ticks": ""
                      },
                      "bgcolor": "#E5ECF6",
                      "radialaxis": {
                        "gridcolor": "white",
                        "linecolor": "white",
                        "ticks": ""
                      }
                    },
                    "scene": {
                      "xaxis": {
                        "backgroundcolor": "#E5ECF6",
                        "gridcolor": "white",
                        "gridwidth": 2,
                        "linecolor": "white",
                        "showbackground": true,
                        "ticks": "",
                        "zerolinecolor": "white"
                      },
                      "yaxis": {
                        "backgroundcolor": "#E5ECF6",
                        "gridcolor": "white",
                        "gridwidth": 2,
                        "linecolor": "white",
                        "showbackground": true,
                        "ticks": "",
                        "zerolinecolor": "white"
                      },
                      "zaxis": {
                        "backgroundcolor": "#E5ECF6",
                        "gridcolor": "white",
                        "gridwidth": 2,
                        "linecolor": "white",
                        "showbackground": true,
                        "ticks": "",
                        "zerolinecolor": "white"
                      }
                    },
                    "shapedefaults": {
                      "line": {
                        "color": "#2a3f5f"
                      }
                    },
                    "ternary": {
                      "aaxis": {
                        "gridcolor": "white",
                        "linecolor": "white",
                        "ticks": ""
                      },
                      "baxis": {
                        "gridcolor": "white",
                        "linecolor": "white",
                        "ticks": ""
                      },
                      "bgcolor": "#E5ECF6",
                      "caxis": {
                        "gridcolor": "white",
                        "linecolor": "white",
                        "ticks": ""
                      }
                    },
                    "title": {
                      "x": 0.05
                    },
                    "xaxis": {
                      "automargin": true,
                      "gridcolor": "white",
                      "linecolor": "white",
                      "ticks": "",
                      "title": {
                        "standoff": 15
                      },
                      "zerolinecolor": "white",
                      "zerolinewidth": 2
                    },
                    "yaxis": {
                      "automargin": true,
                      "gridcolor": "white",
                      "linecolor": "white",
                      "ticks": "",
                      "title": {
                        "standoff": 15
                      },
                      "zerolinecolor": "white",
                      "zerolinewidth": 2
                    }
                  }
                },
                "title": {
                  "text": "Counts of Categorical Features"
                },
                "xaxis": {
                  "anchor": "y",
                  "categoryarray": [
                    0,
                    1
                  ],
                  "categoryorder": "array",
                  "domain": [
                    0,
                    0.31999999999999995
                  ],
                  "title": {
                    "text": "Count"
                  }
                },
                "xaxis2": {
                  "anchor": "y2",
                  "categoryarray": [
                    0,
                    1
                  ],
                  "categoryorder": "array",
                  "domain": [
                    0.33999999999999997,
                    0.6599999999999999
                  ],
                  "matches": "x",
                  "title": {
                    "text": "Count"
                  }
                },
                "xaxis3": {
                  "anchor": "y3",
                  "categoryarray": [
                    0,
                    1
                  ],
                  "categoryorder": "array",
                  "domain": [
                    0.6799999999999999,
                    0.9999999999999999
                  ],
                  "matches": "x",
                  "title": {
                    "text": "Count"
                  }
                },
                "xaxis4": {
                  "anchor": "y4",
                  "domain": [
                    0,
                    0.31999999999999995
                  ],
                  "matches": "x",
                  "showticklabels": false
                },
                "xaxis5": {
                  "anchor": "y5",
                  "domain": [
                    0.33999999999999997,
                    0.6599999999999999
                  ],
                  "matches": "x",
                  "showticklabels": false
                },
                "xaxis6": {
                  "anchor": "y6",
                  "domain": [
                    0.6799999999999999,
                    0.9999999999999999
                  ],
                  "matches": "x",
                  "showticklabels": false
                },
                "yaxis": {
                  "anchor": "x",
                  "domain": [
                    0,
                    0.46499999999999997
                  ],
                  "title": {
                    "text": "count"
                  }
                },
                "yaxis2": {
                  "anchor": "x2",
                  "domain": [
                    0,
                    0.46499999999999997
                  ],
                  "matches": "y",
                  "showticklabels": false
                },
                "yaxis3": {
                  "anchor": "x3",
                  "domain": [
                    0,
                    0.46499999999999997
                  ],
                  "matches": "y",
                  "showticklabels": false
                },
                "yaxis4": {
                  "anchor": "x4",
                  "domain": [
                    0.5349999999999999,
                    0.9999999999999999
                  ],
                  "matches": "y",
                  "title": {
                    "text": "count"
                  }
                },
                "yaxis5": {
                  "anchor": "x5",
                  "domain": [
                    0.5349999999999999,
                    0.9999999999999999
                  ],
                  "matches": "y",
                  "showticklabels": false
                },
                "yaxis6": {
                  "anchor": "x6",
                  "domain": [
                    0.5349999999999999,
                    0.9999999999999999
                  ],
                  "matches": "y",
                  "showticklabels": false
                }
              }
            }
          },
          "metadata": {},
          "output_type": "display_data"
        }
      ],
      "source": [
        "categorical_cols = [\"anaemia\",\"diabetes\",\"high_blood_pressure\",\"sex\",\"smoking\",\"death_event\"]\n",
        "df_cat = df[categorical_cols].melt(var_name=\"Feature\", value_name=\"Count\")\n",
        "fig_cat = px.histogram(\n",
        "    df_cat, x=\"Count\",\n",
        "    color=\"Count\",\n",
        "    facet_col=\"Feature\", facet_col_wrap=3,\n",
        "    title=\"Counts of Categorical Features\",\n",
        "    height=750\n",
        ")\n",
        "fig_cat.for_each_annotation(lambda ann: ann.update(text=ann.text.split(\"=\")[-1]))\n",
        "fig_cat.update_layout(showlegend=False)\n",
        "fig_cat.show()"
      ]
    },
    {
      "cell_type": "markdown",
      "metadata": {
        "id": "XIU7FZ1cJOEX"
      },
      "source": [
        "*   ~32 % of patients died during follow‑up (≈ 96/299).\n",
        "\n",
        "*   ~65 % male, 35 % female.\n",
        "\n",
        "*   ~68 % non‑smokers, ~32 % smokers.\n",
        "\n",
        "*   Anaemia and Diabetes similarly present in ~40 % of cases.\n",
        "\n",
        "*   High Blood Pressure in ~35 % of patients."
      ]
    },
    {
      "cell_type": "markdown",
      "metadata": {
        "id": "_FZjERlHJbU2"
      },
      "source": [
        "Class imbalance (survival vs. death) and roughly balanced binary covariates suggest logistic‑type models with class weighting or resampling will be appropriate."
      ]
    },
    {
      "cell_type": "markdown",
      "metadata": {
        "id": "IBAavxCZHsBk"
      },
      "source": [
        "##  **Bivariate Analysis**\n",
        "\n",
        "###  **Continuous vs. Outcome**\n",
        "\n",
        "Boxplots to contrast distributions of key biomarkers by survival status.\n"
      ]
    },
    {
      "cell_type": "code",
      "execution_count": 11,
      "metadata": {
        "colab": {
          "base_uri": "https://localhost:8080/",
          "height": 417
        },
        "id": "qkKPRgwKHhyX",
        "outputId": "af995c4b-b10c-4f17-9091-ebc5c0eb72ce"
      },
      "outputs": [
        {
          "data": {
            "application/vnd.plotly.v1+json": {
              "config": {
                "plotlyServerURL": "https://plot.ly"
              },
              "data": [
                {
                  "alignmentgroup": "True",
                  "hovertemplate": "death_event=%{x}<br>Feature=ejection_fraction<br>Value=%{y}<extra></extra>",
                  "legendgroup": "1",
                  "marker": {
                    "color": "#636efa"
                  },
                  "name": "1",
                  "notched": false,
                  "offsetgroup": "1",
                  "orientation": "v",
                  "showlegend": true,
                  "type": "box",
                  "x": [
                    1,
                    1,
                    1,
                    1,
                    1,
                    1,
                    1,
                    1,
                    1,
                    1,
                    1,
                    1,
                    1,
                    1,
                    1,
                    1,
                    1,
                    1,
                    1,
                    1,
                    1,
                    1,
                    1,
                    1,
                    1,
                    1,
                    1,
                    1,
                    1,
                    1,
                    1,
                    1,
                    1,
                    1,
                    1,
                    1,
                    1,
                    1,
                    1,
                    1,
                    1,
                    1,
                    1,
                    1,
                    1,
                    1,
                    1,
                    1,
                    1,
                    1,
                    1,
                    1,
                    1,
                    1,
                    1,
                    1,
                    1,
                    1,
                    1,
                    1,
                    1,
                    1,
                    1,
                    1,
                    1,
                    1,
                    1,
                    1,
                    1,
                    1,
                    1,
                    1,
                    1,
                    1,
                    1,
                    1,
                    1,
                    1,
                    1,
                    1,
                    1,
                    1,
                    1,
                    1,
                    1,
                    1,
                    1,
                    1,
                    1,
                    1,
                    1,
                    1,
                    1,
                    1,
                    1,
                    1
                  ],
                  "x0": " ",
                  "xaxis": "x",
                  "y": [
                    20,
                    38,
                    20,
                    20,
                    20,
                    40,
                    15,
                    60,
                    65,
                    35,
                    38,
                    25,
                    30,
                    38,
                    50,
                    38,
                    14,
                    25,
                    55,
                    30,
                    35,
                    30,
                    38,
                    40,
                    45,
                    38,
                    30,
                    38,
                    45,
                    35,
                    50,
                    35,
                    50,
                    50,
                    38,
                    20,
                    30,
                    45,
                    60,
                    38,
                    25,
                    38,
                    20,
                    30,
                    25,
                    20,
                    62,
                    50,
                    38,
                    30,
                    20,
                    20,
                    25,
                    40,
                    35,
                    20,
                    15,
                    25,
                    25,
                    25,
                    35,
                    20,
                    20,
                    25,
                    25,
                    25,
                    30,
                    60,
                    60,
                    38,
                    40,
                    17,
                    38,
                    25,
                    30,
                    45,
                    35,
                    30,
                    38,
                    20,
                    25,
                    25,
                    38,
                    25,
                    30,
                    50,
                    25,
                    20,
                    45,
                    30,
                    70,
                    20,
                    30,
                    25,
                    25,
                    20
                  ],
                  "y0": " ",
                  "yaxis": "y"
                },
                {
                  "alignmentgroup": "True",
                  "hovertemplate": "death_event=%{x}<br>Feature=serum_creatinine<br>Value=%{y}<extra></extra>",
                  "legendgroup": "1",
                  "marker": {
                    "color": "#636efa"
                  },
                  "name": "1",
                  "notched": false,
                  "offsetgroup": "1",
                  "orientation": "v",
                  "showlegend": false,
                  "type": "box",
                  "x": [
                    1,
                    1,
                    1,
                    1,
                    1,
                    1,
                    1,
                    1,
                    1,
                    1,
                    1,
                    1,
                    1,
                    1,
                    1,
                    1,
                    1,
                    1,
                    1,
                    1,
                    1,
                    1,
                    1,
                    1,
                    1,
                    1,
                    1,
                    1,
                    1,
                    1,
                    1,
                    1,
                    1,
                    1,
                    1,
                    1,
                    1,
                    1,
                    1,
                    1,
                    1,
                    1,
                    1,
                    1,
                    1,
                    1,
                    1,
                    1,
                    1,
                    1,
                    1,
                    1,
                    1,
                    1,
                    1,
                    1,
                    1,
                    1,
                    1,
                    1,
                    1,
                    1,
                    1,
                    1,
                    1,
                    1,
                    1,
                    1,
                    1,
                    1,
                    1,
                    1,
                    1,
                    1,
                    1,
                    1,
                    1,
                    1,
                    1,
                    1,
                    1,
                    1,
                    1,
                    1,
                    1,
                    1,
                    1,
                    1,
                    1,
                    1,
                    1,
                    1,
                    1,
                    1,
                    1,
                    1
                  ],
                  "x0": " ",
                  "xaxis": "x2",
                  "y": [
                    1.9,
                    1.1,
                    1.3,
                    1.9,
                    2.7,
                    2.1,
                    1.2,
                    1.1,
                    1.5,
                    9.4,
                    4,
                    0.9,
                    1.1,
                    1.1,
                    1.3,
                    0.9,
                    0.8,
                    1,
                    1.9,
                    1.6,
                    0.9,
                    1.83,
                    1.9,
                    1,
                    1.3,
                    5.8,
                    1.2,
                    1.83,
                    3,
                    1,
                    1,
                    3.5,
                    1,
                    1,
                    3,
                    1.83,
                    1.2,
                    1.2,
                    1.1,
                    1.9,
                    0.9,
                    0.6,
                    4.4,
                    1,
                    1,
                    1.4,
                    6.8,
                    1,
                    2.2,
                    2,
                    1.1,
                    1.3,
                    1,
                    2.3,
                    1,
                    2.9,
                    1.3,
                    1,
                    1.2,
                    1.83,
                    1,
                    1.2,
                    0.7,
                    2.5,
                    1,
                    1.7,
                    1.7,
                    1.2,
                    1.3,
                    1.83,
                    3.7,
                    2.1,
                    1.1,
                    1.7,
                    1.83,
                    2.5,
                    0.9,
                    1.1,
                    1.3,
                    2.4,
                    1,
                    1.2,
                    2.5,
                    1.2,
                    1.5,
                    0.6,
                    2.1,
                    1.6,
                    1.8,
                    1.6,
                    9,
                    1.83,
                    1.7,
                    1.1,
                    1.4,
                    1.83
                  ],
                  "y0": " ",
                  "yaxis": "y2"
                },
                {
                  "alignmentgroup": "True",
                  "hovertemplate": "death_event=%{x}<br>Feature=age<br>Value=%{y}<extra></extra>",
                  "legendgroup": "1",
                  "marker": {
                    "color": "#636efa"
                  },
                  "name": "1",
                  "notched": false,
                  "offsetgroup": "1",
                  "orientation": "v",
                  "showlegend": false,
                  "type": "box",
                  "x": [
                    1,
                    1,
                    1,
                    1,
                    1,
                    1,
                    1,
                    1,
                    1,
                    1,
                    1,
                    1,
                    1,
                    1,
                    1,
                    1,
                    1,
                    1,
                    1,
                    1,
                    1,
                    1,
                    1,
                    1,
                    1,
                    1,
                    1,
                    1,
                    1,
                    1,
                    1,
                    1,
                    1,
                    1,
                    1,
                    1,
                    1,
                    1,
                    1,
                    1,
                    1,
                    1,
                    1,
                    1,
                    1,
                    1,
                    1,
                    1,
                    1,
                    1,
                    1,
                    1,
                    1,
                    1,
                    1,
                    1,
                    1,
                    1,
                    1,
                    1,
                    1,
                    1,
                    1,
                    1,
                    1,
                    1,
                    1,
                    1,
                    1,
                    1,
                    1,
                    1,
                    1,
                    1,
                    1,
                    1,
                    1,
                    1,
                    1,
                    1,
                    1,
                    1,
                    1,
                    1,
                    1,
                    1,
                    1,
                    1,
                    1,
                    1,
                    1,
                    1,
                    1,
                    1,
                    1,
                    1
                  ],
                  "x0": " ",
                  "xaxis": "x3",
                  "y": [
                    75,
                    55,
                    65,
                    50,
                    65,
                    90,
                    75,
                    60,
                    65,
                    80,
                    75,
                    62,
                    45,
                    50,
                    82,
                    87,
                    45,
                    70,
                    48,
                    65,
                    68,
                    75,
                    80,
                    95,
                    70,
                    58,
                    82,
                    94,
                    85,
                    50,
                    65,
                    69,
                    90,
                    82,
                    60,
                    70,
                    50,
                    70,
                    60,
                    50,
                    51,
                    60,
                    80,
                    57,
                    68,
                    53,
                    60,
                    70,
                    60,
                    95,
                    49,
                    72,
                    45,
                    50,
                    45,
                    60,
                    42,
                    72,
                    70,
                    65,
                    85,
                    69,
                    60,
                    60,
                    59,
                    60,
                    72,
                    85,
                    70,
                    86,
                    60,
                    46,
                    80,
                    72,
                    75,
                    72,
                    50,
                    45,
                    80,
                    59,
                    59,
                    65,
                    75,
                    58,
                    60.667,
                    50,
                    60,
                    45,
                    77,
                    48,
                    54,
                    73,
                    60,
                    55,
                    65,
                    55
                  ],
                  "y0": " ",
                  "yaxis": "y3"
                },
                {
                  "alignmentgroup": "True",
                  "hovertemplate": "death_event=%{x}<br>Feature=ejection_fraction<br>Value=%{y}<extra></extra>",
                  "legendgroup": "0",
                  "marker": {
                    "color": "#EF553B"
                  },
                  "name": "0",
                  "notched": false,
                  "offsetgroup": "0",
                  "orientation": "v",
                  "showlegend": true,
                  "type": "box",
                  "x": [
                    0,
                    0,
                    0,
                    0,
                    0,
                    0,
                    0,
                    0,
                    0,
                    0,
                    0,
                    0,
                    0,
                    0,
                    0,
                    0,
                    0,
                    0,
                    0,
                    0,
                    0,
                    0,
                    0,
                    0,
                    0,
                    0,
                    0,
                    0,
                    0,
                    0,
                    0,
                    0,
                    0,
                    0,
                    0,
                    0,
                    0,
                    0,
                    0,
                    0,
                    0,
                    0,
                    0,
                    0,
                    0,
                    0,
                    0,
                    0,
                    0,
                    0,
                    0,
                    0,
                    0,
                    0,
                    0,
                    0,
                    0,
                    0,
                    0,
                    0,
                    0,
                    0,
                    0,
                    0,
                    0,
                    0,
                    0,
                    0,
                    0,
                    0,
                    0,
                    0,
                    0,
                    0,
                    0,
                    0,
                    0,
                    0,
                    0,
                    0,
                    0,
                    0,
                    0,
                    0,
                    0,
                    0,
                    0,
                    0,
                    0,
                    0,
                    0,
                    0,
                    0,
                    0,
                    0,
                    0,
                    0,
                    0,
                    0,
                    0,
                    0,
                    0,
                    0,
                    0,
                    0,
                    0,
                    0,
                    0,
                    0,
                    0,
                    0,
                    0,
                    0,
                    0,
                    0,
                    0,
                    0,
                    0,
                    0,
                    0,
                    0,
                    0,
                    0,
                    0,
                    0,
                    0,
                    0,
                    0,
                    0,
                    0,
                    0,
                    0,
                    0,
                    0,
                    0,
                    0,
                    0,
                    0,
                    0,
                    0,
                    0,
                    0,
                    0,
                    0,
                    0,
                    0,
                    0,
                    0,
                    0,
                    0,
                    0,
                    0,
                    0,
                    0,
                    0,
                    0,
                    0,
                    0,
                    0,
                    0,
                    0,
                    0,
                    0,
                    0,
                    0,
                    0,
                    0,
                    0,
                    0,
                    0,
                    0,
                    0,
                    0,
                    0,
                    0,
                    0,
                    0,
                    0,
                    0,
                    0,
                    0,
                    0,
                    0,
                    0,
                    0,
                    0,
                    0,
                    0,
                    0,
                    0,
                    0,
                    0,
                    0,
                    0,
                    0,
                    0,
                    0,
                    0,
                    0,
                    0,
                    0,
                    0,
                    0
                  ],
                  "x0": " ",
                  "xaxis": "x",
                  "y": [
                    30,
                    25,
                    60,
                    30,
                    30,
                    50,
                    35,
                    40,
                    35,
                    80,
                    40,
                    35,
                    50,
                    60,
                    40,
                    38,
                    45,
                    40,
                    50,
                    50,
                    50,
                    35,
                    60,
                    40,
                    25,
                    45,
                    45,
                    60,
                    38,
                    60,
                    25,
                    60,
                    25,
                    40,
                    25,
                    45,
                    25,
                    30,
                    50,
                    45,
                    35,
                    38,
                    35,
                    35,
                    25,
                    40,
                    40,
                    60,
                    60,
                    60,
                    60,
                    38,
                    38,
                    30,
                    50,
                    60,
                    30,
                    35,
                    60,
                    45,
                    40,
                    60,
                    35,
                    40,
                    60,
                    25,
                    35,
                    30,
                    35,
                    30,
                    40,
                    30,
                    30,
                    60,
                    35,
                    60,
                    45,
                    35,
                    35,
                    25,
                    35,
                    25,
                    50,
                    45,
                    40,
                    35,
                    40,
                    60,
                    40,
                    35,
                    35,
                    40,
                    60,
                    20,
                    35,
                    60,
                    40,
                    50,
                    60,
                    40,
                    30,
                    40,
                    45,
                    35,
                    60,
                    40,
                    30,
                    38,
                    30,
                    20,
                    35,
                    45,
                    60,
                    60,
                    25,
                    40,
                    45,
                    40,
                    38,
                    40,
                    35,
                    17,
                    62,
                    50,
                    35,
                    35,
                    50,
                    35,
                    35,
                    50,
                    35,
                    25,
                    25,
                    60,
                    25,
                    35,
                    25,
                    25,
                    35,
                    35,
                    38,
                    45,
                    50,
                    50,
                    30,
                    40,
                    45,
                    35,
                    30,
                    35,
                    40,
                    38,
                    38,
                    25,
                    35,
                    40,
                    30,
                    35,
                    45,
                    35,
                    60,
                    30,
                    38,
                    38,
                    25,
                    50,
                    40,
                    40,
                    60,
                    38,
                    35,
                    38,
                    38,
                    35,
                    30,
                    40,
                    38,
                    40,
                    30,
                    38,
                    35,
                    38,
                    30,
                    38,
                    40,
                    40,
                    30,
                    38,
                    40,
                    40,
                    35,
                    55,
                    35,
                    38,
                    55,
                    35,
                    38,
                    35,
                    38,
                    38,
                    60,
                    38,
                    45
                  ],
                  "y0": " ",
                  "yaxis": "y"
                },
                {
                  "alignmentgroup": "True",
                  "hovertemplate": "death_event=%{x}<br>Feature=serum_creatinine<br>Value=%{y}<extra></extra>",
                  "legendgroup": "0",
                  "marker": {
                    "color": "#EF553B"
                  },
                  "name": "0",
                  "notched": false,
                  "offsetgroup": "0",
                  "orientation": "v",
                  "showlegend": false,
                  "type": "box",
                  "x": [
                    0,
                    0,
                    0,
                    0,
                    0,
                    0,
                    0,
                    0,
                    0,
                    0,
                    0,
                    0,
                    0,
                    0,
                    0,
                    0,
                    0,
                    0,
                    0,
                    0,
                    0,
                    0,
                    0,
                    0,
                    0,
                    0,
                    0,
                    0,
                    0,
                    0,
                    0,
                    0,
                    0,
                    0,
                    0,
                    0,
                    0,
                    0,
                    0,
                    0,
                    0,
                    0,
                    0,
                    0,
                    0,
                    0,
                    0,
                    0,
                    0,
                    0,
                    0,
                    0,
                    0,
                    0,
                    0,
                    0,
                    0,
                    0,
                    0,
                    0,
                    0,
                    0,
                    0,
                    0,
                    0,
                    0,
                    0,
                    0,
                    0,
                    0,
                    0,
                    0,
                    0,
                    0,
                    0,
                    0,
                    0,
                    0,
                    0,
                    0,
                    0,
                    0,
                    0,
                    0,
                    0,
                    0,
                    0,
                    0,
                    0,
                    0,
                    0,
                    0,
                    0,
                    0,
                    0,
                    0,
                    0,
                    0,
                    0,
                    0,
                    0,
                    0,
                    0,
                    0,
                    0,
                    0,
                    0,
                    0,
                    0,
                    0,
                    0,
                    0,
                    0,
                    0,
                    0,
                    0,
                    0,
                    0,
                    0,
                    0,
                    0,
                    0,
                    0,
                    0,
                    0,
                    0,
                    0,
                    0,
                    0,
                    0,
                    0,
                    0,
                    0,
                    0,
                    0,
                    0,
                    0,
                    0,
                    0,
                    0,
                    0,
                    0,
                    0,
                    0,
                    0,
                    0,
                    0,
                    0,
                    0,
                    0,
                    0,
                    0,
                    0,
                    0,
                    0,
                    0,
                    0,
                    0,
                    0,
                    0,
                    0,
                    0,
                    0,
                    0,
                    0,
                    0,
                    0,
                    0,
                    0,
                    0,
                    0,
                    0,
                    0,
                    0,
                    0,
                    0,
                    0,
                    0,
                    0,
                    0,
                    0,
                    0,
                    0,
                    0,
                    0,
                    0,
                    0,
                    0,
                    0,
                    0,
                    0,
                    0,
                    0,
                    0,
                    0,
                    0,
                    0,
                    0,
                    0,
                    0,
                    0,
                    0,
                    0
                  ],
                  "x0": " ",
                  "xaxis": "x2",
                  "y": [
                    1,
                    1.3,
                    0.8,
                    1.2,
                    2.3,
                    1,
                    2.7,
                    0.6,
                    1.1,
                    1.18,
                    0.8,
                    0.9,
                    1.3,
                    0.8,
                    1.2,
                    0.6,
                    0.9,
                    1.7,
                    1.18,
                    1.8,
                    0.7,
                    1.1,
                    0.8,
                    0.7,
                    1.1,
                    0.8,
                    1,
                    1.18,
                    0.7,
                    1,
                    1.3,
                    1.1,
                    1.2,
                    1.1,
                    1.1,
                    1.18,
                    1.1,
                    1,
                    2.3,
                    1.3,
                    0.9,
                    1.1,
                    1.3,
                    1.2,
                    1.6,
                    1.2,
                    1,
                    0.7,
                    3.2,
                    0.9,
                    1.5,
                    1,
                    0.75,
                    0.9,
                    1.3,
                    0.8,
                    0.7,
                    3.4,
                    0.7,
                    6.1,
                    1.18,
                    1.3,
                    1.18,
                    1.18,
                    0.9,
                    2.1,
                    1,
                    0.8,
                    0.9,
                    0.9,
                    0.9,
                    0.7,
                    0.7,
                    1,
                    0.9,
                    0.9,
                    0.9,
                    1.18,
                    0.8,
                    1.7,
                    1.4,
                    1,
                    1.3,
                    1.1,
                    1.2,
                    0.8,
                    0.9,
                    0.7,
                    1,
                    0.8,
                    1.5,
                    0.9,
                    1.1,
                    0.8,
                    0.9,
                    1,
                    1,
                    1,
                    1.2,
                    0.7,
                    0.9,
                    1,
                    0.9,
                    2.1,
                    1.5,
                    0.7,
                    1.18,
                    1.18,
                    0.8,
                    1,
                    1.8,
                    0.7,
                    1,
                    0.9,
                    3.5,
                    0.7,
                    1,
                    0.8,
                    0.9,
                    1,
                    0.8,
                    1,
                    0.8,
                    1.4,
                    0.8,
                    1.3,
                    0.9,
                    1.1,
                    0.7,
                    1.1,
                    1.1,
                    0.8,
                    1,
                    1.4,
                    1.3,
                    1,
                    5,
                    1.2,
                    1.1,
                    0.9,
                    1.4,
                    1.1,
                    1.1,
                    1.1,
                    1.2,
                    1,
                    1.18,
                    1.3,
                    1.3,
                    1.1,
                    0.9,
                    1.8,
                    1.4,
                    2.4,
                    1,
                    1.2,
                    0.5,
                    0.8,
                    1,
                    1.2,
                    1,
                    1,
                    1.7,
                    1,
                    0.8,
                    0.7,
                    1,
                    0.7,
                    1,
                    1.2,
                    0.9,
                    1.7,
                    0.9,
                    1,
                    1.6,
                    0.9,
                    1.2,
                    0.7,
                    1,
                    0.8,
                    1.1,
                    1.1,
                    0.7,
                    1.3,
                    1,
                    2.7,
                    3.8,
                    1.1,
                    0.8,
                    1.2,
                    1.7,
                    1,
                    1.1,
                    0.9,
                    0.8,
                    1.4,
                    1,
                    0.9,
                    1.1,
                    1.2,
                    0.8,
                    1.4,
                    1.6
                  ],
                  "y0": " ",
                  "yaxis": "y2"
                },
                {
                  "alignmentgroup": "True",
                  "hovertemplate": "death_event=%{x}<br>Feature=age<br>Value=%{y}<extra></extra>",
                  "legendgroup": "0",
                  "marker": {
                    "color": "#EF553B"
                  },
                  "name": "0",
                  "notched": false,
                  "offsetgroup": "0",
                  "orientation": "v",
                  "showlegend": false,
                  "type": "box",
                  "x": [
                    0,
                    0,
                    0,
                    0,
                    0,
                    0,
                    0,
                    0,
                    0,
                    0,
                    0,
                    0,
                    0,
                    0,
                    0,
                    0,
                    0,
                    0,
                    0,
                    0,
                    0,
                    0,
                    0,
                    0,
                    0,
                    0,
                    0,
                    0,
                    0,
                    0,
                    0,
                    0,
                    0,
                    0,
                    0,
                    0,
                    0,
                    0,
                    0,
                    0,
                    0,
                    0,
                    0,
                    0,
                    0,
                    0,
                    0,
                    0,
                    0,
                    0,
                    0,
                    0,
                    0,
                    0,
                    0,
                    0,
                    0,
                    0,
                    0,
                    0,
                    0,
                    0,
                    0,
                    0,
                    0,
                    0,
                    0,
                    0,
                    0,
                    0,
                    0,
                    0,
                    0,
                    0,
                    0,
                    0,
                    0,
                    0,
                    0,
                    0,
                    0,
                    0,
                    0,
                    0,
                    0,
                    0,
                    0,
                    0,
                    0,
                    0,
                    0,
                    0,
                    0,
                    0,
                    0,
                    0,
                    0,
                    0,
                    0,
                    0,
                    0,
                    0,
                    0,
                    0,
                    0,
                    0,
                    0,
                    0,
                    0,
                    0,
                    0,
                    0,
                    0,
                    0,
                    0,
                    0,
                    0,
                    0,
                    0,
                    0,
                    0,
                    0,
                    0,
                    0,
                    0,
                    0,
                    0,
                    0,
                    0,
                    0,
                    0,
                    0,
                    0,
                    0,
                    0,
                    0,
                    0,
                    0,
                    0,
                    0,
                    0,
                    0,
                    0,
                    0,
                    0,
                    0,
                    0,
                    0,
                    0,
                    0,
                    0,
                    0,
                    0,
                    0,
                    0,
                    0,
                    0,
                    0,
                    0,
                    0,
                    0,
                    0,
                    0,
                    0,
                    0,
                    0,
                    0,
                    0,
                    0,
                    0,
                    0,
                    0,
                    0,
                    0,
                    0,
                    0,
                    0,
                    0,
                    0,
                    0,
                    0,
                    0,
                    0,
                    0,
                    0,
                    0,
                    0,
                    0,
                    0,
                    0,
                    0,
                    0,
                    0,
                    0,
                    0,
                    0,
                    0,
                    0,
                    0,
                    0,
                    0,
                    0,
                    0
                  ],
                  "x0": " ",
                  "xaxis": "x3",
                  "y": [
                    49,
                    65,
                    53,
                    50,
                    60,
                    72,
                    70,
                    60,
                    55,
                    45,
                    41,
                    58,
                    65,
                    70,
                    42,
                    75,
                    55,
                    70,
                    67,
                    79,
                    51,
                    55,
                    65,
                    44,
                    57,
                    70,
                    60,
                    42,
                    58,
                    58,
                    63,
                    70,
                    60,
                    63,
                    65,
                    75,
                    80,
                    42,
                    60,
                    55,
                    45,
                    63,
                    45,
                    55,
                    50,
                    60,
                    58,
                    60,
                    85,
                    65,
                    60,
                    66,
                    60,
                    60,
                    43,
                    58,
                    61,
                    53,
                    53,
                    60,
                    46,
                    63,
                    81,
                    75,
                    65,
                    68,
                    62,
                    50,
                    46,
                    50,
                    61,
                    50,
                    52,
                    64,
                    60,
                    62,
                    50,
                    50,
                    65,
                    60,
                    52,
                    50,
                    85,
                    59,
                    66,
                    45,
                    63,
                    53,
                    65,
                    70,
                    51,
                    52,
                    70,
                    50,
                    65,
                    60,
                    69,
                    49,
                    63,
                    55,
                    40,
                    60.667,
                    40,
                    80,
                    64,
                    50,
                    73,
                    45,
                    65,
                    50,
                    60,
                    63,
                    45,
                    70,
                    60,
                    78,
                    50,
                    40,
                    85,
                    60,
                    49,
                    70,
                    50,
                    78,
                    65,
                    73,
                    70,
                    68,
                    55,
                    65,
                    42,
                    47,
                    58,
                    75,
                    58,
                    55,
                    65,
                    72,
                    70,
                    40,
                    53,
                    53,
                    77,
                    75,
                    70,
                    65,
                    55,
                    70,
                    65,
                    40,
                    73,
                    54,
                    61,
                    64,
                    40,
                    53,
                    50,
                    55,
                    50,
                    70,
                    53,
                    52,
                    65,
                    58,
                    45,
                    53,
                    55,
                    62,
                    68,
                    61,
                    50,
                    56,
                    45,
                    40,
                    44,
                    51,
                    67,
                    42,
                    60,
                    45,
                    70,
                    70,
                    50,
                    55,
                    70,
                    70,
                    42,
                    65,
                    50,
                    55,
                    60,
                    45,
                    65,
                    90,
                    45,
                    60,
                    52,
                    63,
                    62,
                    55,
                    45,
                    45,
                    50
                  ],
                  "y0": " ",
                  "yaxis": "y3"
                }
              ],
              "layout": {
                "annotations": [
                  {
                    "font": {},
                    "showarrow": false,
                    "text": "ejection_fraction",
                    "x": 0.15999999999999998,
                    "xanchor": "center",
                    "xref": "paper",
                    "y": 1,
                    "yanchor": "bottom",
                    "yref": "paper"
                  },
                  {
                    "font": {},
                    "showarrow": false,
                    "text": "serum_creatinine",
                    "x": 0.49999999999999994,
                    "xanchor": "center",
                    "xref": "paper",
                    "y": 1,
                    "yanchor": "bottom",
                    "yref": "paper"
                  },
                  {
                    "font": {},
                    "showarrow": false,
                    "text": "age",
                    "x": 0.8399999999999999,
                    "xanchor": "center",
                    "xref": "paper",
                    "y": 1,
                    "yanchor": "bottom",
                    "yref": "paper"
                  }
                ],
                "boxmode": "overlay",
                "height": 400,
                "legend": {
                  "title": {
                    "text": "death_event"
                  },
                  "tracegroupgap": 0
                },
                "template": {
                  "data": {
                    "bar": [
                      {
                        "error_x": {
                          "color": "#2a3f5f"
                        },
                        "error_y": {
                          "color": "#2a3f5f"
                        },
                        "marker": {
                          "line": {
                            "color": "#E5ECF6",
                            "width": 0.5
                          },
                          "pattern": {
                            "fillmode": "overlay",
                            "size": 10,
                            "solidity": 0.2
                          }
                        },
                        "type": "bar"
                      }
                    ],
                    "barpolar": [
                      {
                        "marker": {
                          "line": {
                            "color": "#E5ECF6",
                            "width": 0.5
                          },
                          "pattern": {
                            "fillmode": "overlay",
                            "size": 10,
                            "solidity": 0.2
                          }
                        },
                        "type": "barpolar"
                      }
                    ],
                    "carpet": [
                      {
                        "aaxis": {
                          "endlinecolor": "#2a3f5f",
                          "gridcolor": "white",
                          "linecolor": "white",
                          "minorgridcolor": "white",
                          "startlinecolor": "#2a3f5f"
                        },
                        "baxis": {
                          "endlinecolor": "#2a3f5f",
                          "gridcolor": "white",
                          "linecolor": "white",
                          "minorgridcolor": "white",
                          "startlinecolor": "#2a3f5f"
                        },
                        "type": "carpet"
                      }
                    ],
                    "choropleth": [
                      {
                        "colorbar": {
                          "outlinewidth": 0,
                          "ticks": ""
                        },
                        "type": "choropleth"
                      }
                    ],
                    "contour": [
                      {
                        "colorbar": {
                          "outlinewidth": 0,
                          "ticks": ""
                        },
                        "colorscale": [
                          [
                            0,
                            "#0d0887"
                          ],
                          [
                            0.1111111111111111,
                            "#46039f"
                          ],
                          [
                            0.2222222222222222,
                            "#7201a8"
                          ],
                          [
                            0.3333333333333333,
                            "#9c179e"
                          ],
                          [
                            0.4444444444444444,
                            "#bd3786"
                          ],
                          [
                            0.5555555555555556,
                            "#d8576b"
                          ],
                          [
                            0.6666666666666666,
                            "#ed7953"
                          ],
                          [
                            0.7777777777777778,
                            "#fb9f3a"
                          ],
                          [
                            0.8888888888888888,
                            "#fdca26"
                          ],
                          [
                            1,
                            "#f0f921"
                          ]
                        ],
                        "type": "contour"
                      }
                    ],
                    "contourcarpet": [
                      {
                        "colorbar": {
                          "outlinewidth": 0,
                          "ticks": ""
                        },
                        "type": "contourcarpet"
                      }
                    ],
                    "heatmap": [
                      {
                        "colorbar": {
                          "outlinewidth": 0,
                          "ticks": ""
                        },
                        "colorscale": [
                          [
                            0,
                            "#0d0887"
                          ],
                          [
                            0.1111111111111111,
                            "#46039f"
                          ],
                          [
                            0.2222222222222222,
                            "#7201a8"
                          ],
                          [
                            0.3333333333333333,
                            "#9c179e"
                          ],
                          [
                            0.4444444444444444,
                            "#bd3786"
                          ],
                          [
                            0.5555555555555556,
                            "#d8576b"
                          ],
                          [
                            0.6666666666666666,
                            "#ed7953"
                          ],
                          [
                            0.7777777777777778,
                            "#fb9f3a"
                          ],
                          [
                            0.8888888888888888,
                            "#fdca26"
                          ],
                          [
                            1,
                            "#f0f921"
                          ]
                        ],
                        "type": "heatmap"
                      }
                    ],
                    "heatmapgl": [
                      {
                        "colorbar": {
                          "outlinewidth": 0,
                          "ticks": ""
                        },
                        "colorscale": [
                          [
                            0,
                            "#0d0887"
                          ],
                          [
                            0.1111111111111111,
                            "#46039f"
                          ],
                          [
                            0.2222222222222222,
                            "#7201a8"
                          ],
                          [
                            0.3333333333333333,
                            "#9c179e"
                          ],
                          [
                            0.4444444444444444,
                            "#bd3786"
                          ],
                          [
                            0.5555555555555556,
                            "#d8576b"
                          ],
                          [
                            0.6666666666666666,
                            "#ed7953"
                          ],
                          [
                            0.7777777777777778,
                            "#fb9f3a"
                          ],
                          [
                            0.8888888888888888,
                            "#fdca26"
                          ],
                          [
                            1,
                            "#f0f921"
                          ]
                        ],
                        "type": "heatmapgl"
                      }
                    ],
                    "histogram": [
                      {
                        "marker": {
                          "pattern": {
                            "fillmode": "overlay",
                            "size": 10,
                            "solidity": 0.2
                          }
                        },
                        "type": "histogram"
                      }
                    ],
                    "histogram2d": [
                      {
                        "colorbar": {
                          "outlinewidth": 0,
                          "ticks": ""
                        },
                        "colorscale": [
                          [
                            0,
                            "#0d0887"
                          ],
                          [
                            0.1111111111111111,
                            "#46039f"
                          ],
                          [
                            0.2222222222222222,
                            "#7201a8"
                          ],
                          [
                            0.3333333333333333,
                            "#9c179e"
                          ],
                          [
                            0.4444444444444444,
                            "#bd3786"
                          ],
                          [
                            0.5555555555555556,
                            "#d8576b"
                          ],
                          [
                            0.6666666666666666,
                            "#ed7953"
                          ],
                          [
                            0.7777777777777778,
                            "#fb9f3a"
                          ],
                          [
                            0.8888888888888888,
                            "#fdca26"
                          ],
                          [
                            1,
                            "#f0f921"
                          ]
                        ],
                        "type": "histogram2d"
                      }
                    ],
                    "histogram2dcontour": [
                      {
                        "colorbar": {
                          "outlinewidth": 0,
                          "ticks": ""
                        },
                        "colorscale": [
                          [
                            0,
                            "#0d0887"
                          ],
                          [
                            0.1111111111111111,
                            "#46039f"
                          ],
                          [
                            0.2222222222222222,
                            "#7201a8"
                          ],
                          [
                            0.3333333333333333,
                            "#9c179e"
                          ],
                          [
                            0.4444444444444444,
                            "#bd3786"
                          ],
                          [
                            0.5555555555555556,
                            "#d8576b"
                          ],
                          [
                            0.6666666666666666,
                            "#ed7953"
                          ],
                          [
                            0.7777777777777778,
                            "#fb9f3a"
                          ],
                          [
                            0.8888888888888888,
                            "#fdca26"
                          ],
                          [
                            1,
                            "#f0f921"
                          ]
                        ],
                        "type": "histogram2dcontour"
                      }
                    ],
                    "mesh3d": [
                      {
                        "colorbar": {
                          "outlinewidth": 0,
                          "ticks": ""
                        },
                        "type": "mesh3d"
                      }
                    ],
                    "parcoords": [
                      {
                        "line": {
                          "colorbar": {
                            "outlinewidth": 0,
                            "ticks": ""
                          }
                        },
                        "type": "parcoords"
                      }
                    ],
                    "pie": [
                      {
                        "automargin": true,
                        "type": "pie"
                      }
                    ],
                    "scatter": [
                      {
                        "fillpattern": {
                          "fillmode": "overlay",
                          "size": 10,
                          "solidity": 0.2
                        },
                        "type": "scatter"
                      }
                    ],
                    "scatter3d": [
                      {
                        "line": {
                          "colorbar": {
                            "outlinewidth": 0,
                            "ticks": ""
                          }
                        },
                        "marker": {
                          "colorbar": {
                            "outlinewidth": 0,
                            "ticks": ""
                          }
                        },
                        "type": "scatter3d"
                      }
                    ],
                    "scattercarpet": [
                      {
                        "marker": {
                          "colorbar": {
                            "outlinewidth": 0,
                            "ticks": ""
                          }
                        },
                        "type": "scattercarpet"
                      }
                    ],
                    "scattergeo": [
                      {
                        "marker": {
                          "colorbar": {
                            "outlinewidth": 0,
                            "ticks": ""
                          }
                        },
                        "type": "scattergeo"
                      }
                    ],
                    "scattergl": [
                      {
                        "marker": {
                          "colorbar": {
                            "outlinewidth": 0,
                            "ticks": ""
                          }
                        },
                        "type": "scattergl"
                      }
                    ],
                    "scattermapbox": [
                      {
                        "marker": {
                          "colorbar": {
                            "outlinewidth": 0,
                            "ticks": ""
                          }
                        },
                        "type": "scattermapbox"
                      }
                    ],
                    "scatterpolar": [
                      {
                        "marker": {
                          "colorbar": {
                            "outlinewidth": 0,
                            "ticks": ""
                          }
                        },
                        "type": "scatterpolar"
                      }
                    ],
                    "scatterpolargl": [
                      {
                        "marker": {
                          "colorbar": {
                            "outlinewidth": 0,
                            "ticks": ""
                          }
                        },
                        "type": "scatterpolargl"
                      }
                    ],
                    "scatterternary": [
                      {
                        "marker": {
                          "colorbar": {
                            "outlinewidth": 0,
                            "ticks": ""
                          }
                        },
                        "type": "scatterternary"
                      }
                    ],
                    "surface": [
                      {
                        "colorbar": {
                          "outlinewidth": 0,
                          "ticks": ""
                        },
                        "colorscale": [
                          [
                            0,
                            "#0d0887"
                          ],
                          [
                            0.1111111111111111,
                            "#46039f"
                          ],
                          [
                            0.2222222222222222,
                            "#7201a8"
                          ],
                          [
                            0.3333333333333333,
                            "#9c179e"
                          ],
                          [
                            0.4444444444444444,
                            "#bd3786"
                          ],
                          [
                            0.5555555555555556,
                            "#d8576b"
                          ],
                          [
                            0.6666666666666666,
                            "#ed7953"
                          ],
                          [
                            0.7777777777777778,
                            "#fb9f3a"
                          ],
                          [
                            0.8888888888888888,
                            "#fdca26"
                          ],
                          [
                            1,
                            "#f0f921"
                          ]
                        ],
                        "type": "surface"
                      }
                    ],
                    "table": [
                      {
                        "cells": {
                          "fill": {
                            "color": "#EBF0F8"
                          },
                          "line": {
                            "color": "white"
                          }
                        },
                        "header": {
                          "fill": {
                            "color": "#C8D4E3"
                          },
                          "line": {
                            "color": "white"
                          }
                        },
                        "type": "table"
                      }
                    ]
                  },
                  "layout": {
                    "annotationdefaults": {
                      "arrowcolor": "#2a3f5f",
                      "arrowhead": 0,
                      "arrowwidth": 1
                    },
                    "autotypenumbers": "strict",
                    "coloraxis": {
                      "colorbar": {
                        "outlinewidth": 0,
                        "ticks": ""
                      }
                    },
                    "colorscale": {
                      "diverging": [
                        [
                          0,
                          "#8e0152"
                        ],
                        [
                          0.1,
                          "#c51b7d"
                        ],
                        [
                          0.2,
                          "#de77ae"
                        ],
                        [
                          0.3,
                          "#f1b6da"
                        ],
                        [
                          0.4,
                          "#fde0ef"
                        ],
                        [
                          0.5,
                          "#f7f7f7"
                        ],
                        [
                          0.6,
                          "#e6f5d0"
                        ],
                        [
                          0.7,
                          "#b8e186"
                        ],
                        [
                          0.8,
                          "#7fbc41"
                        ],
                        [
                          0.9,
                          "#4d9221"
                        ],
                        [
                          1,
                          "#276419"
                        ]
                      ],
                      "sequential": [
                        [
                          0,
                          "#0d0887"
                        ],
                        [
                          0.1111111111111111,
                          "#46039f"
                        ],
                        [
                          0.2222222222222222,
                          "#7201a8"
                        ],
                        [
                          0.3333333333333333,
                          "#9c179e"
                        ],
                        [
                          0.4444444444444444,
                          "#bd3786"
                        ],
                        [
                          0.5555555555555556,
                          "#d8576b"
                        ],
                        [
                          0.6666666666666666,
                          "#ed7953"
                        ],
                        [
                          0.7777777777777778,
                          "#fb9f3a"
                        ],
                        [
                          0.8888888888888888,
                          "#fdca26"
                        ],
                        [
                          1,
                          "#f0f921"
                        ]
                      ],
                      "sequentialminus": [
                        [
                          0,
                          "#0d0887"
                        ],
                        [
                          0.1111111111111111,
                          "#46039f"
                        ],
                        [
                          0.2222222222222222,
                          "#7201a8"
                        ],
                        [
                          0.3333333333333333,
                          "#9c179e"
                        ],
                        [
                          0.4444444444444444,
                          "#bd3786"
                        ],
                        [
                          0.5555555555555556,
                          "#d8576b"
                        ],
                        [
                          0.6666666666666666,
                          "#ed7953"
                        ],
                        [
                          0.7777777777777778,
                          "#fb9f3a"
                        ],
                        [
                          0.8888888888888888,
                          "#fdca26"
                        ],
                        [
                          1,
                          "#f0f921"
                        ]
                      ]
                    },
                    "colorway": [
                      "#636efa",
                      "#EF553B",
                      "#00cc96",
                      "#ab63fa",
                      "#FFA15A",
                      "#19d3f3",
                      "#FF6692",
                      "#B6E880",
                      "#FF97FF",
                      "#FECB52"
                    ],
                    "font": {
                      "color": "#2a3f5f"
                    },
                    "geo": {
                      "bgcolor": "white",
                      "lakecolor": "white",
                      "landcolor": "#E5ECF6",
                      "showlakes": true,
                      "showland": true,
                      "subunitcolor": "white"
                    },
                    "hoverlabel": {
                      "align": "left"
                    },
                    "hovermode": "closest",
                    "mapbox": {
                      "style": "light"
                    },
                    "paper_bgcolor": "white",
                    "plot_bgcolor": "#E5ECF6",
                    "polar": {
                      "angularaxis": {
                        "gridcolor": "white",
                        "linecolor": "white",
                        "ticks": ""
                      },
                      "bgcolor": "#E5ECF6",
                      "radialaxis": {
                        "gridcolor": "white",
                        "linecolor": "white",
                        "ticks": ""
                      }
                    },
                    "scene": {
                      "xaxis": {
                        "backgroundcolor": "#E5ECF6",
                        "gridcolor": "white",
                        "gridwidth": 2,
                        "linecolor": "white",
                        "showbackground": true,
                        "ticks": "",
                        "zerolinecolor": "white"
                      },
                      "yaxis": {
                        "backgroundcolor": "#E5ECF6",
                        "gridcolor": "white",
                        "gridwidth": 2,
                        "linecolor": "white",
                        "showbackground": true,
                        "ticks": "",
                        "zerolinecolor": "white"
                      },
                      "zaxis": {
                        "backgroundcolor": "#E5ECF6",
                        "gridcolor": "white",
                        "gridwidth": 2,
                        "linecolor": "white",
                        "showbackground": true,
                        "ticks": "",
                        "zerolinecolor": "white"
                      }
                    },
                    "shapedefaults": {
                      "line": {
                        "color": "#2a3f5f"
                      }
                    },
                    "ternary": {
                      "aaxis": {
                        "gridcolor": "white",
                        "linecolor": "white",
                        "ticks": ""
                      },
                      "baxis": {
                        "gridcolor": "white",
                        "linecolor": "white",
                        "ticks": ""
                      },
                      "bgcolor": "#E5ECF6",
                      "caxis": {
                        "gridcolor": "white",
                        "linecolor": "white",
                        "ticks": ""
                      }
                    },
                    "title": {
                      "x": 0.05
                    },
                    "xaxis": {
                      "automargin": true,
                      "gridcolor": "white",
                      "linecolor": "white",
                      "ticks": "",
                      "title": {
                        "standoff": 15
                      },
                      "zerolinecolor": "white",
                      "zerolinewidth": 2
                    },
                    "yaxis": {
                      "automargin": true,
                      "gridcolor": "white",
                      "linecolor": "white",
                      "ticks": "",
                      "title": {
                        "standoff": 15
                      },
                      "zerolinecolor": "white",
                      "zerolinewidth": 2
                    }
                  }
                },
                "title": {
                  "text": "Key Feature Distributions by Outcome"
                },
                "xaxis": {
                  "anchor": "y",
                  "categoryarray": [
                    1,
                    0
                  ],
                  "categoryorder": "array",
                  "domain": [
                    0,
                    0.31999999999999995
                  ],
                  "title": {
                    "text": "death_event"
                  }
                },
                "xaxis2": {
                  "anchor": "y2",
                  "categoryarray": [
                    1,
                    0
                  ],
                  "categoryorder": "array",
                  "domain": [
                    0.33999999999999997,
                    0.6599999999999999
                  ],
                  "matches": "x",
                  "title": {
                    "text": "death_event"
                  }
                },
                "xaxis3": {
                  "anchor": "y3",
                  "categoryarray": [
                    1,
                    0
                  ],
                  "categoryorder": "array",
                  "domain": [
                    0.6799999999999999,
                    0.9999999999999999
                  ],
                  "matches": "x",
                  "title": {
                    "text": "death_event"
                  }
                },
                "yaxis": {
                  "anchor": "x",
                  "domain": [
                    0,
                    1
                  ],
                  "title": {
                    "text": "Value"
                  }
                },
                "yaxis2": {
                  "anchor": "x2",
                  "domain": [
                    0,
                    1
                  ],
                  "matches": "y",
                  "showticklabels": false
                },
                "yaxis3": {
                  "anchor": "x3",
                  "domain": [
                    0,
                    1
                  ],
                  "matches": "y",
                  "showticklabels": false
                }
              }
            }
          },
          "metadata": {},
          "output_type": "display_data"
        }
      ],
      "source": [
        "key_feats = [\"ejection_fraction\",\"serum_creatinine\",\"age\"]\n",
        "df_key = df.melt(id_vars=\"death_event\", value_vars=key_feats,\n",
        "                 var_name=\"Feature\", value_name=\"Value\")\n",
        "fig_box = px.box(\n",
        "    df_key, x=\"death_event\", y=\"Value\",\n",
        "    color=\"death_event\",\n",
        "    facet_col=\"Feature\", facet_col_wrap=3,\n",
        "    title=\"Key Feature Distributions by Outcome\",\n",
        "    height=400\n",
        ")\n",
        "fig_box.for_each_annotation(lambda ann: ann.update(text=ann.text.split(\"=\")[-1]))\n",
        "fig_box.show()\n",
        "\n"
      ]
    },
    {
      "cell_type": "markdown",
      "metadata": {
        "id": "ikhl7b67JdpP"
      },
      "source": [
        "*   Ejection Fraction\n",
        "\n",
        "  Median drops from ~38 % (survivors) to ~30 % (decedents). Survivors exhibit a wider range (17–80 %) versus decedents (14–70 %).\n",
        "\n",
        "*   Serum Creatinine\n",
        "\n",
        "  Decedents show a higher median (~1.3 mg/dL) versus survivors (~1.0 mg/dL), with pronounced upper‐tail outliers (up to ~9 mg/dL).\n",
        "\n",
        "*   Age\n",
        "\n",
        "  Median increases from ~60 years (survivors) to ~65 years (decedents). Upper outliers above 90 years concentrated among decedents.\n",
        "\n"
      ]
    },
    {
      "cell_type": "markdown",
      "metadata": {
        "id": "N6Tj-HvRKEWB"
      },
      "source": [
        "Lower ejection fraction, elevated serum creatinine, and advanced age each correlate with higher mortality risk."
      ]
    },
    {
      "cell_type": "markdown",
      "metadata": {
        "id": "VxZWc3A3H44m"
      },
      "source": [
        "###  **Correlation Matrix**\n",
        "\n",
        "Identification of multicollinearity and candidate features via heatmap of Pearson correlations.\n"
      ]
    },
    {
      "cell_type": "code",
      "execution_count": 12,
      "metadata": {
        "colab": {
          "base_uri": "https://localhost:8080/",
          "height": 617
        },
        "id": "wc77H-rBHzHo",
        "outputId": "9a162b9c-b799-45ce-dd1d-a5b25638c0be"
      },
      "outputs": [
        {
          "data": {
            "application/vnd.plotly.v1+json": {
              "config": {
                "plotlyServerURL": "https://plot.ly"
              },
              "data": [
                {
                  "coloraxis": "coloraxis",
                  "hovertemplate": "x: %{x}<br>y: %{y}<br>color: %{z}<extra></extra>",
                  "name": "0",
                  "texttemplate": "%{z:.2f}",
                  "type": "heatmap",
                  "x": [
                    "age",
                    "creatinine_phosphokinase",
                    "ejection_fraction",
                    "platelets",
                    "serum_creatinine",
                    "serum_sodium",
                    "time"
                  ],
                  "xaxis": "x",
                  "y": [
                    "age",
                    "creatinine_phosphokinase",
                    "ejection_fraction",
                    "platelets",
                    "serum_creatinine",
                    "serum_sodium",
                    "time"
                  ],
                  "yaxis": "y",
                  "z": [
                    [
                      1,
                      -0.08158389977909229,
                      0.06009836323291317,
                      -0.05235436663012704,
                      0.15918713328355003,
                      -0.045965840839560256,
                      -0.22406841997203494
                    ],
                    [
                      -0.08158389977909229,
                      1,
                      -0.04407955445671152,
                      0.024463388519574126,
                      -0.016408479546217346,
                      0.059550155833725735,
                      -0.00934565314298209
                    ],
                    [
                      0.06009836323291317,
                      -0.04407955445671152,
                      1,
                      0.07217746574435013,
                      -0.011302474995417082,
                      0.1759022820079626,
                      0.04172923548352845
                    ],
                    [
                      -0.05235436663012704,
                      0.024463388519574126,
                      0.07217746574435013,
                      1,
                      -0.04119807711256375,
                      0.06212461923840678,
                      0.010513908990174799
                    ],
                    [
                      0.15918713328355003,
                      -0.016408479546217346,
                      -0.011302474995417082,
                      -0.04119807711256375,
                      1,
                      -0.18909521009117405,
                      -0.14931541756792913
                    ],
                    [
                      -0.045965840839560256,
                      0.059550155833725735,
                      0.1759022820079626,
                      0.06212461923840678,
                      -0.18909521009117405,
                      1,
                      0.08764000017336739
                    ],
                    [
                      -0.22406841997203494,
                      -0.00934565314298209,
                      0.04172923548352845,
                      0.010513908990174799,
                      -0.14931541756792913,
                      0.08764000017336739,
                      1
                    ]
                  ]
                }
              ],
              "layout": {
                "coloraxis": {
                  "colorscale": [
                    [
                      0,
                      "rgb(5,48,97)"
                    ],
                    [
                      0.1,
                      "rgb(33,102,172)"
                    ],
                    [
                      0.2,
                      "rgb(67,147,195)"
                    ],
                    [
                      0.3,
                      "rgb(146,197,222)"
                    ],
                    [
                      0.4,
                      "rgb(209,229,240)"
                    ],
                    [
                      0.5,
                      "rgb(247,247,247)"
                    ],
                    [
                      0.6,
                      "rgb(253,219,199)"
                    ],
                    [
                      0.7,
                      "rgb(244,165,130)"
                    ],
                    [
                      0.8,
                      "rgb(214,96,77)"
                    ],
                    [
                      0.9,
                      "rgb(178,24,43)"
                    ],
                    [
                      1,
                      "rgb(103,0,31)"
                    ]
                  ]
                },
                "height": 600,
                "margin": {
                  "b": 20,
                  "l": 20,
                  "r": 20,
                  "t": 40
                },
                "template": {
                  "data": {
                    "bar": [
                      {
                        "error_x": {
                          "color": "#2a3f5f"
                        },
                        "error_y": {
                          "color": "#2a3f5f"
                        },
                        "marker": {
                          "line": {
                            "color": "#E5ECF6",
                            "width": 0.5
                          },
                          "pattern": {
                            "fillmode": "overlay",
                            "size": 10,
                            "solidity": 0.2
                          }
                        },
                        "type": "bar"
                      }
                    ],
                    "barpolar": [
                      {
                        "marker": {
                          "line": {
                            "color": "#E5ECF6",
                            "width": 0.5
                          },
                          "pattern": {
                            "fillmode": "overlay",
                            "size": 10,
                            "solidity": 0.2
                          }
                        },
                        "type": "barpolar"
                      }
                    ],
                    "carpet": [
                      {
                        "aaxis": {
                          "endlinecolor": "#2a3f5f",
                          "gridcolor": "white",
                          "linecolor": "white",
                          "minorgridcolor": "white",
                          "startlinecolor": "#2a3f5f"
                        },
                        "baxis": {
                          "endlinecolor": "#2a3f5f",
                          "gridcolor": "white",
                          "linecolor": "white",
                          "minorgridcolor": "white",
                          "startlinecolor": "#2a3f5f"
                        },
                        "type": "carpet"
                      }
                    ],
                    "choropleth": [
                      {
                        "colorbar": {
                          "outlinewidth": 0,
                          "ticks": ""
                        },
                        "type": "choropleth"
                      }
                    ],
                    "contour": [
                      {
                        "colorbar": {
                          "outlinewidth": 0,
                          "ticks": ""
                        },
                        "colorscale": [
                          [
                            0,
                            "#0d0887"
                          ],
                          [
                            0.1111111111111111,
                            "#46039f"
                          ],
                          [
                            0.2222222222222222,
                            "#7201a8"
                          ],
                          [
                            0.3333333333333333,
                            "#9c179e"
                          ],
                          [
                            0.4444444444444444,
                            "#bd3786"
                          ],
                          [
                            0.5555555555555556,
                            "#d8576b"
                          ],
                          [
                            0.6666666666666666,
                            "#ed7953"
                          ],
                          [
                            0.7777777777777778,
                            "#fb9f3a"
                          ],
                          [
                            0.8888888888888888,
                            "#fdca26"
                          ],
                          [
                            1,
                            "#f0f921"
                          ]
                        ],
                        "type": "contour"
                      }
                    ],
                    "contourcarpet": [
                      {
                        "colorbar": {
                          "outlinewidth": 0,
                          "ticks": ""
                        },
                        "type": "contourcarpet"
                      }
                    ],
                    "heatmap": [
                      {
                        "colorbar": {
                          "outlinewidth": 0,
                          "ticks": ""
                        },
                        "colorscale": [
                          [
                            0,
                            "#0d0887"
                          ],
                          [
                            0.1111111111111111,
                            "#46039f"
                          ],
                          [
                            0.2222222222222222,
                            "#7201a8"
                          ],
                          [
                            0.3333333333333333,
                            "#9c179e"
                          ],
                          [
                            0.4444444444444444,
                            "#bd3786"
                          ],
                          [
                            0.5555555555555556,
                            "#d8576b"
                          ],
                          [
                            0.6666666666666666,
                            "#ed7953"
                          ],
                          [
                            0.7777777777777778,
                            "#fb9f3a"
                          ],
                          [
                            0.8888888888888888,
                            "#fdca26"
                          ],
                          [
                            1,
                            "#f0f921"
                          ]
                        ],
                        "type": "heatmap"
                      }
                    ],
                    "heatmapgl": [
                      {
                        "colorbar": {
                          "outlinewidth": 0,
                          "ticks": ""
                        },
                        "colorscale": [
                          [
                            0,
                            "#0d0887"
                          ],
                          [
                            0.1111111111111111,
                            "#46039f"
                          ],
                          [
                            0.2222222222222222,
                            "#7201a8"
                          ],
                          [
                            0.3333333333333333,
                            "#9c179e"
                          ],
                          [
                            0.4444444444444444,
                            "#bd3786"
                          ],
                          [
                            0.5555555555555556,
                            "#d8576b"
                          ],
                          [
                            0.6666666666666666,
                            "#ed7953"
                          ],
                          [
                            0.7777777777777778,
                            "#fb9f3a"
                          ],
                          [
                            0.8888888888888888,
                            "#fdca26"
                          ],
                          [
                            1,
                            "#f0f921"
                          ]
                        ],
                        "type": "heatmapgl"
                      }
                    ],
                    "histogram": [
                      {
                        "marker": {
                          "pattern": {
                            "fillmode": "overlay",
                            "size": 10,
                            "solidity": 0.2
                          }
                        },
                        "type": "histogram"
                      }
                    ],
                    "histogram2d": [
                      {
                        "colorbar": {
                          "outlinewidth": 0,
                          "ticks": ""
                        },
                        "colorscale": [
                          [
                            0,
                            "#0d0887"
                          ],
                          [
                            0.1111111111111111,
                            "#46039f"
                          ],
                          [
                            0.2222222222222222,
                            "#7201a8"
                          ],
                          [
                            0.3333333333333333,
                            "#9c179e"
                          ],
                          [
                            0.4444444444444444,
                            "#bd3786"
                          ],
                          [
                            0.5555555555555556,
                            "#d8576b"
                          ],
                          [
                            0.6666666666666666,
                            "#ed7953"
                          ],
                          [
                            0.7777777777777778,
                            "#fb9f3a"
                          ],
                          [
                            0.8888888888888888,
                            "#fdca26"
                          ],
                          [
                            1,
                            "#f0f921"
                          ]
                        ],
                        "type": "histogram2d"
                      }
                    ],
                    "histogram2dcontour": [
                      {
                        "colorbar": {
                          "outlinewidth": 0,
                          "ticks": ""
                        },
                        "colorscale": [
                          [
                            0,
                            "#0d0887"
                          ],
                          [
                            0.1111111111111111,
                            "#46039f"
                          ],
                          [
                            0.2222222222222222,
                            "#7201a8"
                          ],
                          [
                            0.3333333333333333,
                            "#9c179e"
                          ],
                          [
                            0.4444444444444444,
                            "#bd3786"
                          ],
                          [
                            0.5555555555555556,
                            "#d8576b"
                          ],
                          [
                            0.6666666666666666,
                            "#ed7953"
                          ],
                          [
                            0.7777777777777778,
                            "#fb9f3a"
                          ],
                          [
                            0.8888888888888888,
                            "#fdca26"
                          ],
                          [
                            1,
                            "#f0f921"
                          ]
                        ],
                        "type": "histogram2dcontour"
                      }
                    ],
                    "mesh3d": [
                      {
                        "colorbar": {
                          "outlinewidth": 0,
                          "ticks": ""
                        },
                        "type": "mesh3d"
                      }
                    ],
                    "parcoords": [
                      {
                        "line": {
                          "colorbar": {
                            "outlinewidth": 0,
                            "ticks": ""
                          }
                        },
                        "type": "parcoords"
                      }
                    ],
                    "pie": [
                      {
                        "automargin": true,
                        "type": "pie"
                      }
                    ],
                    "scatter": [
                      {
                        "fillpattern": {
                          "fillmode": "overlay",
                          "size": 10,
                          "solidity": 0.2
                        },
                        "type": "scatter"
                      }
                    ],
                    "scatter3d": [
                      {
                        "line": {
                          "colorbar": {
                            "outlinewidth": 0,
                            "ticks": ""
                          }
                        },
                        "marker": {
                          "colorbar": {
                            "outlinewidth": 0,
                            "ticks": ""
                          }
                        },
                        "type": "scatter3d"
                      }
                    ],
                    "scattercarpet": [
                      {
                        "marker": {
                          "colorbar": {
                            "outlinewidth": 0,
                            "ticks": ""
                          }
                        },
                        "type": "scattercarpet"
                      }
                    ],
                    "scattergeo": [
                      {
                        "marker": {
                          "colorbar": {
                            "outlinewidth": 0,
                            "ticks": ""
                          }
                        },
                        "type": "scattergeo"
                      }
                    ],
                    "scattergl": [
                      {
                        "marker": {
                          "colorbar": {
                            "outlinewidth": 0,
                            "ticks": ""
                          }
                        },
                        "type": "scattergl"
                      }
                    ],
                    "scattermapbox": [
                      {
                        "marker": {
                          "colorbar": {
                            "outlinewidth": 0,
                            "ticks": ""
                          }
                        },
                        "type": "scattermapbox"
                      }
                    ],
                    "scatterpolar": [
                      {
                        "marker": {
                          "colorbar": {
                            "outlinewidth": 0,
                            "ticks": ""
                          }
                        },
                        "type": "scatterpolar"
                      }
                    ],
                    "scatterpolargl": [
                      {
                        "marker": {
                          "colorbar": {
                            "outlinewidth": 0,
                            "ticks": ""
                          }
                        },
                        "type": "scatterpolargl"
                      }
                    ],
                    "scatterternary": [
                      {
                        "marker": {
                          "colorbar": {
                            "outlinewidth": 0,
                            "ticks": ""
                          }
                        },
                        "type": "scatterternary"
                      }
                    ],
                    "surface": [
                      {
                        "colorbar": {
                          "outlinewidth": 0,
                          "ticks": ""
                        },
                        "colorscale": [
                          [
                            0,
                            "#0d0887"
                          ],
                          [
                            0.1111111111111111,
                            "#46039f"
                          ],
                          [
                            0.2222222222222222,
                            "#7201a8"
                          ],
                          [
                            0.3333333333333333,
                            "#9c179e"
                          ],
                          [
                            0.4444444444444444,
                            "#bd3786"
                          ],
                          [
                            0.5555555555555556,
                            "#d8576b"
                          ],
                          [
                            0.6666666666666666,
                            "#ed7953"
                          ],
                          [
                            0.7777777777777778,
                            "#fb9f3a"
                          ],
                          [
                            0.8888888888888888,
                            "#fdca26"
                          ],
                          [
                            1,
                            "#f0f921"
                          ]
                        ],
                        "type": "surface"
                      }
                    ],
                    "table": [
                      {
                        "cells": {
                          "fill": {
                            "color": "#EBF0F8"
                          },
                          "line": {
                            "color": "white"
                          }
                        },
                        "header": {
                          "fill": {
                            "color": "#C8D4E3"
                          },
                          "line": {
                            "color": "white"
                          }
                        },
                        "type": "table"
                      }
                    ]
                  },
                  "layout": {
                    "annotationdefaults": {
                      "arrowcolor": "#2a3f5f",
                      "arrowhead": 0,
                      "arrowwidth": 1
                    },
                    "autotypenumbers": "strict",
                    "coloraxis": {
                      "colorbar": {
                        "outlinewidth": 0,
                        "ticks": ""
                      }
                    },
                    "colorscale": {
                      "diverging": [
                        [
                          0,
                          "#8e0152"
                        ],
                        [
                          0.1,
                          "#c51b7d"
                        ],
                        [
                          0.2,
                          "#de77ae"
                        ],
                        [
                          0.3,
                          "#f1b6da"
                        ],
                        [
                          0.4,
                          "#fde0ef"
                        ],
                        [
                          0.5,
                          "#f7f7f7"
                        ],
                        [
                          0.6,
                          "#e6f5d0"
                        ],
                        [
                          0.7,
                          "#b8e186"
                        ],
                        [
                          0.8,
                          "#7fbc41"
                        ],
                        [
                          0.9,
                          "#4d9221"
                        ],
                        [
                          1,
                          "#276419"
                        ]
                      ],
                      "sequential": [
                        [
                          0,
                          "#0d0887"
                        ],
                        [
                          0.1111111111111111,
                          "#46039f"
                        ],
                        [
                          0.2222222222222222,
                          "#7201a8"
                        ],
                        [
                          0.3333333333333333,
                          "#9c179e"
                        ],
                        [
                          0.4444444444444444,
                          "#bd3786"
                        ],
                        [
                          0.5555555555555556,
                          "#d8576b"
                        ],
                        [
                          0.6666666666666666,
                          "#ed7953"
                        ],
                        [
                          0.7777777777777778,
                          "#fb9f3a"
                        ],
                        [
                          0.8888888888888888,
                          "#fdca26"
                        ],
                        [
                          1,
                          "#f0f921"
                        ]
                      ],
                      "sequentialminus": [
                        [
                          0,
                          "#0d0887"
                        ],
                        [
                          0.1111111111111111,
                          "#46039f"
                        ],
                        [
                          0.2222222222222222,
                          "#7201a8"
                        ],
                        [
                          0.3333333333333333,
                          "#9c179e"
                        ],
                        [
                          0.4444444444444444,
                          "#bd3786"
                        ],
                        [
                          0.5555555555555556,
                          "#d8576b"
                        ],
                        [
                          0.6666666666666666,
                          "#ed7953"
                        ],
                        [
                          0.7777777777777778,
                          "#fb9f3a"
                        ],
                        [
                          0.8888888888888888,
                          "#fdca26"
                        ],
                        [
                          1,
                          "#f0f921"
                        ]
                      ]
                    },
                    "colorway": [
                      "#636efa",
                      "#EF553B",
                      "#00cc96",
                      "#ab63fa",
                      "#FFA15A",
                      "#19d3f3",
                      "#FF6692",
                      "#B6E880",
                      "#FF97FF",
                      "#FECB52"
                    ],
                    "font": {
                      "color": "#2a3f5f"
                    },
                    "geo": {
                      "bgcolor": "white",
                      "lakecolor": "white",
                      "landcolor": "#E5ECF6",
                      "showlakes": true,
                      "showland": true,
                      "subunitcolor": "white"
                    },
                    "hoverlabel": {
                      "align": "left"
                    },
                    "hovermode": "closest",
                    "mapbox": {
                      "style": "light"
                    },
                    "paper_bgcolor": "white",
                    "plot_bgcolor": "#E5ECF6",
                    "polar": {
                      "angularaxis": {
                        "gridcolor": "white",
                        "linecolor": "white",
                        "ticks": ""
                      },
                      "bgcolor": "#E5ECF6",
                      "radialaxis": {
                        "gridcolor": "white",
                        "linecolor": "white",
                        "ticks": ""
                      }
                    },
                    "scene": {
                      "xaxis": {
                        "backgroundcolor": "#E5ECF6",
                        "gridcolor": "white",
                        "gridwidth": 2,
                        "linecolor": "white",
                        "showbackground": true,
                        "ticks": "",
                        "zerolinecolor": "white"
                      },
                      "yaxis": {
                        "backgroundcolor": "#E5ECF6",
                        "gridcolor": "white",
                        "gridwidth": 2,
                        "linecolor": "white",
                        "showbackground": true,
                        "ticks": "",
                        "zerolinecolor": "white"
                      },
                      "zaxis": {
                        "backgroundcolor": "#E5ECF6",
                        "gridcolor": "white",
                        "gridwidth": 2,
                        "linecolor": "white",
                        "showbackground": true,
                        "ticks": "",
                        "zerolinecolor": "white"
                      }
                    },
                    "shapedefaults": {
                      "line": {
                        "color": "#2a3f5f"
                      }
                    },
                    "ternary": {
                      "aaxis": {
                        "gridcolor": "white",
                        "linecolor": "white",
                        "ticks": ""
                      },
                      "baxis": {
                        "gridcolor": "white",
                        "linecolor": "white",
                        "ticks": ""
                      },
                      "bgcolor": "#E5ECF6",
                      "caxis": {
                        "gridcolor": "white",
                        "linecolor": "white",
                        "ticks": ""
                      }
                    },
                    "title": {
                      "x": 0.05
                    },
                    "xaxis": {
                      "automargin": true,
                      "gridcolor": "white",
                      "linecolor": "white",
                      "ticks": "",
                      "title": {
                        "standoff": 15
                      },
                      "zerolinecolor": "white",
                      "zerolinewidth": 2
                    },
                    "yaxis": {
                      "automargin": true,
                      "gridcolor": "white",
                      "linecolor": "white",
                      "ticks": "",
                      "title": {
                        "standoff": 15
                      },
                      "zerolinecolor": "white",
                      "zerolinewidth": 2
                    }
                  }
                },
                "title": {
                  "text": "Correlation Matrix of Continuous Features"
                },
                "width": 600,
                "xaxis": {
                  "anchor": "y",
                  "domain": [
                    0,
                    1
                  ]
                },
                "yaxis": {
                  "anchor": "x",
                  "autorange": "reversed",
                  "domain": [
                    0,
                    1
                  ]
                }
              }
            }
          },
          "metadata": {},
          "output_type": "display_data"
        }
      ],
      "source": [
        "corr = df[continuous_cols].corr()\n",
        "fig_corr = px.imshow(\n",
        "    corr,\n",
        "    text_auto=\".2f\",\n",
        "    aspect=\"auto\",\n",
        "    title=\"Correlation Matrix of Continuous Features\",\n",
        "    width=600, height=600,\n",
        "    color_continuous_scale='RdBu_r'\n",
        ")\n",
        "fig_corr.update_layout(margin=dict(l=20, r=20, t=40, b=20))\n",
        "fig_corr.show()"
      ]
    },
    {
      "cell_type": "markdown",
      "metadata": {
        "id": "IuLtY7_uKJxE"
      },
      "source": [
        "Weak overall correlations (< |0.2|) indicate low multicollinearity—favorable for most classifiers.\n",
        "\n",
        "Negative time–age correlation suggests older patients tended to have shorter follow‑up (perhaps due to earlier events).\n",
        "\n",
        "Positive creatinine–age link is modest, reflecting age‑related renal decline.\n",
        "\n",
        " Low feature interdependence simplifies interpretation (e.g., SHAP) and supports tree‑based or regularized linear methods without heavy de‑correlation."
      ]
    },
    {
      "cell_type": "code",
      "execution_count": null,
      "metadata": {
        "id": "RgqIpoZoH9Ho"
      },
      "outputs": [],
      "source": []
    }
  ],
  "metadata": {
    "colab": {
      "provenance": []
    },
    "kernelspec": {
      "display_name": "base",
      "language": "python",
      "name": "python3"
    },
    "language_info": {
      "codemirror_mode": {
        "name": "ipython",
        "version": 3
      },
      "file_extension": ".py",
      "mimetype": "text/x-python",
      "name": "python",
      "nbconvert_exporter": "python",
      "pygments_lexer": "ipython3",
      "version": "3.12.7"
    }
  },
  "nbformat": 4,
  "nbformat_minor": 0
}
